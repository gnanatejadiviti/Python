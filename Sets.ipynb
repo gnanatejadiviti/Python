{
 "cells": [
  {
   "cell_type": "markdown",
   "id": "ca857a52",
   "metadata": {},
   "source": [
    "#### Set"
   ]
  },
  {
   "cell_type": "code",
   "execution_count": 44,
   "id": "ac941b8b",
   "metadata": {},
   "outputs": [],
   "source": [
    "s1 = {1,2,True,False,'hello','zebra'}\n",
    "s1.add('banana')"
   ]
  },
  {
   "cell_type": "code",
   "execution_count": 45,
   "id": "4616e5cc",
   "metadata": {},
   "outputs": [
    {
     "data": {
      "text/plain": [
       "{1, 2, False, 'banana', 'hello', 'zebra'}"
      ]
     },
     "execution_count": 45,
     "metadata": {},
     "output_type": "execute_result"
    }
   ],
   "source": [
    "s1"
   ]
  },
  {
   "cell_type": "code",
   "execution_count": 46,
   "id": "369933ea",
   "metadata": {},
   "outputs": [],
   "source": [
    "s1.update([10,20],'a','A','b','B')"
   ]
  },
  {
   "cell_type": "code",
   "execution_count": 47,
   "id": "6b84699e",
   "metadata": {},
   "outputs": [
    {
     "data": {
      "text/plain": [
       "{1, 10, 2, 20, 'A', 'B', False, 'a', 'b', 'banana', 'hello', 'zebra'}"
      ]
     },
     "execution_count": 47,
     "metadata": {},
     "output_type": "execute_result"
    }
   ],
   "source": [
    "s1"
   ]
  },
  {
   "cell_type": "code",
   "execution_count": 20,
   "id": "e50417e0",
   "metadata": {},
   "outputs": [
    {
     "data": {
      "text/plain": [
       "{(1, 2, 3), 'abd'}"
      ]
     },
     "execution_count": 20,
     "metadata": {},
     "output_type": "execute_result"
    }
   ],
   "source": [
    "s2 = {'abd',(1,2,3)}\n",
    "s2                     # Dictionaries , lists , sets will not work in sets only tuple and strings works"
   ]
  },
  {
   "cell_type": "code",
   "execution_count": 21,
   "id": "c90f5c39",
   "metadata": {},
   "outputs": [
    {
     "data": {
      "text/plain": [
       "{1, 'spatraa'}"
      ]
     },
     "execution_count": 21,
     "metadata": {},
     "output_type": "execute_result"
    }
   ],
   "source": [
    "s3 = {1,'spatraa','spatraa',1}\n",
    "s3"
   ]
  },
  {
   "cell_type": "code",
   "execution_count": 23,
   "id": "d34a756b",
   "metadata": {},
   "outputs": [
    {
     "data": {
      "text/plain": [
       "{' ', 1, 'd', 'e', 'h', 'l', 'o', 'r', 'spatraa', 'w'}"
      ]
     },
     "execution_count": 23,
     "metadata": {},
     "output_type": "execute_result"
    }
   ],
   "source": [
    "s3.update('hello world')\n",
    "s3"
   ]
  },
  {
   "cell_type": "code",
   "execution_count": 29,
   "id": "5d656430",
   "metadata": {},
   "outputs": [
    {
     "data": {
      "text/plain": [
       "{1, 'abc', 'hello morning'}"
      ]
     },
     "execution_count": 29,
     "metadata": {},
     "output_type": "execute_result"
    }
   ],
   "source": [
    "s4 = {1,'hello morning'}\n",
    "s4.add('abc')\n",
    "s4"
   ]
  },
  {
   "cell_type": "code",
   "execution_count": 36,
   "id": "ed88b45b",
   "metadata": {},
   "outputs": [
    {
     "data": {
      "text/plain": [
       "{'hello morning'}"
      ]
     },
     "execution_count": 36,
     "metadata": {},
     "output_type": "execute_result"
    }
   ],
   "source": [
    "s4.remove(1)\n",
    "s4"
   ]
  },
  {
   "cell_type": "code",
   "execution_count": 39,
   "id": "d40bbf53",
   "metadata": {},
   "outputs": [
    {
     "data": {
      "text/plain": [
       "{1, 2, 3, 'Apple', 'Bike', 'Hello', 'banana', 'hay'}"
      ]
     },
     "execution_count": 39,
     "metadata": {},
     "output_type": "execute_result"
    }
   ],
   "source": [
    "s5 = {1,2,3,'Hello','hay','Apple','banana'}\n",
    "s5.add('Bike')\n"
   ]
  },
  {
   "cell_type": "code",
   "execution_count": 40,
   "id": "92419e3f",
   "metadata": {},
   "outputs": [
    {
     "data": {
      "text/plain": [
       "{1, 2, 3, 'Apple', 'Bike', 'Hello', 'banana'}"
      ]
     },
     "execution_count": 40,
     "metadata": {},
     "output_type": "execute_result"
    }
   ],
   "source": [
    "s5.remove('hay')\n",
    "s5"
   ]
  },
  {
   "cell_type": "code",
   "execution_count": 42,
   "id": "dd48eccf",
   "metadata": {},
   "outputs": [],
   "source": [
    "s5.remove('banana')           # If the element is not found in set then remove will raise keyword error"
   ]
  },
  {
   "cell_type": "code",
   "execution_count": 43,
   "id": "8f832421",
   "metadata": {},
   "outputs": [
    {
     "data": {
      "text/plain": [
       "{1, 2, 3, 'Apple', 'Bike', 'Hello'}"
      ]
     },
     "execution_count": 43,
     "metadata": {},
     "output_type": "execute_result"
    }
   ],
   "source": [
    "s5"
   ]
  },
  {
   "cell_type": "code",
   "execution_count": 48,
   "id": "4612e6a5",
   "metadata": {},
   "outputs": [
    {
     "data": {
      "text/plain": [
       "{1, 2, 3, 'Apple', 'Bike', 'Hello'}"
      ]
     },
     "execution_count": 48,
     "metadata": {},
     "output_type": "execute_result"
    }
   ],
   "source": [
    "s5.discard('banana')          # But discard doesn't show any error when there is no element present in the set , it returns the exact set given as input\n",
    "s5"
   ]
  },
  {
   "cell_type": "code",
   "execution_count": 49,
   "id": "0a71ad21",
   "metadata": {},
   "outputs": [
    {
     "data": {
      "text/plain": [
       "1"
      ]
     },
     "execution_count": 49,
     "metadata": {},
     "output_type": "execute_result"
    }
   ],
   "source": [
    "{1,2,3}.pop()"
   ]
  },
  {
   "cell_type": "code",
   "execution_count": 50,
   "id": "51d194e5",
   "metadata": {},
   "outputs": [
    {
     "data": {
      "text/plain": [
       "{1, 11.23, 2, 'abc', 'cbda'}"
      ]
     },
     "execution_count": 50,
     "metadata": {},
     "output_type": "execute_result"
    }
   ],
   "source": [
    "s6 = {1,'abc',2,'cbda',11.23}\n",
    "s6"
   ]
  },
  {
   "cell_type": "code",
   "execution_count": 51,
   "id": "98320ebd",
   "metadata": {},
   "outputs": [
    {
     "data": {
      "text/plain": [
       "1"
      ]
     },
     "execution_count": 51,
     "metadata": {},
     "output_type": "execute_result"
    }
   ],
   "source": [
    "s6.pop()"
   ]
  },
  {
   "cell_type": "code",
   "execution_count": 52,
   "id": "3ceafc2c",
   "metadata": {},
   "outputs": [
    {
     "data": {
      "text/plain": [
       "{11.23, 2, 'abc', 'cbda'}"
      ]
     },
     "execution_count": 52,
     "metadata": {},
     "output_type": "execute_result"
    }
   ],
   "source": [
    "s6"
   ]
  },
  {
   "cell_type": "code",
   "execution_count": 53,
   "id": "2b221129",
   "metadata": {},
   "outputs": [
    {
     "data": {
      "text/plain": [
       "{1, 1.33, 2, 3, 4, 5, 7, 9, 67.33, 77.1}"
      ]
     },
     "execution_count": 53,
     "metadata": {},
     "output_type": "execute_result"
    }
   ],
   "source": [
    "s7 = {1,3,2,5,7,9,4,3,7,3,1.33,67.33,77.1}\n",
    "s7"
   ]
  },
  {
   "cell_type": "code",
   "execution_count": 54,
   "id": "5649138e",
   "metadata": {},
   "outputs": [
    {
     "data": {
      "text/plain": [
       "{1, 1.33, 2, 3, 4, 5, 7, 9, 10, 67.33, 77.1}"
      ]
     },
     "execution_count": 54,
     "metadata": {},
     "output_type": "execute_result"
    }
   ],
   "source": [
    "s7.add(10)\n",
    "s7"
   ]
  },
  {
   "cell_type": "code",
   "execution_count": 55,
   "id": "13c65b18",
   "metadata": {},
   "outputs": [
    {
     "data": {
      "text/plain": [
       "1"
      ]
     },
     "execution_count": 55,
     "metadata": {},
     "output_type": "execute_result"
    }
   ],
   "source": [
    "s7.pop()"
   ]
  },
  {
   "cell_type": "code",
   "execution_count": 58,
   "id": "8139dd90",
   "metadata": {},
   "outputs": [
    {
     "data": {
      "text/plain": [
       "{1, 1.33, 2, 3, 4, 5, 7, 9, 10, 67.33, 77.1}"
      ]
     },
     "execution_count": 58,
     "metadata": {},
     "output_type": "execute_result"
    }
   ],
   "source": [
    "s7.add(1)\n",
    "s7"
   ]
  },
  {
   "cell_type": "code",
   "execution_count": 62,
   "id": "3438ba18",
   "metadata": {},
   "outputs": [
    {
     "data": {
      "text/plain": [
       "{0.33, 1, 2, 4, 'abc'}"
      ]
     },
     "execution_count": 62,
     "metadata": {},
     "output_type": "execute_result"
    }
   ],
   "source": [
    "s8 = {2,4,'abc',1,0.33,2}\n",
    "s8"
   ]
  },
  {
   "cell_type": "code",
   "execution_count": 60,
   "id": "f03b1f3e",
   "metadata": {},
   "outputs": [
    {
     "data": {
      "text/plain": [
       "0.33"
      ]
     },
     "execution_count": 60,
     "metadata": {},
     "output_type": "execute_result"
    }
   ],
   "source": [
    "s8.pop()"
   ]
  },
  {
   "cell_type": "code",
   "execution_count": 65,
   "id": "7f1dd943",
   "metadata": {},
   "outputs": [
    {
     "data": {
      "text/plain": [
       "0"
      ]
     },
     "execution_count": 65,
     "metadata": {},
     "output_type": "execute_result"
    }
   ],
   "source": [
    "s9 = {4,2,0,1}\n",
    "s9.pop()"
   ]
  },
  {
   "cell_type": "code",
   "execution_count": 67,
   "id": "67fe8cef",
   "metadata": {},
   "outputs": [
    {
     "data": {
      "text/plain": [
       "1"
      ]
     },
     "execution_count": 67,
     "metadata": {},
     "output_type": "execute_result"
    }
   ],
   "source": [
    "s9.pop()"
   ]
  },
  {
   "cell_type": "code",
   "execution_count": 68,
   "id": "36d38cb6",
   "metadata": {},
   "outputs": [
    {
     "data": {
      "text/plain": [
       "{True, 2}"
      ]
     },
     "execution_count": 68,
     "metadata": {},
     "output_type": "execute_result"
    }
   ],
   "source": [
    "s10 = {True,2}\n",
    "s10"
   ]
  },
  {
   "cell_type": "code",
   "execution_count": 69,
   "id": "50f17d05",
   "metadata": {},
   "outputs": [
    {
     "data": {
      "text/plain": [
       "{1, 2, 3, 4, 5}"
      ]
     },
     "execution_count": 69,
     "metadata": {},
     "output_type": "execute_result"
    }
   ],
   "source": [
    "set1 = {1,2,3}\n",
    "set2 = {3,4,5}\n",
    "set1.union(set2)"
   ]
  },
  {
   "cell_type": "code",
   "execution_count": 70,
   "id": "cdc972ee",
   "metadata": {},
   "outputs": [
    {
     "data": {
      "text/plain": [
       "{1, 2, 4, 'a', 'c'}"
      ]
     },
     "execution_count": 70,
     "metadata": {},
     "output_type": "execute_result"
    }
   ],
   "source": [
    "set3 = {'a','b','c',1,2,4}\n",
    "set4 = {1,'a',4,'c','d',2}\n",
    "set3.intersection(set4)"
   ]
  },
  {
   "cell_type": "code",
   "execution_count": 112,
   "id": "c01b7bab",
   "metadata": {},
   "outputs": [
    {
     "name": "stdout",
     "output_type": "stream",
     "text": [
      "3 2 1\n"
     ]
    }
   ],
   "source": [
    "num1 = 1,2,3\n",
    "num2 = 4,3,5\n",
    "for i in num1:\n",
    "    if i in num2:\n",
    "        print(i,num1.index(i),num2.index(i))"
   ]
  },
  {
   "cell_type": "code",
   "execution_count": 108,
   "id": "f4a389a5",
   "metadata": {},
   "outputs": [
    {
     "name": "stdout",
     "output_type": "stream",
     "text": [
      "Yes\n",
      "3\n"
     ]
    }
   ],
   "source": [
    "num_list1 = [1,2,3]\n",
    "num_list2 = [3,4,5]\n",
    "for i in num_list1:\n",
    "    if i in num_list2:\n",
    "        print('Yes')\n",
    "print(i)"
   ]
  },
  {
   "cell_type": "code",
   "execution_count": null,
   "id": "4cf61546",
   "metadata": {},
   "outputs": [],
   "source": []
  }
 ],
 "metadata": {
  "kernelspec": {
   "display_name": "Python 3 (ipykernel)",
   "language": "python",
   "name": "python3"
  },
  "language_info": {
   "codemirror_mode": {
    "name": "ipython",
    "version": 3
   },
   "file_extension": ".py",
   "mimetype": "text/x-python",
   "name": "python",
   "nbconvert_exporter": "python",
   "pygments_lexer": "ipython3",
   "version": "3.11.5"
  }
 },
 "nbformat": 4,
 "nbformat_minor": 5
}
