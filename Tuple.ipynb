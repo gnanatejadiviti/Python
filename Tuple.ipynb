{
 "cells": [
  {
   "cell_type": "markdown",
   "id": "763c312d",
   "metadata": {},
   "source": [
    "##### How to read the tuple"
   ]
  },
  {
   "cell_type": "markdown",
   "id": "11e1322f",
   "metadata": {},
   "source": [
    "- help(tuple)\n",
    "    - If no argument is given, the constructor returns an empty tuple.\n",
    "    - If iterable is specified the tuple is initialized from iterable's items.\n",
    "    - If the argument is a tuple, the return value is the same object."
   ]
  },
  {
   "cell_type": "code",
   "execution_count": 5,
   "id": "4dfe5555",
   "metadata": {},
   "outputs": [
    {
     "name": "stdout",
     "output_type": "stream",
     "text": [
      "<class 'tuple'>\n"
     ]
    },
    {
     "data": {
      "text/plain": [
       "()"
      ]
     },
     "execution_count": 5,
     "metadata": {},
     "output_type": "execute_result"
    }
   ],
   "source": [
    "x = ()\n",
    "print(type(x))\n",
    "x"
   ]
  },
  {
   "cell_type": "code",
   "execution_count": 7,
   "id": "9316f093",
   "metadata": {},
   "outputs": [
    {
     "name": "stdout",
     "output_type": "stream",
     "text": [
      "1\n",
      "2\n",
      "3\n"
     ]
    }
   ],
   "source": [
    "y = (1,2,3)\n",
    "for i in y:\n",
    "    print(i)        # Tuple is be iterable"
   ]
  },
  {
   "cell_type": "markdown",
   "id": "38388dbe",
   "metadata": {},
   "source": [
    "##### Different ways to read tuple"
   ]
  },
  {
   "cell_type": "code",
   "execution_count": 8,
   "id": "da89859a",
   "metadata": {},
   "outputs": [
    {
     "name": "stdout",
     "output_type": "stream",
     "text": [
      "(1, 2, 3, 'a', 'b', 'c')\n"
     ]
    }
   ],
   "source": [
    "tup1 = (1,2,3,'a','b','c')\n",
    "print(tup1)"
   ]
  },
  {
   "cell_type": "code",
   "execution_count": 10,
   "id": "5d65109a",
   "metadata": {},
   "outputs": [
    {
     "name": "stdout",
     "output_type": "stream",
     "text": [
      "('a', 'b', True, (1+2j))\n"
     ]
    }
   ],
   "source": [
    "tup2 = ('a','b',True,1+2j)\n",
    "print(tup2)"
   ]
  },
  {
   "cell_type": "code",
   "execution_count": 13,
   "id": "7612405d",
   "metadata": {},
   "outputs": [
    {
     "name": "stdout",
     "output_type": "stream",
     "text": [
      "(1, 2, 2, 2, 'a', 'a', True, True, (10+1j), 0j)\n"
     ]
    }
   ],
   "source": [
    "tup3 = (1,2,2,2,'a','a',True,True,10+1j,0j)\n",
    "print(tup3)                                              # Tuple supports duplicate values"
   ]
  },
  {
   "cell_type": "code",
   "execution_count": 14,
   "id": "31b8cabe",
   "metadata": {},
   "outputs": [
    {
     "name": "stdout",
     "output_type": "stream",
     "text": [
      "(1, 2, 3, ('A', 'B'))\n"
     ]
    }
   ],
   "source": [
    "tup4 = (1,2,3,('A','B'))\n",
    "print(tup4)                                              # Tuple in tuple is also readable"
   ]
  },
  {
   "cell_type": "code",
   "execution_count": 22,
   "id": "46b21fc2",
   "metadata": {},
   "outputs": [
    {
     "name": "stdout",
     "output_type": "stream",
     "text": [
      "('a', 'b', 'c', 'd', 1, 2, 3, 4)\n"
     ]
    }
   ],
   "source": [
    "tup5 = (_)\n",
    "print(tup5)"
   ]
  },
  {
   "cell_type": "code",
   "execution_count": 23,
   "id": "9a3fcc85",
   "metadata": {},
   "outputs": [
    {
     "data": {
      "text/plain": [
       "('a', 'b', 'c', 'd', (1, 2, 3, 4))"
      ]
     },
     "execution_count": 23,
     "metadata": {},
     "output_type": "execute_result"
    }
   ],
   "source": [
    "tup6 = ('a','b','c','d',(1,2,3,4))\n",
    "tup6"
   ]
  },
  {
   "cell_type": "code",
   "execution_count": 24,
   "id": "3925ac04",
   "metadata": {},
   "outputs": [
    {
     "data": {
      "text/plain": [
       "('a', 'b', 'c', 'd', (1, 2, 3, 4))"
      ]
     },
     "execution_count": 24,
     "metadata": {},
     "output_type": "execute_result"
    }
   ],
   "source": [
    "tup7 = (_)\n",
    "tup7                                                     # When underscore is used as tuple , it returns previous output"
   ]
  },
  {
   "cell_type": "markdown",
   "id": "98b854b2",
   "metadata": {},
   "source": [
    "#####  len max min sum reversed sorted\n"
   ]
  },
  {
   "cell_type": "markdown",
   "id": "99bf91a7",
   "metadata": {},
   "source": [
    "- len"
   ]
  },
  {
   "cell_type": "code",
   "execution_count": 25,
   "id": "e2763df9",
   "metadata": {},
   "outputs": [
    {
     "data": {
      "text/plain": [
       "7"
      ]
     },
     "execution_count": 25,
     "metadata": {},
     "output_type": "execute_result"
    }
   ],
   "source": [
    "tupl1 = (1,2,3,4,'a','b','C')\n",
    "len(tupl1)"
   ]
  },
  {
   "cell_type": "code",
   "execution_count": 26,
   "id": "62ddd9e6",
   "metadata": {},
   "outputs": [
    {
     "data": {
      "text/plain": [
       "5"
      ]
     },
     "execution_count": 26,
     "metadata": {},
     "output_type": "execute_result"
    }
   ],
   "source": [
    "tupl2 = (1,2,3,4,('a','b','C'))\n",
    "len(tupl2)"
   ]
  },
  {
   "cell_type": "code",
   "execution_count": 27,
   "id": "d143d8bb",
   "metadata": {},
   "outputs": [
    {
     "data": {
      "text/plain": [
       "7"
      ]
     },
     "execution_count": 27,
     "metadata": {},
     "output_type": "execute_result"
    }
   ],
   "source": [
    "tupl3 = ((1,2,3,4,'a','b','C'))\n",
    "len(tupl3)                                      # Length of Tuple in tuple gives total elements in tuple"
   ]
  },
  {
   "cell_type": "code",
   "execution_count": 86,
   "id": "b7f8e183",
   "metadata": {},
   "outputs": [
    {
     "name": "stdout",
     "output_type": "stream",
     "text": [
      "0\n",
      "1\n",
      "2\n",
      "3\n"
     ]
    }
   ],
   "source": [
    "tupl4 = ('Hello','How','You','?')\n",
    "n = len(tupl4)\n",
    "for i in range(n):\n",
    "    print(i)"
   ]
  },
  {
   "cell_type": "markdown",
   "id": "444eb879",
   "metadata": {},
   "source": [
    "- max and min"
   ]
  },
  {
   "cell_type": "code",
   "execution_count": 30,
   "id": "4f811263",
   "metadata": {},
   "outputs": [
    {
     "data": {
      "text/plain": [
       "(4, 1)"
      ]
     },
     "execution_count": 30,
     "metadata": {},
     "output_type": "execute_result"
    }
   ],
   "source": [
    "t1 = (1,2,3,4)\n",
    "max(t1),min(t1)"
   ]
  },
  {
   "cell_type": "code",
   "execution_count": 31,
   "id": "455d2f87",
   "metadata": {},
   "outputs": [
    {
     "data": {
      "text/plain": [
       "('b', 'C')"
      ]
     },
     "execution_count": 31,
     "metadata": {},
     "output_type": "execute_result"
    }
   ],
   "source": [
    "t2 = ('a','b','C','Z')\n",
    "max(t2),min(t2)                                    # a = 97 , b = 98 and C = 67 , Z = 90"
   ]
  },
  {
   "cell_type": "code",
   "execution_count": 32,
   "id": "d797047f",
   "metadata": {},
   "outputs": [
    {
     "data": {
      "text/plain": [
       "('z', 'a')"
      ]
     },
     "execution_count": 32,
     "metadata": {},
     "output_type": "execute_result"
    }
   ],
   "source": [
    "t3 = ('a','b','c','z')\n",
    "max(t3),min(t3)"
   ]
  },
  {
   "cell_type": "code",
   "execution_count": 39,
   "id": "70886750",
   "metadata": {},
   "outputs": [
    {
     "data": {
      "text/plain": [
       "('Z', '!')"
      ]
     },
     "execution_count": 39,
     "metadata": {},
     "output_type": "execute_result"
    }
   ],
   "source": [
    "t4 = ('A','B','C','Z','1+0j','1','!')\n",
    "max(t4),min(t4)"
   ]
  },
  {
   "cell_type": "markdown",
   "id": "bb8c80a2",
   "metadata": {},
   "source": [
    "- Sum"
   ]
  },
  {
   "cell_type": "code",
   "execution_count": 46,
   "id": "134d38e7",
   "metadata": {},
   "outputs": [
    {
     "data": {
      "text/plain": [
       "(1, 2, 3, 4, 5, 6)"
      ]
     },
     "execution_count": 46,
     "metadata": {},
     "output_type": "execute_result"
    }
   ],
   "source": [
    "tp1 = (1,2,3)\n",
    "tp2 = (4,5,6)\n",
    "(tp1+tp2)"
   ]
  },
  {
   "cell_type": "code",
   "execution_count": 2,
   "id": "59828074",
   "metadata": {},
   "outputs": [
    {
     "data": {
      "text/plain": [
       "(6, 15)"
      ]
     },
     "execution_count": 2,
     "metadata": {},
     "output_type": "execute_result"
    }
   ],
   "source": [
    "tp1 = (1,2,3)\n",
    "tp2 = (4,5,6)\n",
    "sum(tp1),sum(tp2)"
   ]
  },
  {
   "cell_type": "code",
   "execution_count": 55,
   "id": "0a267378",
   "metadata": {},
   "outputs": [
    {
     "name": "stdout",
     "output_type": "stream",
     "text": [
      "(1, 2, 3)\n"
     ]
    },
    {
     "data": {
      "text/plain": [
       "(3, 1, 6)"
      ]
     },
     "execution_count": 55,
     "metadata": {},
     "output_type": "execute_result"
    }
   ],
   "source": [
    "print(y)\n",
    "max(y),min(y),sum(y)"
   ]
  },
  {
   "cell_type": "code",
   "execution_count": 58,
   "id": "05235c3c",
   "metadata": {},
   "outputs": [
    {
     "name": "stdout",
     "output_type": "stream",
     "text": [
      "(1, 2, 3, 4, 'a', 'b', 'C')\n"
     ]
    }
   ],
   "source": [
    "print(tupl1)\n",
    "max(tupl1),min(tupl1),sum(tupl1)               # '>' not supported between instances of 'str' and 'int'"
   ]
  },
  {
   "cell_type": "code",
   "execution_count": 61,
   "id": "4e8551c2",
   "metadata": {},
   "outputs": [
    {
     "name": "stdout",
     "output_type": "stream",
     "text": [
      "(1, 2, 3, 4, ('a', 'b', 'C'))\n"
     ]
    }
   ],
   "source": [
    "print(tupl2)\n",
    "max(tupl2),min(tupl2),sum(tupl2)               # '>' not supported between instances of 'tuple' and 'int'"
   ]
  },
  {
   "cell_type": "code",
   "execution_count": 67,
   "id": "3f71dbd9",
   "metadata": {},
   "outputs": [
    {
     "name": "stdout",
     "output_type": "stream",
     "text": [
      "(1, 2, 2, 2, True, True, (10+1j), 0j)\n"
     ]
    }
   ],
   "source": [
    "tup3 = (1, 2, 2, 2, True, True, (10+1j), 0j)\n",
    "print(tup3)\n",
    "max(tup3),min(tup3),sum(tup3)                 # '>' not supported between instances of 'complex' and 'int'"
   ]
  },
  {
   "cell_type": "code",
   "execution_count": 68,
   "id": "f3315e90",
   "metadata": {},
   "outputs": [
    {
     "name": "stdout",
     "output_type": "stream",
     "text": [
      "(1, 2, 3, True, False)\n"
     ]
    },
    {
     "data": {
      "text/plain": [
       "(3, False, 7)"
      ]
     },
     "execution_count": 68,
     "metadata": {},
     "output_type": "execute_result"
    }
   ],
   "source": [
    "tup4 = (1,2,3,True,False)\n",
    "print(tup4)\n",
    "max(tup4),min(tup4),sum(tup4)                # True = 1 and False = 0"
   ]
  },
  {
   "cell_type": "markdown",
   "id": "272cc9fe",
   "metadata": {},
   "source": [
    "- Reversed"
   ]
  },
  {
   "cell_type": "code",
   "execution_count": 71,
   "id": "58396e38",
   "metadata": {},
   "outputs": [
    {
     "name": "stdout",
     "output_type": "stream",
     "text": [
      "c\n",
      "3\n",
      "b\n",
      "2\n",
      "a\n",
      "1\n"
     ]
    }
   ],
   "source": [
    "tp1 = (1,'a',2,'b',3,'c')\n",
    "for i in reversed(tp1):\n",
    "    print(i)"
   ]
  },
  {
   "cell_type": "markdown",
   "id": "06e01ca9",
   "metadata": {},
   "source": [
    "- Sorted"
   ]
  },
  {
   "cell_type": "code",
   "execution_count": 78,
   "id": "d7f95dfb",
   "metadata": {},
   "outputs": [
    {
     "data": {
      "text/plain": [
       "[3, 2, 1, True]"
      ]
     },
     "execution_count": 78,
     "metadata": {},
     "output_type": "execute_result"
    }
   ],
   "source": [
    "tp2 = (1,2,3,True)\n",
    "sorted(tp2)                  # '>' is not supported btw ----------1) str and int\n",
    "                             #                                    2) tuple ans int\n",
    "                             #                                    3) complex and int"
   ]
  },
  {
   "cell_type": "markdown",
   "id": "0531bc57",
   "metadata": {},
   "source": [
    "##### Concatenation"
   ]
  },
  {
   "cell_type": "code",
   "execution_count": 80,
   "id": "87edd7ba",
   "metadata": {},
   "outputs": [
    {
     "data": {
      "text/plain": [
       "(1, 2, 3, 4, 5, 6)"
      ]
     },
     "execution_count": 80,
     "metadata": {},
     "output_type": "execute_result"
    }
   ],
   "source": [
    "tu1 = (1,2,3)\n",
    "tu2 = (4,5,6)\n",
    "tu1+tu2"
   ]
  },
  {
   "cell_type": "code",
   "execution_count": 81,
   "id": "e29bd2a9",
   "metadata": {},
   "outputs": [
    {
     "data": {
      "text/plain": [
       "('a', 'b', 'c', 'd', 'e', 'f', 'g')"
      ]
     },
     "execution_count": 81,
     "metadata": {},
     "output_type": "execute_result"
    }
   ],
   "source": [
    "tu3 = ('a','b','c','d')\n",
    "tu4 = ('e','f','g')\n",
    "tu3+tu4"
   ]
  },
  {
   "cell_type": "code",
   "execution_count": 82,
   "id": "9654e2fa",
   "metadata": {},
   "outputs": [
    {
     "data": {
      "text/plain": [
       "(1, 2, 'a', 'b', True, (10+0j), 'hello', 'hai')"
      ]
     },
     "execution_count": 82,
     "metadata": {},
     "output_type": "execute_result"
    }
   ],
   "source": [
    "tu5 = (1,2,'a','b',True,10+0j)\n",
    "tu6 = ('hello','hai')\n",
    "tu5+tu6"
   ]
  },
  {
   "cell_type": "markdown",
   "id": "57db6952",
   "metadata": {},
   "source": [
    "##### in and index range using for loop"
   ]
  },
  {
   "cell_type": "code",
   "execution_count": 7,
   "id": "0850e709",
   "metadata": {},
   "outputs": [
    {
     "data": {
      "text/plain": [
       "('l', 'a', 2)"
      ]
     },
     "execution_count": 7,
     "metadata": {},
     "output_type": "execute_result"
    }
   ],
   "source": [
    "tuple1 = (1,2,3,4,'Apple','Banana')\n",
    "tuple1[4][3],tuple1[5][3],tuple1[1]"
   ]
  },
  {
   "cell_type": "code",
   "execution_count": 10,
   "id": "b7f19925",
   "metadata": {},
   "outputs": [
    {
     "name": "stdout",
     "output_type": "stream",
     "text": [
      "0\n",
      "2\n"
     ]
    }
   ],
   "source": [
    "tuple2 = ('a','b','c','d')\n",
    "print(tuple2.index('a'))\n",
    "print(tuple2.index('c'))"
   ]
  },
  {
   "cell_type": "code",
   "execution_count": 50,
   "id": "71d0b3f1",
   "metadata": {},
   "outputs": [
    {
     "name": "stdout",
     "output_type": "stream",
     "text": [
      "For word Apple the positive index is 0 and negative index is -4\n",
      "For word Banana the positive index is 1 and negative index is -3\n",
      "For word Sapota the positive index is 2 and negative index is -2\n",
      "For word Pineapple the positive index is 3 and negative index is -1\n"
     ]
    }
   ],
   "source": [
    "tuple3 = ('Apple','Banana','Sapota','Pineapple')\n",
    "n = len(tuple3)\n",
    "for i in range(n):\n",
    "    print(f'For word {tuple3[i]} the positive index is {i} and negative index is {i-n}')"
   ]
  },
  {
   "cell_type": "code",
   "execution_count": 12,
   "id": "8aba8d18",
   "metadata": {},
   "outputs": [
    {
     "name": "stdout",
     "output_type": "stream",
     "text": [
      "0\n",
      "1\n",
      "2\n",
      "3\n"
     ]
    }
   ],
   "source": [
    "for i in range(len(tuple3)):\n",
    "    print(i)"
   ]
  },
  {
   "cell_type": "markdown",
   "id": "65a7fbad",
   "metadata": {},
   "source": [
    "##### mutable imputable"
   ]
  },
  {
   "cell_type": "code",
   "execution_count": 20,
   "id": "f323ba9d",
   "metadata": {},
   "outputs": [
    {
     "data": {
      "text/plain": [
       "(1, 2, 3, 'b', 'd', 'z')"
      ]
     },
     "execution_count": 20,
     "metadata": {},
     "output_type": "execute_result"
    }
   ],
   "source": [
    "tu1 = (1,2,3,'b','d','z')\n",
    "#tu1[3]=200\n",
    "tu1                                                # Tuple is immutable"
   ]
  },
  {
   "cell_type": "code",
   "execution_count": 16,
   "id": "199df4d8",
   "metadata": {},
   "outputs": [
    {
     "data": {
      "text/plain": [
       "[1, 100, 3]"
      ]
     },
     "execution_count": 16,
     "metadata": {},
     "output_type": "execute_result"
    }
   ],
   "source": [
    "l1 = [1,2,3]\n",
    "l1[1]=100\n",
    "l1"
   ]
  },
  {
   "cell_type": "markdown",
   "id": "fb43636e",
   "metadata": {},
   "source": [
    "##### slice\n",
    "\n"
   ]
  },
  {
   "cell_type": "code",
   "execution_count": null,
   "id": "988f4029",
   "metadata": {},
   "outputs": [],
   "source": [
    "#tuple[start:stop:step]"
   ]
  },
  {
   "cell_type": "code",
   "execution_count": 23,
   "id": "c56e03c3",
   "metadata": {},
   "outputs": [
    {
     "data": {
      "text/plain": [
       "()"
      ]
     },
     "execution_count": 23,
     "metadata": {},
     "output_type": "execute_result"
    }
   ],
   "source": [
    "tp1 = (1,2,3,4,'a','b','c','apple','banana')\n",
    "tp1[1:-2:-1]"
   ]
  },
  {
   "cell_type": "code",
   "execution_count": 24,
   "id": "bbc8c965",
   "metadata": {},
   "outputs": [
    {
     "data": {
      "text/plain": [
       "()"
      ]
     },
     "execution_count": 24,
     "metadata": {},
     "output_type": "execute_result"
    }
   ],
   "source": [
    "tp1[1:2:-1]"
   ]
  },
  {
   "cell_type": "code",
   "execution_count": 30,
   "id": "d91f2a9f",
   "metadata": {},
   "outputs": [
    {
     "data": {
      "text/plain": [
       "('apple', 'c', 'b', 'a', 4, 3)"
      ]
     },
     "execution_count": 30,
     "metadata": {},
     "output_type": "execute_result"
    }
   ],
   "source": [
    "tp2 = tp1[-2:1:-1]\n",
    "tp2"
   ]
  },
  {
   "cell_type": "code",
   "execution_count": 31,
   "id": "ccf9e376",
   "metadata": {},
   "outputs": [
    {
     "data": {
      "text/plain": [
       "'a'"
      ]
     },
     "execution_count": 31,
     "metadata": {},
     "output_type": "execute_result"
    }
   ],
   "source": [
    "tp2[0][0]"
   ]
  },
  {
   "cell_type": "markdown",
   "id": "94a565c9",
   "metadata": {},
   "source": [
    "##### methods"
   ]
  },
  {
   "cell_type": "code",
   "execution_count": 36,
   "id": "85a9e0ab",
   "metadata": {},
   "outputs": [
    {
     "data": {
      "text/plain": [
       "3"
      ]
     },
     "execution_count": 36,
     "metadata": {},
     "output_type": "execute_result"
    }
   ],
   "source": [
    "tupl1 = (1,2,3,4,'a','b','c','a','apple','banana','a')\n",
    "tupl1.count('a')"
   ]
  },
  {
   "cell_type": "code",
   "execution_count": 37,
   "id": "1591757b",
   "metadata": {},
   "outputs": [
    {
     "data": {
      "text/plain": [
       "0"
      ]
     },
     "execution_count": 37,
     "metadata": {},
     "output_type": "execute_result"
    }
   ],
   "source": [
    "tupl1.count('p')"
   ]
  },
  {
   "cell_type": "code",
   "execution_count": 52,
   "id": "2119ed89",
   "metadata": {},
   "outputs": [
    {
     "data": {
      "text/plain": [
       "4"
      ]
     },
     "execution_count": 52,
     "metadata": {},
     "output_type": "execute_result"
    }
   ],
   "source": [
    "i1 = tupl1.index('a')\n",
    "i1"
   ]
  },
  {
   "cell_type": "code",
   "execution_count": 60,
   "id": "76e35027",
   "metadata": {},
   "outputs": [
    {
     "data": {
      "text/plain": [
       "7"
      ]
     },
     "execution_count": 60,
     "metadata": {},
     "output_type": "execute_result"
    }
   ],
   "source": [
    "i2 = tupl1.index('a',i1+1)\n",
    "i2"
   ]
  },
  {
   "cell_type": "code",
   "execution_count": 62,
   "id": "2cf6be00",
   "metadata": {},
   "outputs": [
    {
     "data": {
      "text/plain": [
       "10"
      ]
     },
     "execution_count": 62,
     "metadata": {},
     "output_type": "execute_result"
    }
   ],
   "source": [
    "i3 = tupl1.index('a',i2+1)\n",
    "i3"
   ]
  }
 ],
 "metadata": {
  "kernelspec": {
   "display_name": "Python 3 (ipykernel)",
   "language": "python",
   "name": "python3"
  },
  "language_info": {
   "codemirror_mode": {
    "name": "ipython",
    "version": 3
   },
   "file_extension": ".py",
   "mimetype": "text/x-python",
   "name": "python",
   "nbconvert_exporter": "python",
   "pygments_lexer": "ipython3",
   "version": "3.11.5"
  }
 },
 "nbformat": 4,
 "nbformat_minor": 5
}
