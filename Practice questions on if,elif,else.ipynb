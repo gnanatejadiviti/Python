{
 "cells": [
  {
   "cell_type": "markdown",
   "id": "3af041b2",
   "metadata": {},
   "source": [
    "# Wizardry Weather:\n",
    "#### Write a program that asks the user for the current weather (sunny, rainy, snowy) and then prints a message based on the input. If it's sunny, it should say, \"Wear sunglasses!\"; if it's rainy, \"Don't forget your umbrella!\"; if it's snowy, \"Bundle up!\""
   ]
  },
  {
   "cell_type": "code",
   "execution_count": 9,
   "id": "978ee1b2",
   "metadata": {},
   "outputs": [
    {
     "name": "stdout",
     "output_type": "stream",
     "text": [
      "What is the current weather?:sunny\n",
      "Wear sunglasses!\n"
     ]
    }
   ],
   "source": [
    "cur_weather=input('What is the current weather?:')\n",
    "if cur_weather=='sunny':\n",
    "    print('Wear sunglasses!')\n",
    "elif cur_weather=='rainy':\n",
    "    print(\"Don't forget your umbrella!\")\n",
    "elif cur_weather=='snowy':\n",
    "    print('Bundle up!')\n",
    "else:\n",
    "    print('OOPS something wrong!')"
   ]
  },
  {
   "cell_type": "markdown",
   "id": "9a0ab6b9",
   "metadata": {},
   "source": [
    "# Leap Year Checker:\n",
    "#### Develop a program that prompts the user for a year and determines whether it's a leap year. Leap years are divisible by 4, but not by 100 unless they are also divisible by 400. Print an appropriate message based on the input."
   ]
  },
  {
   "cell_type": "code",
   "execution_count": 13,
   "id": "2aeb03ac",
   "metadata": {},
   "outputs": [
    {
     "name": "stdout",
     "output_type": "stream",
     "text": [
      "Enter a year:2028\n",
      "2028 is a leap year\n"
     ]
    }
   ],
   "source": [
    "year=eval(input('Enter a year:'))\n",
    "if year%4==0:\n",
    "    print(f'{year} is a leap year')\n",
    "else:\n",
    "    print(f'{year} is not a leap year')"
   ]
  },
  {
   "cell_type": "markdown",
   "id": "b26a4a66",
   "metadata": {},
   "source": [
    "# Guess the Number:\n",
    "#### Create a simple number guessing game. Generate a random number between 1 and 10 and ask the user to guess it. Provide hints such as \"Too high\" or \"Too low\" based on their input until they guess the correct number."
   ]
  },
  {
   "cell_type": "code",
   "execution_count": 31,
   "id": "b4812713",
   "metadata": {},
   "outputs": [
    {
     "name": "stdout",
     "output_type": "stream",
     "text": [
      "Enter a number between 1 to 10:5\n",
      "Too high try again\n"
     ]
    }
   ],
   "source": [
    "import random\n",
    "num1=random.randint(1,10)\n",
    "num2=eval(input('Enter a number between 1 to 10:'))\n",
    "if num1<num2:\n",
    "    print('Too high try again')\n",
    "elif num1>num2:\n",
    "    print('Too low try again')\n",
    "elif num1==num2:\n",
    "    print('You are correct')"
   ]
  },
  {
   "cell_type": "markdown",
   "id": "5fa7cfbe",
   "metadata": {},
   "source": [
    "# Menu Choices:\n",
    "#### Design a program for a restaurant that displays a menu with different dishes. Allow the user to choose a dish by entering a number. Use if, elif, and else statements to print the corresponding message based on their choice."
   ]
  },
  {
   "cell_type": "code",
   "execution_count": 30,
   "id": "4ff01e91",
   "metadata": {},
   "outputs": [
    {
     "name": "stdout",
     "output_type": "stream",
     "text": [
      "Enter 1 for fish , 2 for chicken , 3 for mutton:3\n",
      "Mutton is ready\n"
     ]
    }
   ],
   "source": [
    "user=eval(input('Enter 1 for fish , 2 for chicken , 3 for mutton:'))\n",
    "if user==1:\n",
    "    print('Fish is ready')\n",
    "elif user==2:\n",
    "    print('Chicken is ready')\n",
    "elif user==3:\n",
    "    print('Mutton is ready')\n",
    "else:\n",
    "    print('Enter a proper number!')"
   ]
  },
  {
   "cell_type": "code",
   "execution_count": null,
   "id": "22a08924",
   "metadata": {},
   "outputs": [],
   "source": []
  }
 ],
 "metadata": {
  "kernelspec": {
   "display_name": "Python 3 (ipykernel)",
   "language": "python",
   "name": "python3"
  },
  "language_info": {
   "codemirror_mode": {
    "name": "ipython",
    "version": 3
   },
   "file_extension": ".py",
   "mimetype": "text/x-python",
   "name": "python",
   "nbconvert_exporter": "python",
   "pygments_lexer": "ipython3",
   "version": "3.11.5"
  }
 },
 "nbformat": 4,
 "nbformat_minor": 5
}
