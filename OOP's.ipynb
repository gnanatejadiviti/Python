{
 "cells": [
  {
   "cell_type": "code",
   "execution_count": 1,
   "id": "afa0e71c",
   "metadata": {},
   "outputs": [],
   "source": [
    "#Creating a class"
   ]
  },
  {
   "cell_type": "code",
   "execution_count": 5,
   "id": "5003b7c1",
   "metadata": {},
   "outputs": [],
   "source": [
    "class Phone:\n",
    "    def make_call(self):\n",
    "        print('Making a call')\n",
    "    def play_game(self):\n",
    "        print('Playing game')"
   ]
  },
  {
   "cell_type": "code",
   "execution_count": 6,
   "id": "da516d50",
   "metadata": {},
   "outputs": [],
   "source": [
    "p1 = Phone()"
   ]
  },
  {
   "cell_type": "code",
   "execution_count": 7,
   "id": "7a421dfb",
   "metadata": {},
   "outputs": [
    {
     "name": "stdout",
     "output_type": "stream",
     "text": [
      "Making a call\n"
     ]
    }
   ],
   "source": [
    "p1.make_call()"
   ]
  },
  {
   "cell_type": "code",
   "execution_count": 8,
   "id": "1068c19a",
   "metadata": {},
   "outputs": [
    {
     "name": "stdout",
     "output_type": "stream",
     "text": [
      "Playing game\n"
     ]
    }
   ],
   "source": [
    "p1.play_game()"
   ]
  },
  {
   "cell_type": "code",
   "execution_count": 9,
   "id": "b1cee568",
   "metadata": {},
   "outputs": [],
   "source": [
    "# Adding parameters"
   ]
  },
  {
   "cell_type": "code",
   "execution_count": 10,
   "id": "4632610f",
   "metadata": {},
   "outputs": [],
   "source": [
    "class Phone:\n",
    "    def set_color(self,color):\n",
    "        self.color = color\n",
    "    def set_cost(self,cost):\n",
    "        self.cost = cost\n",
    "    def show_color(self):\n",
    "        return self.color\n",
    "    def show_cost(self):\n",
    "        return self.cost\n",
    "    def making_call(self):\n",
    "        print('Making a call')\n",
    "    def playing_game(self):\n",
    "        print('Playing a game')"
   ]
  },
  {
   "cell_type": "code",
   "execution_count": 11,
   "id": "3014f6ac",
   "metadata": {},
   "outputs": [],
   "source": [
    "p2 = Phone()"
   ]
  },
  {
   "cell_type": "code",
   "execution_count": 12,
   "id": "d543de9c",
   "metadata": {},
   "outputs": [],
   "source": [
    "p2.set_color('Blue')\n",
    "p2.set_cost('250000')"
   ]
  },
  {
   "cell_type": "code",
   "execution_count": 13,
   "id": "0a26bdc3",
   "metadata": {},
   "outputs": [
    {
     "data": {
      "text/plain": [
       "'Blue'"
      ]
     },
     "execution_count": 13,
     "metadata": {},
     "output_type": "execute_result"
    }
   ],
   "source": [
    "p2.show_color()"
   ]
  },
  {
   "cell_type": "code",
   "execution_count": 14,
   "id": "ff75c69b",
   "metadata": {},
   "outputs": [
    {
     "data": {
      "text/plain": [
       "'250000'"
      ]
     },
     "execution_count": 14,
     "metadata": {},
     "output_type": "execute_result"
    }
   ],
   "source": [
    "p2.show_cost()"
   ]
  },
  {
   "cell_type": "code",
   "execution_count": 15,
   "id": "667a5301",
   "metadata": {},
   "outputs": [
    {
     "name": "stdout",
     "output_type": "stream",
     "text": [
      "Making a call\n"
     ]
    }
   ],
   "source": [
    "p2.making_call()"
   ]
  },
  {
   "cell_type": "code",
   "execution_count": 16,
   "id": "03dca714",
   "metadata": {},
   "outputs": [
    {
     "name": "stdout",
     "output_type": "stream",
     "text": [
      "Playing a game\n"
     ]
    }
   ],
   "source": [
    "p2.playing_game()"
   ]
  },
  {
   "cell_type": "code",
   "execution_count": 17,
   "id": "5e780f23",
   "metadata": {},
   "outputs": [],
   "source": [
    "# Creating a Class with Constructor"
   ]
  },
  {
   "cell_type": "code",
   "execution_count": 19,
   "id": "e7f47a13",
   "metadata": {},
   "outputs": [],
   "source": [
    "class Employee():\n",
    "    def __init__ (self,name,age,salary,gender):\n",
    "        self.name = name\n",
    "        self.age = age\n",
    "        self.salary = salary\n",
    "        self.gender = gender\n",
    "    def show_details(self):\n",
    "        print('Name: ', self.name)\n",
    "        print('Age: ',self.age)\n",
    "        print('Salary: ',self.salary)\n",
    "        print('Gender: ',self.gender)"
   ]
  },
  {
   "cell_type": "code",
   "execution_count": 21,
   "id": "563821bf",
   "metadata": {},
   "outputs": [],
   "source": [
    "e1 = Employee('Teja',21,100000,'Male')"
   ]
  },
  {
   "cell_type": "code",
   "execution_count": 22,
   "id": "371e27d5",
   "metadata": {},
   "outputs": [
    {
     "name": "stdout",
     "output_type": "stream",
     "text": [
      "Name:  Teja\n",
      "Age:  21\n",
      "Salary:  100000\n",
      "Gender:  Male\n"
     ]
    }
   ],
   "source": [
    "e1.show_details()"
   ]
  },
  {
   "cell_type": "code",
   "execution_count": null,
   "id": "e30dae8b",
   "metadata": {},
   "outputs": [],
   "source": [
    "# Inheritance"
   ]
  },
  {
   "cell_type": "code",
   "execution_count": 23,
   "id": "84c5499b",
   "metadata": {},
   "outputs": [],
   "source": [
    "class Vehicle():\n",
    "    def __init__ (self,mileage,cost):\n",
    "        self.mileage = mileage\n",
    "        self.cost = cost\n",
    "    def show_details(self):\n",
    "        print('Mileage: ',self.mileage)\n",
    "        print('Cost: ',self.cost)"
   ]
  },
  {
   "cell_type": "code",
   "execution_count": 24,
   "id": "4ab17f08",
   "metadata": {},
   "outputs": [
    {
     "name": "stdout",
     "output_type": "stream",
     "text": [
      "Mileage:  300\n",
      "Cost:  1000\n"
     ]
    }
   ],
   "source": [
    "v1 = Vehicle(300,1000)\n",
    "v1.show_details()"
   ]
  },
  {
   "cell_type": "code",
   "execution_count": null,
   "id": "e7c0851f",
   "metadata": {},
   "outputs": [],
   "source": [
    "# Creating the child class"
   ]
  },
  {
   "cell_type": "code",
   "execution_count": 25,
   "id": "40ded0d7",
   "metadata": {},
   "outputs": [],
   "source": [
    "class Car(Vehicle):\n",
    "    def show_car_details(self):\n",
    "        print('I am a car')"
   ]
  },
  {
   "cell_type": "code",
   "execution_count": 26,
   "id": "0c71715f",
   "metadata": {},
   "outputs": [
    {
     "name": "stdout",
     "output_type": "stream",
     "text": [
      "I am a car\n"
     ]
    }
   ],
   "source": [
    "c1 = Car(100,2000)\n",
    "c1.show_car_details()"
   ]
  },
  {
   "cell_type": "code",
   "execution_count": 27,
   "id": "e1b2cdde",
   "metadata": {},
   "outputs": [
    {
     "name": "stdout",
     "output_type": "stream",
     "text": [
      "Mileage:  100\n",
      "Cost:  2000\n"
     ]
    }
   ],
   "source": [
    "c1.show_details()"
   ]
  },
  {
   "cell_type": "code",
   "execution_count": null,
   "id": "a6e9ccb0",
   "metadata": {},
   "outputs": [],
   "source": [
    "#Over-riding init method"
   ]
  },
  {
   "cell_type": "code",
   "execution_count": 28,
   "id": "56e14acd",
   "metadata": {},
   "outputs": [],
   "source": [
    "class Car(Vehicle):\n",
    "    def __init__(self,mileage,cost,tyres,hp):\n",
    "        super().__init__(mileage,cost)\n",
    "        self.tyres = tyres\n",
    "        self.hp = hp\n",
    "    def show_car_details(self):\n",
    "        print('I am a car')\n",
    "        print('Tyres: ',self.tyres)\n",
    "        print('HP: ', self.hp)"
   ]
  },
  {
   "cell_type": "code",
   "execution_count": 29,
   "id": "f8cdd23f",
   "metadata": {},
   "outputs": [
    {
     "name": "stdout",
     "output_type": "stream",
     "text": [
      "Mileage:  500\n",
      "Cost:  50000\n"
     ]
    }
   ],
   "source": [
    "c2 = Car(500,50000,8,200)\n",
    "c2.show_details()"
   ]
  },
  {
   "cell_type": "code",
   "execution_count": 30,
   "id": "2c7c57b7",
   "metadata": {},
   "outputs": [
    {
     "name": "stdout",
     "output_type": "stream",
     "text": [
      "I am a car\n",
      "Tyres:  8\n",
      "HP:  200\n"
     ]
    }
   ],
   "source": [
    "c2.show_car_details()"
   ]
  },
  {
   "cell_type": "markdown",
   "id": "df2eb123",
   "metadata": {},
   "source": [
    "###### Types of inheritance\n",
    "- Single inheritance\n",
    "- Multiple inheritance\n",
    "- Multi-level inheritance\n",
    "- Hybrid inheritance"
   ]
  },
  {
   "cell_type": "code",
   "execution_count": 31,
   "id": "24e84591",
   "metadata": {},
   "outputs": [],
   "source": [
    "# Multiple inheritance"
   ]
  },
  {
   "cell_type": "code",
   "execution_count": 32,
   "id": "893b096b",
   "metadata": {},
   "outputs": [],
   "source": [
    "class Parent1:\n",
    "    def assign_str1(self,str1):\n",
    "        self.str1 = str1\n",
    "    def show_str1(self):\n",
    "        print(self.str1)"
   ]
  },
  {
   "cell_type": "code",
   "execution_count": 33,
   "id": "9084c925",
   "metadata": {},
   "outputs": [],
   "source": [
    "class Parent2:\n",
    "    def assign_str2(self,str2):\n",
    "        self.str2 = str2\n",
    "    def show_str2(self):\n",
    "        print(self.str2)"
   ]
  },
  {
   "cell_type": "code",
   "execution_count": 38,
   "id": "43232b6a",
   "metadata": {},
   "outputs": [],
   "source": [
    "class Child(Parent1,Parent2):\n",
    "    def assign_str3(self,str3):\n",
    "        self.str3 = str3\n",
    "    def show_str3(self):\n",
    "        print(self.str3)"
   ]
  },
  {
   "cell_type": "code",
   "execution_count": 39,
   "id": "6e19dd8e",
   "metadata": {},
   "outputs": [],
   "source": [
    "c1 = Child()"
   ]
  },
  {
   "cell_type": "code",
   "execution_count": 40,
   "id": "31338d4e",
   "metadata": {},
   "outputs": [],
   "source": [
    "c1.assign_str1('Hello')\n",
    "c1.assign_str2('Python')\n",
    "c1.assign_str3('World')"
   ]
  },
  {
   "cell_type": "code",
   "execution_count": 41,
   "id": "d4d16541",
   "metadata": {},
   "outputs": [
    {
     "name": "stdout",
     "output_type": "stream",
     "text": [
      "Hello\n"
     ]
    }
   ],
   "source": [
    "c1.show_str1()"
   ]
  },
  {
   "cell_type": "code",
   "execution_count": 42,
   "id": "5b0b45a6",
   "metadata": {},
   "outputs": [
    {
     "name": "stdout",
     "output_type": "stream",
     "text": [
      "Python\n"
     ]
    }
   ],
   "source": [
    "c1.show_str2()"
   ]
  },
  {
   "cell_type": "code",
   "execution_count": 43,
   "id": "4aa97cc7",
   "metadata": {},
   "outputs": [
    {
     "name": "stdout",
     "output_type": "stream",
     "text": [
      "World\n"
     ]
    }
   ],
   "source": [
    "c1.show_str3()"
   ]
  },
  {
   "cell_type": "code",
   "execution_count": 44,
   "id": "23de171b",
   "metadata": {},
   "outputs": [],
   "source": [
    "# Multi-level Inheritance"
   ]
  },
  {
   "cell_type": "code",
   "execution_count": 45,
   "id": "e66d0e01",
   "metadata": {},
   "outputs": [],
   "source": [
    "class Parent:\n",
    "    def assign_name(self,name):\n",
    "        self.name = name\n",
    "    def show_name(self):\n",
    "        return self.name"
   ]
  },
  {
   "cell_type": "code",
   "execution_count": 46,
   "id": "f7369152",
   "metadata": {},
   "outputs": [],
   "source": [
    "class Child(Parent):\n",
    "    def assign_age(self,age):\n",
    "        self.age = age\n",
    "    def show_age(self):\n",
    "        return self.age"
   ]
  },
  {
   "cell_type": "code",
   "execution_count": 47,
   "id": "78d4c6fd",
   "metadata": {},
   "outputs": [],
   "source": [
    "class GrandChild(Child):\n",
    "    def assign_gender(self,gender):\n",
    "        self.gender = gender\n",
    "    def show_gender (self):\n",
    "        return self.gender"
   ]
  },
  {
   "cell_type": "code",
   "execution_count": 48,
   "id": "69c1b227",
   "metadata": {},
   "outputs": [],
   "source": [
    "g1 = GrandChild()"
   ]
  },
  {
   "cell_type": "code",
   "execution_count": 49,
   "id": "496821d8",
   "metadata": {},
   "outputs": [],
   "source": [
    "g1.assign_name('Teja')\n",
    "g1.assign_age(21)\n",
    "g1.assign_gender('Male')"
   ]
  },
  {
   "cell_type": "code",
   "execution_count": 51,
   "id": "e3cd8411",
   "metadata": {},
   "outputs": [
    {
     "data": {
      "text/plain": [
       "('Teja', 21, 'Male')"
      ]
     },
     "execution_count": 51,
     "metadata": {},
     "output_type": "execute_result"
    }
   ],
   "source": [
    "g1.show_name(),g1.show_age(),g1.show_gender()"
   ]
  },
  {
   "cell_type": "code",
   "execution_count": null,
   "id": "08a30819",
   "metadata": {},
   "outputs": [],
   "source": []
  }
 ],
 "metadata": {
  "kernelspec": {
   "display_name": "Python 3 (ipykernel)",
   "language": "python",
   "name": "python3"
  },
  "language_info": {
   "codemirror_mode": {
    "name": "ipython",
    "version": 3
   },
   "file_extension": ".py",
   "mimetype": "text/x-python",
   "name": "python",
   "nbconvert_exporter": "python",
   "pygments_lexer": "ipython3",
   "version": "3.11.5"
  }
 },
 "nbformat": 4,
 "nbformat_minor": 5
}
