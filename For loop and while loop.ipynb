{
 "cells": [
  {
   "cell_type": "code",
   "execution_count": null,
   "id": "af85f178",
   "metadata": {},
   "outputs": [],
   "source": [
    "s1 = 'python'\n",
    "n=len(s1)\n",
    "for i in range(n):\n",
    "    print(f'The positive index of {s1[i]} is {i}')"
   ]
  },
  {
   "cell_type": "code",
   "execution_count": null,
   "id": "1ade17d1",
   "metadata": {},
   "outputs": [],
   "source": [
    "s1 = 'python'\n",
    "n=len(s1)\n",
    "for i in range(n):\n",
    "    print(f'The negative index of {s1[i]} is {i-n}')"
   ]
  },
  {
   "cell_type": "code",
   "execution_count": null,
   "id": "aa258646",
   "metadata": {},
   "outputs": [],
   "source": [
    "s1 = 'python'\n",
    "n=len(s1)\n",
    "for i in range(n):\n",
    "    print(f'The positive index is {i} and negative index is {i-n} for {s1[i]}')"
   ]
  },
  {
   "cell_type": "code",
   "execution_count": 6,
   "id": "e99f9aee",
   "metadata": {},
   "outputs": [
    {
     "name": "stdout",
     "output_type": "stream",
     "text": [
      "The postive index of p is 0\n",
      "The postive index of y is 1\n",
      "The postive index of t is 2\n",
      "The postive index of h is 3\n",
      "The postive index of o is 4\n",
      "The postive index of n is 5\n"
     ]
    }
   ],
   "source": [
    "s1 = 'python'\n",
    "n=len(s1)\n",
    "i=0\n",
    "while i<n:\n",
    "    print(f'The postive index of {s1[i]} is {i}')\n",
    "    i=i+1"
   ]
  },
  {
   "cell_type": "code",
   "execution_count": 8,
   "id": "5cca2ddc",
   "metadata": {},
   "outputs": [
    {
     "name": "stdout",
     "output_type": "stream",
     "text": [
      "The negative index of p is -6\n",
      "The negative index of y is -5\n",
      "The negative index of t is -4\n",
      "The negative index of h is -3\n",
      "The negative index of o is -2\n",
      "The negative index of n is -1\n"
     ]
    }
   ],
   "source": [
    "s1 = 'python'\n",
    "n=len(s1)\n",
    "i=0\n",
    "while i<n:\n",
    "    print(f'The negative index of {s1[i]} is {i-n}')\n",
    "    i=i+1"
   ]
  },
  {
   "cell_type": "code",
   "execution_count": 9,
   "id": "6d237d32",
   "metadata": {},
   "outputs": [
    {
     "name": "stdout",
     "output_type": "stream",
     "text": [
      "The postive index is 0 and negative index is -6 for p\n",
      "The postive index is 1 and negative index is -5 for y\n",
      "The postive index is 2 and negative index is -4 for t\n",
      "The postive index is 3 and negative index is -3 for h\n",
      "The postive index is 4 and negative index is -2 for o\n",
      "The postive index is 5 and negative index is -1 for n\n"
     ]
    }
   ],
   "source": [
    "s1 = 'python'\n",
    "n=len(s1)\n",
    "i=0\n",
    "while i<n:\n",
    "    print(f'The postive index is {i} and negative index is {i-n} for {s1[i]}')\n",
    "    i=i+1"
   ]
  },
  {
   "cell_type": "code",
   "execution_count": null,
   "id": "4942d4a7",
   "metadata": {},
   "outputs": [],
   "source": []
  }
 ],
 "metadata": {
  "kernelspec": {
   "display_name": "Python 3 (ipykernel)",
   "language": "python",
   "name": "python3"
  },
  "language_info": {
   "codemirror_mode": {
    "name": "ipython",
    "version": 3
   },
   "file_extension": ".py",
   "mimetype": "text/x-python",
   "name": "python",
   "nbconvert_exporter": "python",
   "pygments_lexer": "ipython3",
   "version": "3.11.5"
  }
 },
 "nbformat": 4,
 "nbformat_minor": 5
}
