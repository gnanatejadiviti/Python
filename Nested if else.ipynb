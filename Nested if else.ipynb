{
 "cells": [
  {
   "cell_type": "code",
   "execution_count": 5,
   "id": "9a2358b6",
   "metadata": {},
   "outputs": [
    {
     "name": "stdout",
     "output_type": "stream",
     "text": [
      "Enter your percentage:60\n",
      "B\n"
     ]
    }
   ],
   "source": [
    "per=eval(input('Enter your percentage:'))\n",
    "\n",
    "if per>=90:           \n",
    "    print('A+')\n",
    "\n",
    "elif per>=75:\n",
    "    print('A')\n",
    "    \n",
    "elif per>=60:\n",
    "    print('B')\n",
    "\n",
    "elif per>=45:\n",
    "    print('C')\n",
    "\n",
    "else:\n",
    "    print('D')"
   ]
  },
  {
   "cell_type": "code",
   "execution_count": 10,
   "id": "6ac84a99",
   "metadata": {},
   "outputs": [
    {
     "name": "stdout",
     "output_type": "stream",
     "text": [
      "Enter your age:20\n",
      "Teenage\n"
     ]
    }
   ],
   "source": [
    "age=eval(input('Enter your age:'))\n",
    "if age>=60:\n",
    "    print('Senior')\n",
    "elif age>=45:\n",
    "    print('Aged')\n",
    "elif age>=30:\n",
    "    print('Middle aged')\n",
    "elif age>=20:\n",
    "    print('Young')\n",
    "elif age>=13:\n",
    "    print('Teenage')\n",
    "else:\n",
    "    print('Kid')"
   ]
  },
  {
   "cell_type": "code",
   "execution_count": 18,
   "id": "7a53b9f6",
   "metadata": {},
   "outputs": [
    {
     "name": "stdout",
     "output_type": "stream",
     "text": [
      "Enter the distance:70\n",
      "Enter the charge for more than 50km:2\n",
      "Your total charge is 140\n"
     ]
    }
   ],
   "source": [
    "dis=eval(input(\"Enter the distance:\"))\n",
    "if dis>=50:\n",
    "    charge1=eval(input(\"Enter the charge for more than 50km:\"))\n",
    "    total1=dis*charge1\n",
    "    print(f'Your total charge is {total1}')\n",
    "elif dis>=30:\n",
    "    charge2=eval(input(\"Enter the charge for 30 to 50km:\"))\n",
    "    total2=dis*charge2\n",
    "    print(f'Your total charge is {total2}')\n",
    "elif dis>=10:\n",
    "    charge3=eval(input(\"Enter the charge for 10 to 30km:\"))\n",
    "    total3=dis*charge3\n",
    "    print(f'Your total charge is {total3}')\n",
    "else:\n",
    "    print('Free ride')"
   ]
  },
  {
   "cell_type": "code",
   "execution_count": 27,
   "id": "a3660f96",
   "metadata": {},
   "outputs": [
    {
     "name": "stdout",
     "output_type": "stream",
     "text": [
      "Enter your gender:male\n",
      "Enter your age:18\n",
      "Young man\n"
     ]
    }
   ],
   "source": [
    "gen=input('Enter your gender:')\n",
    "\n",
    "if gen=='male':\n",
    "    age=eval(input('Enter your age:'))\n",
    "    if age>=45:\n",
    "        print('Aged man')\n",
    "    elif age>=30:\n",
    "        print('Middle aged man')\n",
    "    elif age>=15:\n",
    "        print('Young man')\n",
    "    else:\n",
    "        print('Boy')\n",
    "        \n",
    "elif gen=='female':\n",
    "    age =eval(input('Enter your age:'))\n",
    "    if age>=45:\n",
    "        print('Aged woman')\n",
    "    elif age>=30:\n",
    "        print('Middle aged woman')\n",
    "    elif age>=15:\n",
    "        print('Young girl')\n",
    "    else:\n",
    "        print('Girl')\n",
    "        \n",
    "else:\n",
    "    print('Provide proper gender')"
   ]
  },
  {
   "cell_type": "code",
   "execution_count": 32,
   "id": "434d302f",
   "metadata": {},
   "outputs": [
    {
     "name": "stdout",
     "output_type": "stream",
     "text": [
      "Enter a number:-66\n",
      "-66 is negative\n"
     ]
    }
   ],
   "source": [
    "num=eval(input('Enter a number:'))\n",
    "if num>=0:\n",
    "    if num==0:\n",
    "        print(f'{num} is zero')\n",
    "    else:\n",
    "        print(f'{num} is positive')\n",
    "else:\n",
    "    print(f'{num} is negative')"
   ]
  },
  {
   "cell_type": "code",
   "execution_count": 35,
   "id": "e1c30e4e",
   "metadata": {},
   "outputs": [
    {
     "name": "stdout",
     "output_type": "stream",
     "text": [
      "Enter a number:-2\n",
      "-2 is negatiive\n"
     ]
    }
   ],
   "source": [
    "num=eval(input('Enter a number:'))\n",
    "if num>=0:\n",
    "    if num==0:print(f'{num} is zero')\n",
    "    else:print(f'{num} is positive')\n",
    "else:print(f'{num} is negatiive')"
   ]
  },
  {
   "cell_type": "code",
   "execution_count": 36,
   "id": "af48ac5a",
   "metadata": {},
   "outputs": [],
   "source": [
    "#wap find the greater number btw the given three numbers\n",
    "#50 75 200\n",
    "#ans: 200"
   ]
  },
  {
   "cell_type": "code",
   "execution_count": 39,
   "id": "70bdec8b",
   "metadata": {},
   "outputs": [
    {
     "data": {
      "text/plain": [
       "200"
      ]
     },
     "execution_count": 39,
     "metadata": {},
     "output_type": "execute_result"
    }
   ],
   "source": [
    "nums=max(50,75,200)\n",
    "nums"
   ]
  },
  {
   "cell_type": "code",
   "execution_count": 46,
   "id": "12b1645c",
   "metadata": {},
   "outputs": [
    {
     "name": "stdout",
     "output_type": "stream",
     "text": [
      "Enter a number:7558\n",
      "Enter a number:58\n",
      "Enter a number:663\n",
      "7558 is greater\n"
     ]
    }
   ],
   "source": [
    "a = eval(input('Enter a number:'))\n",
    "b = eval(input('Enter a number:'))\n",
    "c = eval(input('Enter a number:'))\n",
    "if a>b and a>c:\n",
    "    print(f'{a} is greater')\n",
    "elif b>a and b>c:\n",
    "        print(f'{b} is greater')\n",
    "else:\n",
    "    print(f'{c} is greater')"
   ]
  },
  {
   "cell_type": "code",
   "execution_count": null,
   "id": "91e24355",
   "metadata": {},
   "outputs": [],
   "source": []
  }
 ],
 "metadata": {
  "kernelspec": {
   "display_name": "Python 3 (ipykernel)",
   "language": "python",
   "name": "python3"
  },
  "language_info": {
   "codemirror_mode": {
    "name": "ipython",
    "version": 3
   },
   "file_extension": ".py",
   "mimetype": "text/x-python",
   "name": "python",
   "nbconvert_exporter": "python",
   "pygments_lexer": "ipython3",
   "version": "3.11.5"
  }
 },
 "nbformat": 4,
 "nbformat_minor": 5
}
