{
 "cells": [
  {
   "cell_type": "code",
   "execution_count": 16,
   "id": "66943a6e",
   "metadata": {},
   "outputs": [
    {
     "name": "stdout",
     "output_type": "stream",
     "text": [
      "addition=6,substaction=-2,multiplication=8,division=0.5\n"
     ]
    }
   ],
   "source": [
    "def simple_calculator(a,b):\n",
    "    add=a+b\n",
    "    sub=a-b\n",
    "    mul=a*b\n",
    "    div=a/b\n",
    "    result=print(f'addition={add},substaction={sub},multiplication={mul},division={div}')\n",
    "    \n",
    "total=simple_calculator(2,4)\n",
    "\n",
    "\n",
    "                 "
   ]
  },
  {
   "cell_type": "code",
   "execution_count": 8,
   "id": "9a756f47",
   "metadata": {},
   "outputs": [
    {
     "name": "stdout",
     "output_type": "stream",
     "text": [
      "8\n"
     ]
    },
    {
     "data": {
      "text/plain": [
       "int"
      ]
     },
     "execution_count": 8,
     "metadata": {},
     "output_type": "execute_result"
    }
   ],
   "source": [
    "print(total)\n",
    "type(total)"
   ]
  },
  {
   "cell_type": "code",
   "execution_count": 20,
   "id": "feec374b",
   "metadata": {},
   "outputs": [
    {
     "name": "stdout",
     "output_type": "stream",
     "text": [
      "7\n"
     ]
    }
   ],
   "source": [
    "def simple_calculator(a,b,operation):\n",
    "    if operation == '+':\n",
    "        return a+b\n",
    "    elif operation == '-':\n",
    "        return a-b\n",
    "    elif operation == '*':\n",
    "        return a*b\n",
    "    elif operation == '/':\n",
    "        if b != 0:\n",
    "            return a/b\n",
    "        else:\n",
    "            print('Cant divide by zero')\n",
    "    else:\n",
    "        print('Enter a valid operation')\n",
    "\n",
    "        \n",
    "result=simple_calculator(10,3,'-')\n",
    "print(result)"
   ]
  },
  {
   "cell_type": "code",
   "execution_count": null,
   "id": "1148323b",
   "metadata": {},
   "outputs": [],
   "source": []
  },
  {
   "cell_type": "code",
   "execution_count": null,
   "id": "6124d51c",
   "metadata": {},
   "outputs": [],
   "source": []
  },
  {
   "cell_type": "code",
   "execution_count": null,
   "id": "6f7b4c2d",
   "metadata": {},
   "outputs": [],
   "source": []
  }
 ],
 "metadata": {
  "kernelspec": {
   "display_name": "Python 3 (ipykernel)",
   "language": "python",
   "name": "python3"
  },
  "language_info": {
   "codemirror_mode": {
    "name": "ipython",
    "version": 3
   },
   "file_extension": ".py",
   "mimetype": "text/x-python",
   "name": "python",
   "nbconvert_exporter": "python",
   "pygments_lexer": "ipython3",
   "version": "3.11.5"
  }
 },
 "nbformat": 4,
 "nbformat_minor": 5
}
