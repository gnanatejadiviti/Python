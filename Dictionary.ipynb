{
 "cells": [
  {
   "cell_type": "code",
   "execution_count": 2,
   "id": "cecee84b",
   "metadata": {},
   "outputs": [
    {
     "data": {
      "text/plain": [
       "['hai', 'how', 'are', 'you']"
      ]
     },
     "execution_count": 2,
     "metadata": {},
     "output_type": "execute_result"
    }
   ],
   "source": [
    "str1 = 'hai how are you'\n",
    "l1 = str1.split()\n",
    "l1                # Splitting str to list"
   ]
  },
  {
   "cell_type": "code",
   "execution_count": 6,
   "id": "d873bedf",
   "metadata": {},
   "outputs": [
    {
     "data": {
      "text/plain": [
       "'hai how are you'"
      ]
     },
     "execution_count": 6,
     "metadata": {},
     "output_type": "execute_result"
    }
   ],
   "source": [
    "# Now we have list of elements and now we have to join\n",
    "str2 = ' '.join(l1)\n",
    "str2"
   ]
  },
  {
   "cell_type": "code",
   "execution_count": 8,
   "id": "2c0c2f37",
   "metadata": {},
   "outputs": [
    {
     "name": "stdout",
     "output_type": "stream",
     "text": [
      "hai how are you "
     ]
    }
   ],
   "source": [
    "for i in l1:\n",
    "    print(i,end=' ')"
   ]
  },
  {
   "cell_type": "code",
   "execution_count": 13,
   "id": "65095934",
   "metadata": {},
   "outputs": [
    {
     "data": {
      "text/plain": [
       "'hai how are you'"
      ]
     },
     "execution_count": 13,
     "metadata": {},
     "output_type": "execute_result"
    }
   ],
   "source": [
    "str3 = ''\n",
    "for i in l1:\n",
    "    str3 = str3+' '+i\n",
    "str3.strip()"
   ]
  },
  {
   "cell_type": "code",
   "execution_count": 20,
   "id": "8ecfaa1e",
   "metadata": {},
   "outputs": [
    {
     "name": "stdout",
     "output_type": "stream",
     "text": [
      "Ramesh 20\n",
      "Suresh 25\n",
      "Sathish 30\n"
     ]
    }
   ],
   "source": [
    "name = ['Ramesh','Suresh','Sathish']\n",
    "age = [20,25,30]\n",
    "\n",
    "for i in range(len(name)):\n",
    "    print(name[i],age[i])"
   ]
  },
  {
   "cell_type": "markdown",
   "id": "46d3305e",
   "metadata": {},
   "source": [
    "$Zip$"
   ]
  },
  {
   "cell_type": "code",
   "execution_count": 21,
   "id": "3d8a26d2",
   "metadata": {},
   "outputs": [
    {
     "name": "stdout",
     "output_type": "stream",
     "text": [
      "('Ramesh', 20)\n",
      "('Suresh', 25)\n",
      "('Sathish', 30)\n"
     ]
    }
   ],
   "source": [
    "for i in zip(name,age):\n",
    "    print(i)"
   ]
  },
  {
   "cell_type": "code",
   "execution_count": 22,
   "id": "46d58ceb",
   "metadata": {},
   "outputs": [
    {
     "name": "stdout",
     "output_type": "stream",
     "text": [
      "Ramesh age is 20\n",
      "Suresh age is 25\n",
      "Sathish age is 30\n"
     ]
    }
   ],
   "source": [
    "for i,j in zip(name,age):\n",
    "    print(f'{i} age is {j}')"
   ]
  },
  {
   "cell_type": "code",
   "execution_count": 26,
   "id": "a192a9d4",
   "metadata": {},
   "outputs": [
    {
     "name": "stdout",
     "output_type": "stream",
     "text": [
      "60\n",
      "40.0\n"
     ]
    }
   ],
   "source": [
    "def avg(n1,n2,n3):\n",
    "    return n1+n2+n3 , n1+n2+n3/3\n",
    "output1,output2 = avg(10,20,30)\n",
    "print(output1)\n",
    "print(output2)"
   ]
  },
  {
   "cell_type": "code",
   "execution_count": 28,
   "id": "35cf8abb",
   "metadata": {},
   "outputs": [
    {
     "data": {
      "text/plain": [
       "10"
      ]
     },
     "execution_count": 28,
     "metadata": {},
     "output_type": "execute_result"
    }
   ],
   "source": [
    "num1,num2 = 10,20\n",
    "num1"
   ]
  },
  {
   "cell_type": "code",
   "execution_count": null,
   "id": "b078a517",
   "metadata": {},
   "outputs": [],
   "source": [
    "name = ['Ramesh','Suresh','Sathish']\n",
    "age = [20,25,30]\n",
    "\n",
    "# Instead of two lists we can use dictionary; dir = {<key>:<value>}"
   ]
  },
  {
   "cell_type": "code",
   "execution_count": 30,
   "id": "9fab71a8",
   "metadata": {},
   "outputs": [
    {
     "data": {
      "text/plain": [
       "{'Ramesh': 20, 'Suresh': 25, 'Sathish': 30}"
      ]
     },
     "execution_count": 30,
     "metadata": {},
     "output_type": "execute_result"
    }
   ],
   "source": [
    "dir1 = {'Ramesh':20,'Suresh':25,'Sathish':30}\n",
    "dir1\n",
    "# key:value pair together"
   ]
  },
  {
   "cell_type": "code",
   "execution_count": 31,
   "id": "3b823b3a",
   "metadata": {},
   "outputs": [
    {
     "data": {
      "text/plain": [
       "{20: 'ramesh', 25: 'suresh', 30: 'sathish'}"
      ]
     },
     "execution_count": 31,
     "metadata": {},
     "output_type": "execute_result"
    }
   ],
   "source": [
    "dir2 = {20:'ramesh',25:'suresh',30:'sathish'}\n",
    "dir2"
   ]
  },
  {
   "cell_type": "code",
   "execution_count": 32,
   "id": "0e64e124",
   "metadata": {},
   "outputs": [
    {
     "data": {
      "text/plain": [
       "{20: 20}"
      ]
     },
     "execution_count": 32,
     "metadata": {},
     "output_type": "execute_result"
    }
   ],
   "source": [
    "dir3 = {20:20}\n",
    "dir3"
   ]
  },
  {
   "cell_type": "code",
   "execution_count": 33,
   "id": "b67c1bbe",
   "metadata": {},
   "outputs": [
    {
     "data": {
      "text/plain": [
       "{'names': ['R', 'S', 'A']}"
      ]
     },
     "execution_count": 33,
     "metadata": {},
     "output_type": "execute_result"
    }
   ],
   "source": [
    "dir4 = {'names':['R','S','A']}\n",
    "dir4\n",
    "# List can be value"
   ]
  },
  {
   "cell_type": "code",
   "execution_count": 39,
   "id": "6c9a3d7f",
   "metadata": {},
   "outputs": [],
   "source": [
    "dir5 = {['R']:'names'}\n",
    "dir5 \n",
    "\n",
    "# List can not be a key but list can be value\n",
    "# Special chr can not be a key and value"
   ]
  },
  {
   "cell_type": "code",
   "execution_count": 37,
   "id": "850d4b29",
   "metadata": {},
   "outputs": [
    {
     "data": {
      "text/plain": [
       "{('R', 'A'): 'names'}"
      ]
     },
     "execution_count": 37,
     "metadata": {},
     "output_type": "execute_result"
    }
   ],
   "source": [
    "dir6 = {('R','A'):'names'}\n",
    "dir6"
   ]
  },
  {
   "cell_type": "code",
   "execution_count": 40,
   "id": "d5a0c7ea",
   "metadata": {},
   "outputs": [
    {
     "data": {
      "text/plain": [
       "{'name': ('R', 'A')}"
      ]
     },
     "execution_count": 40,
     "metadata": {},
     "output_type": "execute_result"
    }
   ],
   "source": [
    "dir7 = {'name':('R','A')}\n",
    "dir7"
   ]
  },
  {
   "cell_type": "code",
   "execution_count": 42,
   "id": "bffc1e78",
   "metadata": {},
   "outputs": [
    {
     "data": {
      "text/plain": [
       "{('n', 'a', 'm', 'e'): ('R', 'A')}"
      ]
     },
     "execution_count": 42,
     "metadata": {},
     "output_type": "execute_result"
    }
   ],
   "source": [
    "dir8 = {('n','a','m','e'):('R','A')}\n",
    "dir8"
   ]
  },
  {
   "cell_type": "code",
   "execution_count": 44,
   "id": "edde2dea",
   "metadata": {},
   "outputs": [
    {
     "data": {
      "text/plain": [
       "{'Names': {'Fruits': 'Apple'}}"
      ]
     },
     "execution_count": 44,
     "metadata": {},
     "output_type": "execute_result"
    }
   ],
   "source": [
    "d = {'Fruits':'Apple'}\n",
    "dir9 = {'Names':d}\n",
    "dir9"
   ]
  },
  {
   "cell_type": "code",
   "execution_count": 46,
   "id": "6d4b9d14",
   "metadata": {},
   "outputs": [],
   "source": [
    "dir10 = {d:'Names'}\n",
    "dir10\n",
    "# dict can not be key"
   ]
  },
  {
   "cell_type": "code",
   "execution_count": null,
   "id": "4492d1c3",
   "metadata": {},
   "outputs": [],
   "source": [
    "############# Works #######################\n",
    "d1 = {'Ramesh':20,'Suresh':25,'Sathish':30}\n",
    "d2 = {20:'ramesh',25:'suresh',30:'sathish'}\n",
    "d3 = {20:20}\n",
    "d4 = {'$':'30'}\n",
    "d5 = {'name':['I','N','D']}\n",
    "d6 = {'name':('I','N','D')}\n",
    "d7 = {('I','N','D'):'names'}\n",
    "d8 = {'Names':{'Fruites':20}}\n",
    "d9 = {True:True}"
   ]
  },
  {
   "cell_type": "code",
   "execution_count": 47,
   "id": "71073796",
   "metadata": {},
   "outputs": [
    {
     "data": {
      "text/plain": [
       "{'Ramesh': 25}"
      ]
     },
     "execution_count": 47,
     "metadata": {},
     "output_type": "execute_result"
    }
   ],
   "source": [
    "dic1 = {'Ramesh':20,'Ramesh':25}\n",
    "dic1          # Duplicate keys are not allowed"
   ]
  },
  {
   "cell_type": "code",
   "execution_count": 48,
   "id": "d6c4a46b",
   "metadata": {},
   "outputs": [
    {
     "data": {
      "text/plain": [
       "{'Ramesh': 20, 'Suresh': 20}"
      ]
     },
     "execution_count": 48,
     "metadata": {},
     "output_type": "execute_result"
    }
   ],
   "source": [
    "dic2 = {'Ramesh':20,'Suresh':20}\n",
    "dic2          # Duplicate values are allowed"
   ]
  },
  {
   "cell_type": "markdown",
   "id": "53d51bae",
   "metadata": {},
   "source": [
    "##### Max,Min,Sum,Len"
   ]
  },
  {
   "cell_type": "code",
   "execution_count": 56,
   "id": "6f00e1fc",
   "metadata": {},
   "outputs": [
    {
     "data": {
      "text/plain": [
       "('Suresh', 'Ramesh', 3)"
      ]
     },
     "execution_count": 56,
     "metadata": {},
     "output_type": "execute_result"
    }
   ],
   "source": [
    "d1 = {'Ramesh':20,'Suresh':25,'Sathish':30}\n",
    "max(d1),min(d1),len(d1),#sum is not applicable\n",
    "# Comparision is done by using keys(ascii)"
   ]
  },
  {
   "cell_type": "code",
   "execution_count": 58,
   "id": "8a9f52bc",
   "metadata": {},
   "outputs": [
    {
     "data": {
      "text/plain": [
       "(30, 20, 3, 75)"
      ]
     },
     "execution_count": 58,
     "metadata": {},
     "output_type": "execute_result"
    }
   ],
   "source": [
    "d2 = {20:'ramesh',25:'suresh',30:'sathish'}\n",
    "max(d2),min(d2),len(d2),sum(d2)"
   ]
  },
  {
   "cell_type": "code",
   "execution_count": 64,
   "id": "698ce69a",
   "metadata": {},
   "outputs": [
    {
     "data": {
      "text/plain": [
       "('names', 'age', 2)"
      ]
     },
     "execution_count": 64,
     "metadata": {},
     "output_type": "execute_result"
    }
   ],
   "source": [
    "d3 = {'names':['ramesh','suresh','sathish'],'age':[20,25,30]}\n",
    "max(d3),min(d3),len(d3),# sum is not applicable since they are strings"
   ]
  },
  {
   "cell_type": "code",
   "execution_count": 67,
   "id": "331b72c9",
   "metadata": {},
   "outputs": [
    {
     "data": {
      "text/plain": [
       "('names', 'age', 2)"
      ]
     },
     "execution_count": 67,
     "metadata": {},
     "output_type": "execute_result"
    }
   ],
   "source": [
    "d4 = {'names':('ramesh','suresh','sathish'),'age':(20,25,30)}\n",
    "max(d4),min(d4),len(d4),# sum(d4)"
   ]
  },
  {
   "cell_type": "code",
   "execution_count": 71,
   "id": "15d33d21",
   "metadata": {},
   "outputs": [
    {
     "data": {
      "text/plain": [
       "('names', 'age', 2)"
      ]
     },
     "execution_count": 71,
     "metadata": {},
     "output_type": "execute_result"
    }
   ],
   "source": [
    "d5 = {('names'):('ramesh','suresh','sathish'),('age'):{20,25,30}}\n",
    "max(d5),min(d5),len(d5), # sum(d5)"
   ]
  },
  {
   "cell_type": "markdown",
   "id": "fbff401a",
   "metadata": {},
   "source": [
    "##### Concatenation"
   ]
  },
  {
   "cell_type": "code",
   "execution_count": 13,
   "id": "4468fbef",
   "metadata": {},
   "outputs": [],
   "source": [
    "d1 = {'Names':20,}\n",
    "d12 = {'Age':30}\n",
    "d1+d12             # + operation is not supported for dict and dict"
   ]
  },
  {
   "cell_type": "markdown",
   "id": "02a11c96",
   "metadata": {},
   "source": [
    "##### In"
   ]
  },
  {
   "cell_type": "code",
   "execution_count": 5,
   "id": "962904ef",
   "metadata": {},
   "outputs": [
    {
     "name": "stdout",
     "output_type": "stream",
     "text": [
      "True\n"
     ]
    }
   ],
   "source": [
    "d2 = {'Ramesh':20,'Suresh':25,'Sathish':30}\n",
    "if 'Ramesh' in d2:\n",
    "    print(True)          # True statement (Keys are valid)"
   ]
  },
  {
   "cell_type": "code",
   "execution_count": 6,
   "id": "3643d157",
   "metadata": {},
   "outputs": [],
   "source": [
    "if 20 in d2:\n",
    "    print(True)         # False statement (Values are not valid)"
   ]
  },
  {
   "cell_type": "markdown",
   "id": "5c802785",
   "metadata": {},
   "source": [
    "##### Index"
   ]
  },
  {
   "cell_type": "code",
   "execution_count": 10,
   "id": "eaedba1b",
   "metadata": {},
   "outputs": [
    {
     "name": "stdout",
     "output_type": "stream",
     "text": [
      "Ramesh : 20\n",
      "Suresh : 25\n",
      "Sathish : 30\n"
     ]
    }
   ],
   "source": [
    "d2 = {'Ramesh':20,'Suresh':25,'Sathish':30}\n",
    "for i in d2:\n",
    "    print(i,':',d2[i])"
   ]
  },
  {
   "cell_type": "code",
   "execution_count": 11,
   "id": "2dd6169c",
   "metadata": {},
   "outputs": [
    {
     "data": {
      "text/plain": [
       "20"
      ]
     },
     "execution_count": 11,
     "metadata": {},
     "output_type": "execute_result"
    }
   ],
   "source": [
    "d2['Ramesh']"
   ]
  },
  {
   "cell_type": "markdown",
   "id": "4becff7f",
   "metadata": {},
   "source": [
    "$Zipping$"
   ]
  },
  {
   "cell_type": "code",
   "execution_count": 15,
   "id": "07619ccd",
   "metadata": {},
   "outputs": [
    {
     "name": "stdout",
     "output_type": "stream",
     "text": [
      "Ramesh 20\n",
      "Suresh 25\n",
      "Sathish 30\n"
     ]
    }
   ],
   "source": [
    "names = ['Ramesh','Suresh','Sathish']\n",
    "age = [20,25,30]\n",
    "for i,j in zip(names,age):\n",
    "    print(i,j)"
   ]
  },
  {
   "cell_type": "markdown",
   "id": "35770db5",
   "metadata": {},
   "source": [
    "$Same-output-of-zipping-using-dict$"
   ]
  },
  {
   "cell_type": "code",
   "execution_count": 16,
   "id": "64c53133",
   "metadata": {},
   "outputs": [
    {
     "name": "stdout",
     "output_type": "stream",
     "text": [
      "Ramesh 20\n",
      "Suresh 25\n",
      "Sathish 30\n"
     ]
    }
   ],
   "source": [
    "d3 = {'Ramesh':20,'Suresh':25,'Sathish':30}\n",
    "for i in d3:\n",
    "    print(i,d3[i])   # keys(i), values(d3[i])"
   ]
  },
  {
   "cell_type": "code",
   "execution_count": 26,
   "id": "a7bf1111",
   "metadata": {},
   "outputs": [
    {
     "name": "stdout",
     "output_type": "stream",
     "text": [
      "{'Even': 20, 'Odd': [21, 23, 25]}\n",
      "[10, 'Hello']\n",
      "abc\n"
     ]
    }
   ],
   "source": [
    "d1,l1,s1 = {},[],''\n",
    "\n",
    "l1.append(10)\n",
    "l1.append('Hello')\n",
    "\n",
    "s1 = s1+'a'\n",
    "s1 = s1+'b'\n",
    "s1 = s1+'c'\n",
    "\n",
    "d1['Even'] = 20\n",
    "d1['Odd'] = [21,23,25]\n",
    "\n",
    "print(d1)\n",
    "print(l1)\n",
    "print(s1)"
   ]
  },
  {
   "cell_type": "code",
   "execution_count": 27,
   "id": "415ab5eb",
   "metadata": {},
   "outputs": [
    {
     "name": "stdout",
     "output_type": "stream",
     "text": [
      "Enter the name:Gnana Teja\n",
      "Enter the city:Nizampet\n",
      "Enter your age:21\n",
      "{'Name': 'Gnana Teja', 'City': 'Nizampet', 'Age': 21}\n"
     ]
    }
   ],
   "source": [
    "d1 = {}\n",
    "name = input('Enter the name:')\n",
    "city = input('Enter the city:')\n",
    "age  = eval(input('Enter your age:'))\n",
    "\n",
    "d1['Name'] = name\n",
    "d1['City'] = city\n",
    "d1['Age']  = age\n",
    "\n",
    "print(d1)"
   ]
  },
  {
   "cell_type": "markdown",
   "id": "09981ed9",
   "metadata": {},
   "source": [
    "- Problem"
   ]
  },
  {
   "cell_type": "code",
   "execution_count": 37,
   "id": "62805cfc",
   "metadata": {},
   "outputs": [
    {
     "name": "stdout",
     "output_type": "stream",
     "text": [
      "{'Even': [46, 82, 72, 38, 10], 'Odd': [47, 71, 41, 95, 93]}\n"
     ]
    }
   ],
   "source": [
    "import random\n",
    "even_list,odd_list = [],[]\n",
    "dic1 = {}\n",
    "for i in range(10):\n",
    "    num=random.randint(1,100)\n",
    "    if num%2==0:\n",
    "        even_list.append(num)\n",
    "    else:\n",
    "        odd_list.append(num)\n",
    "dic1['Even']=even_list\n",
    "dic1['Odd']=odd_list\n",
    "print(dic1)"
   ]
  },
  {
   "cell_type": "markdown",
   "id": "5ef7fae1",
   "metadata": {},
   "source": [
    "- Word frequency"
   ]
  },
  {
   "cell_type": "code",
   "execution_count": 40,
   "id": "b85c4fbd",
   "metadata": {},
   "outputs": [
    {
     "name": "stdout",
     "output_type": "stream",
     "text": [
      "hello 3\n",
      "how 4\n",
      "are 2\n",
      "you, 1\n",
      "you 1\n"
     ]
    }
   ],
   "source": [
    "s1 = 'hello how how are you, hello how are you how hello'\n",
    "l1 = s1.split()\n",
    "l2=[]\n",
    "for i in l1:\n",
    "    if i not in l2:\n",
    "        print(i,l1.count(i))\n",
    "        l2.append(i)"
   ]
  },
  {
   "cell_type": "code",
   "execution_count": 42,
   "id": "a54d501a",
   "metadata": {},
   "outputs": [
    {
     "data": {
      "text/plain": [
       "{'hello': 3, 'how': 4, 'are': 2, 'you,': 1, 'you': 1}"
      ]
     },
     "execution_count": 42,
     "metadata": {},
     "output_type": "execute_result"
    }
   ],
   "source": [
    "s1 = 'hello how how are you, hello how are you how hello'\n",
    "l1 = s1.split()\n",
    "l2 = []\n",
    "d1 = {}\n",
    "for i in l1:\n",
    "    if i not in l2:\n",
    "        d1[i]=l1.count(i) #key(i), value(l.count(i))\n",
    "        l2.append(i)\n",
    "d1"
   ]
  },
  {
   "cell_type": "code",
   "execution_count": 51,
   "id": "a2bbb9a0",
   "metadata": {},
   "outputs": [
    {
     "data": {
      "text/plain": [
       "90"
      ]
     },
     "execution_count": 51,
     "metadata": {},
     "output_type": "execute_result"
    }
   ],
   "source": [
    "d1 = {'Fruites':[{'Apple':50},{'Banana':[60,90,56,97]}]}\n",
    "d1['Fruites'][1]['Banana'][1]"
   ]
  },
  {
   "cell_type": "code",
   "execution_count": 52,
   "id": "75e208aa",
   "metadata": {},
   "outputs": [
    {
     "data": {
      "text/plain": [
       "['__class__',\n",
       " '__class_getitem__',\n",
       " '__contains__',\n",
       " '__delattr__',\n",
       " '__delitem__',\n",
       " '__dir__',\n",
       " '__doc__',\n",
       " '__eq__',\n",
       " '__format__',\n",
       " '__ge__',\n",
       " '__getattribute__',\n",
       " '__getitem__',\n",
       " '__getstate__',\n",
       " '__gt__',\n",
       " '__hash__',\n",
       " '__init__',\n",
       " '__init_subclass__',\n",
       " '__ior__',\n",
       " '__iter__',\n",
       " '__le__',\n",
       " '__len__',\n",
       " '__lt__',\n",
       " '__ne__',\n",
       " '__new__',\n",
       " '__or__',\n",
       " '__reduce__',\n",
       " '__reduce_ex__',\n",
       " '__repr__',\n",
       " '__reversed__',\n",
       " '__ror__',\n",
       " '__setattr__',\n",
       " '__setitem__',\n",
       " '__sizeof__',\n",
       " '__str__',\n",
       " '__subclasshook__',\n",
       " 'clear',\n",
       " 'copy',\n",
       " 'fromkeys',\n",
       " 'get',\n",
       " 'items',\n",
       " 'keys',\n",
       " 'pop',\n",
       " 'popitem',\n",
       " 'setdefault',\n",
       " 'update',\n",
       " 'values']"
      ]
     },
     "execution_count": 52,
     "metadata": {},
     "output_type": "execute_result"
    }
   ],
   "source": [
    "dir(dict)"
   ]
  },
  {
   "cell_type": "markdown",
   "id": "c83da28d",
   "metadata": {},
   "source": [
    "- Keys\n",
    "- Values\n",
    "- Items"
   ]
  },
  {
   "cell_type": "code",
   "execution_count": null,
   "id": "144d70dd",
   "metadata": {},
   "outputs": [],
   "source": [
    "# keys = only keys , values = only values , items = both"
   ]
  },
  {
   "cell_type": "code",
   "execution_count": 57,
   "id": "b248d52e",
   "metadata": {},
   "outputs": [
    {
     "data": {
      "text/plain": [
       "dict_keys(['Fruites'])"
      ]
     },
     "execution_count": 57,
     "metadata": {},
     "output_type": "execute_result"
    }
   ],
   "source": [
    "d1 = {'Fruites':[{'Apple':50},{'Banana':[60,90,56,97]}]}\n",
    "d1.keys()"
   ]
  },
  {
   "cell_type": "code",
   "execution_count": 60,
   "id": "f70a944d",
   "metadata": {},
   "outputs": [
    {
     "data": {
      "text/plain": [
       "dict_keys"
      ]
     },
     "execution_count": 60,
     "metadata": {},
     "output_type": "execute_result"
    }
   ],
   "source": [
    "type(d1.keys())"
   ]
  },
  {
   "cell_type": "code",
   "execution_count": 67,
   "id": "4979ce62",
   "metadata": {},
   "outputs": [
    {
     "data": {
      "text/plain": [
       "['Fruites']"
      ]
     },
     "execution_count": 67,
     "metadata": {},
     "output_type": "execute_result"
    }
   ],
   "source": [
    "list(d1.keys())"
   ]
  },
  {
   "cell_type": "code",
   "execution_count": 68,
   "id": "b9d1d07a",
   "metadata": {},
   "outputs": [
    {
     "data": {
      "text/plain": [
       "'FRUITES'"
      ]
     },
     "execution_count": 68,
     "metadata": {},
     "output_type": "execute_result"
    }
   ],
   "source": [
    "list(d1.keys())[0].upper()"
   ]
  },
  {
   "cell_type": "code",
   "execution_count": 58,
   "id": "6b601f3c",
   "metadata": {},
   "outputs": [
    {
     "data": {
      "text/plain": [
       "dict_values([[{'Apple': 50}, {'Banana': [60, 90, 56, 97]}]])"
      ]
     },
     "execution_count": 58,
     "metadata": {},
     "output_type": "execute_result"
    }
   ],
   "source": [
    "d1.values()"
   ]
  },
  {
   "cell_type": "code",
   "execution_count": 59,
   "id": "ef6444da",
   "metadata": {},
   "outputs": [
    {
     "data": {
      "text/plain": [
       "dict_items([('Fruites', [{'Apple': 50}, {'Banana': [60, 90, 56, 97]}])])"
      ]
     },
     "execution_count": 59,
     "metadata": {},
     "output_type": "execute_result"
    }
   ],
   "source": [
    "d1.items()"
   ]
  },
  {
   "cell_type": "markdown",
   "id": "9750f069",
   "metadata": {},
   "source": [
    "- Clear\n",
    "- Copy\n",
    "- Get\n",
    "- pop\n",
    "- popitem"
   ]
  },
  {
   "cell_type": "code",
   "execution_count": 70,
   "id": "11cbf2d8",
   "metadata": {},
   "outputs": [
    {
     "data": {
      "text/plain": [
       "{}"
      ]
     },
     "execution_count": 70,
     "metadata": {},
     "output_type": "execute_result"
    }
   ],
   "source": [
    "d1.clear()\n",
    "d1"
   ]
  },
  {
   "cell_type": "code",
   "execution_count": 78,
   "id": "d07d4386",
   "metadata": {},
   "outputs": [
    {
     "name": "stdout",
     "output_type": "stream",
     "text": [
      "{'Ramesh': 20, 'Suresh': 25, 'Sathish': 30}\n"
     ]
    },
    {
     "data": {
      "text/plain": [
       "{}"
      ]
     },
     "execution_count": 78,
     "metadata": {},
     "output_type": "execute_result"
    }
   ],
   "source": [
    "d1 = {'Ramesh':20,'Suresh':25,'Sathish':30}\n",
    "d2 = d1.copy()\n",
    "print(d2)\n",
    "d2.clear()\n",
    "d2"
   ]
  },
  {
   "cell_type": "code",
   "execution_count": 81,
   "id": "57590ccc",
   "metadata": {},
   "outputs": [
    {
     "data": {
      "text/plain": [
       "(20, 25, 30)"
      ]
     },
     "execution_count": 81,
     "metadata": {},
     "output_type": "execute_result"
    }
   ],
   "source": [
    "d1.get('Ramesh'),d1.get('Suresh'),d1.get('Sathish')"
   ]
  },
  {
   "cell_type": "code",
   "execution_count": 87,
   "id": "03fd6f0d",
   "metadata": {},
   "outputs": [
    {
     "name": "stdout",
     "output_type": "stream",
     "text": [
      "{'Suresh': 25, 'Sathish': 30}\n"
     ]
    },
    {
     "data": {
      "text/plain": [
       "30"
      ]
     },
     "execution_count": 87,
     "metadata": {},
     "output_type": "execute_result"
    }
   ],
   "source": [
    "print(d1)\n",
    "d1.pop('Sathish')\n",
    "# returns the value of the key and removes the specified key"
   ]
  },
  {
   "cell_type": "code",
   "execution_count": 88,
   "id": "58ad6b8d",
   "metadata": {},
   "outputs": [
    {
     "name": "stdout",
     "output_type": "stream",
     "text": [
      "{'Suresh': 25}\n"
     ]
    }
   ],
   "source": [
    "print(d1) # sathish key is removed "
   ]
  },
  {
   "cell_type": "code",
   "execution_count": 89,
   "id": "204c0295",
   "metadata": {},
   "outputs": [
    {
     "data": {
      "text/plain": [
       "('Sathish', 30)"
      ]
     },
     "execution_count": 89,
     "metadata": {},
     "output_type": "execute_result"
    }
   ],
   "source": [
    "d1 = {'Ramesh':20,'Suresh':25,'Sathish':30}\n",
    "d1.popitem() # removes last key and value which will return in tuple."
   ]
  },
  {
   "cell_type": "code",
   "execution_count": 92,
   "id": "1267b142",
   "metadata": {},
   "outputs": [
    {
     "data": {
      "text/plain": [
       "('Suresh', 25)"
      ]
     },
     "execution_count": 92,
     "metadata": {},
     "output_type": "execute_result"
    }
   ],
   "source": [
    "d1.popitem()  # no arguments are taken"
   ]
  },
  {
   "cell_type": "code",
   "execution_count": 93,
   "id": "2114db0c",
   "metadata": {},
   "outputs": [
    {
     "data": {
      "text/plain": [
       "{'Ramesh': 20}"
      ]
     },
     "execution_count": 93,
     "metadata": {},
     "output_type": "execute_result"
    }
   ],
   "source": [
    "d1"
   ]
  },
  {
   "cell_type": "markdown",
   "id": "a755c988",
   "metadata": {},
   "source": [
    "- Fromkeys\n",
    "- setdefault\n",
    "- update"
   ]
  },
  {
   "cell_type": "code",
   "execution_count": 104,
   "id": "27c27e63",
   "metadata": {},
   "outputs": [
    {
     "data": {
      "text/plain": [
       "{'S': 35}"
      ]
     },
     "execution_count": 104,
     "metadata": {},
     "output_type": "execute_result"
    }
   ],
   "source": [
    "d1 = {'Ramesh':20,'Suresh':25,'Sathish':30}\n",
    "d1.fromkeys('S',35)"
   ]
  },
  {
   "cell_type": "code",
   "execution_count": 1,
   "id": "56d9615a",
   "metadata": {},
   "outputs": [
    {
     "name": "stdout",
     "output_type": "stream",
     "text": [
      "{'Ramesh': 20, 'Suresh': 25, 'Sathish': 30, 'Rahul': 35}\n",
      "('Rahul', 35)\n"
     ]
    },
    {
     "data": {
      "text/plain": [
       "{'Ramesh': 20, 'Suresh': 25, 'Sathish': 30}"
      ]
     },
     "execution_count": 1,
     "metadata": {},
     "output_type": "execute_result"
    }
   ],
   "source": [
    "d1 = {'Ramesh':20,'Suresh':25,'Sathish':30}\n",
    "d1.setdefault('Rahul',35)\n",
    "print(d1)\n",
    "print(d1.popitem())\n",
    "d1"
   ]
  },
  {
   "cell_type": "code",
   "execution_count": 3,
   "id": "467ff282",
   "metadata": {},
   "outputs": [
    {
     "name": "stdout",
     "output_type": "stream",
     "text": [
      "{'Ramesh': 20, 'Suresh': 25}\n",
      "{'Suresh': 25, 'Ramesh': 20}\n"
     ]
    }
   ],
   "source": [
    "d1 = {'Ramesh':20}\n",
    "d2 = {'Suresh':25}\n",
    "d1.update(d2)\n",
    "d2.update(d1)\n",
    "print(d1)\n",
    "print(d2)"
   ]
  },
  {
   "cell_type": "code",
   "execution_count": null,
   "id": "990dbb3c",
   "metadata": {},
   "outputs": [],
   "source": []
  },
  {
   "cell_type": "code",
   "execution_count": null,
   "id": "5c7ee615",
   "metadata": {},
   "outputs": [],
   "source": []
  },
  {
   "cell_type": "code",
   "execution_count": null,
   "id": "9bf508b6",
   "metadata": {},
   "outputs": [],
   "source": []
  }
 ],
 "metadata": {
  "kernelspec": {
   "display_name": "Python 3 (ipykernel)",
   "language": "python",
   "name": "python3"
  },
  "language_info": {
   "codemirror_mode": {
    "name": "ipython",
    "version": 3
   },
   "file_extension": ".py",
   "mimetype": "text/x-python",
   "name": "python",
   "nbconvert_exporter": "python",
   "pygments_lexer": "ipython3",
   "version": "3.11.5"
  }
 },
 "nbformat": 4,
 "nbformat_minor": 5
}
