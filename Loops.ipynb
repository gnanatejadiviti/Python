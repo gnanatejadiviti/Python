{
 "cells": [
  {
   "cell_type": "markdown",
   "id": "c7b595ce",
   "metadata": {},
   "source": [
    "# For Loops"
   ]
  },
  {
   "cell_type": "markdown",
   "id": "2678b849",
   "metadata": {},
   "source": [
    "- In python index starts with 0 i.e, 0 1 2 3"
   ]
  },
  {
   "cell_type": "markdown",
   "id": "da371612",
   "metadata": {},
   "source": [
    "$Pattern-1$"
   ]
  },
  {
   "cell_type": "markdown",
   "id": "fe8eea2c",
   "metadata": {},
   "source": [
    "#### range(stop)\n",
    "- Start value by default is 0\n",
    "- Index starts with 0\n",
    "- By default it is increment by 1\n",
    "- Last value = Stop value-1"
   ]
  },
  {
   "cell_type": "code",
   "execution_count": null,
   "id": "68137b5a",
   "metadata": {},
   "outputs": [],
   "source": [
    "for i in range(5):\n",
    "    print(i,end=' ')"
   ]
  },
  {
   "cell_type": "code",
   "execution_count": null,
   "id": "51ecd4bc",
   "metadata": {},
   "outputs": [],
   "source": [
    "for i in range(3):\n",
    "    print(i)"
   ]
  },
  {
   "cell_type": "code",
   "execution_count": null,
   "id": "6ce5f2aa",
   "metadata": {},
   "outputs": [],
   "source": [
    "for i in range(10):\n",
    "    print(i,end=' ')\n",
    "    print(i)"
   ]
  },
  {
   "cell_type": "code",
   "execution_count": null,
   "id": "dc301f5c",
   "metadata": {},
   "outputs": [],
   "source": [
    "try:\n",
    "    for i in range(10):\n",
    "        print(i,end=' ')\n",
    "        print(i/i)\n",
    "except Exception as e:\n",
    "    print(e)"
   ]
  },
  {
   "cell_type": "markdown",
   "id": "e9cd862e",
   "metadata": {},
   "source": [
    "$Pattern-2$"
   ]
  },
  {
   "cell_type": "markdown",
   "id": "516e5431",
   "metadata": {},
   "source": [
    "#### range(start,stop)\n",
    "- Start value taken as start mentioned inside the range\n",
    "- by Defalut the increment is 1\n",
    "- last value= stop value-1"
   ]
  },
  {
   "cell_type": "code",
   "execution_count": null,
   "id": "f24c6511",
   "metadata": {},
   "outputs": [],
   "source": [
    "for i in range(2,8):\n",
    "    print(i,end=' ')"
   ]
  },
  {
   "cell_type": "markdown",
   "id": "5b9601e2",
   "metadata": {},
   "source": [
    "$Pattern-3$"
   ]
  },
  {
   "cell_type": "markdown",
   "id": "1405b9d9",
   "metadata": {},
   "source": [
    "#### range(start,stop,step)\n",
    "- start = start\n",
    "- step= Gap\n",
    "    - if step size is positive value consider as positive direction\n",
    "    - if step size is negative value consider as negative direction\n",
    "- Last value= stop value-1\n",
    "    - last=stop-1 (if step size is positive value)\n",
    "    - last=stop+1 (if step size is negative value)"
   ]
  },
  {
   "cell_type": "code",
   "execution_count": null,
   "id": "35e107ba",
   "metadata": {},
   "outputs": [],
   "source": [
    "for i in range(1,10,3):\n",
    "    print(i,end=' ')"
   ]
  },
  {
   "cell_type": "code",
   "execution_count": null,
   "id": "07910aa2",
   "metadata": {},
   "outputs": [],
   "source": [
    "for i in range(1,10,-3):\n",
    "    print(i,end=' ')    \n",
    "    \n",
    "# start=1, step=-3 so direction is -ve , last = 10+1 = 11\n",
    "# 1 to 11 in reverse direction, which is not possible\n",
    "# Hence no answer and no error"
   ]
  },
  {
   "cell_type": "code",
   "execution_count": null,
   "id": "98064f0d",
   "metadata": {},
   "outputs": [],
   "source": [
    "for i in range(1,-10,3):\n",
    "    print(i,end=' ')\n",
    "# No answer and no error"
   ]
  },
  {
   "cell_type": "code",
   "execution_count": null,
   "id": "3da154cc",
   "metadata": {},
   "outputs": [],
   "source": [
    "for i in range(-1,-5):\n",
    "    print(i)"
   ]
  },
  {
   "cell_type": "code",
   "execution_count": null,
   "id": "6f3da266",
   "metadata": {},
   "outputs": [],
   "source": [
    "for i in range(-5,15,3):\n",
    "    print(i,end=' ')"
   ]
  },
  {
   "cell_type": "code",
   "execution_count": null,
   "id": "ab40ae86",
   "metadata": {},
   "outputs": [],
   "source": [
    "for i in range(-5,-15,3):\n",
    "    print(i,end=' ')       #No answer and no Error\n",
    "    \n",
    "for i in range(-5,-15,-3): #step size is -ve and the code will go in -ve direction hence -5 to -15  so it is possible\n",
    "    print(i,end=' ')"
   ]
  },
  {
   "cell_type": "code",
   "execution_count": null,
   "id": "8a9180e5",
   "metadata": {},
   "outputs": [],
   "source": [
    "for i in range(5,11):\n",
    "    print(f'The square of the {i} is {i*i}')"
   ]
  },
  {
   "cell_type": "code",
   "execution_count": null,
   "id": "3805f9fd",
   "metadata": {},
   "outputs": [],
   "source": [
    "for i in range(1,11):\n",
    "    print(f'9 x {i} = {9*i}')"
   ]
  },
  {
   "cell_type": "code",
   "execution_count": null,
   "id": "4246d0a3",
   "metadata": {},
   "outputs": [],
   "source": [
    "for i in range(1,21):\n",
    "\n",
    "    print(f'12 x {i} = {12*i}')"
   ]
  },
  {
   "cell_type": "code",
   "execution_count": null,
   "id": "64d582b8",
   "metadata": {},
   "outputs": [],
   "source": [
    "num= eval(input('Enter the multiplication table you want:'))\n",
    "for i in range(1,11):\n",
    "    print(f'{num} x {i} = {num*i}')"
   ]
  },
  {
   "cell_type": "code",
   "execution_count": null,
   "id": "f14c42bd",
   "metadata": {},
   "outputs": [],
   "source": [
    "import random\n",
    "for i in range(5):\n",
    "    num=random.randint(5,50)\n",
    "    print(num*num)\n",
    "    print(num)"
   ]
  },
  {
   "cell_type": "code",
   "execution_count": null,
   "id": "f0f086f0",
   "metadata": {},
   "outputs": [],
   "source": [
    "for i in range(3):\n",
    "    print('Good morning')"
   ]
  },
  {
   "cell_type": "code",
   "execution_count": null,
   "id": "534e4fb0",
   "metadata": {},
   "outputs": [],
   "source": [
    "for i in range(5,11):\n",
    "    if i%2==0:\n",
    "        print(f'{i} is even')\n",
    "    else:\n",
    "        print(f'{i} is odd') ## i is the use case"
   ]
  },
  {
   "cell_type": "code",
   "execution_count": null,
   "id": "f65fc4a6",
   "metadata": {},
   "outputs": [],
   "source": [
    "for i in range(5):\n",
    "    num=eval(input('Enter a number:'))\n",
    "    if num%2==0:\n",
    "        print(f'{num} is even')\n",
    "    else:\n",
    "        print(f'{num} is odd') ## i is used in loop"
   ]
  },
  {
   "cell_type": "code",
   "execution_count": null,
   "id": "be66e891",
   "metadata": {},
   "outputs": [],
   "source": [
    "import random\n",
    "for i in range(5):\n",
    "    num=random.randint(5,50)\n",
    "    if num%2==0:\n",
    "        print(f'{num} is even')\n",
    "\n",
    "    else:\n",
    "        print(f'{num} is odd') ## i is used in loop\n",
    "        "
   ]
  },
  {
   "cell_type": "code",
   "execution_count": null,
   "id": "ae741fb2",
   "metadata": {},
   "outputs": [],
   "source": [
    "even_count=0\n",
    "odd_count=0\n",
    "for i in range(5):\n",
    "    num=random.randint(5,50)\n",
    "    if num%2==0:\n",
    "        print(f'{num} is even')\n",
    "        even_count=even_count+1\n",
    "    else:\n",
    "        print(f'{num} is odd') ## i is used in loop\n",
    "        odd_count=odd_count+1\n",
    "print('The num of even numbers are',even_count)\n",
    "print('The num of odd numbers are',odd_count)"
   ]
  },
  {
   "cell_type": "markdown",
   "id": "8712454d",
   "metadata": {},
   "source": [
    "# While Loops"
   ]
  },
  {
   "cell_type": "markdown",
   "id": "1af974a6",
   "metadata": {},
   "source": [
    "##### Write a program that prompts the user to enter a number (n). The program should then use a while loop to count from 1 to n and print each number on a new line."
   ]
  },
  {
   "cell_type": "code",
   "execution_count": null,
   "id": "6b7ca150",
   "metadata": {},
   "outputs": [],
   "source": [
    "n=eval(input('Enter the number:'))\n",
    "i=1\n",
    "while i<=n:\n",
    "    print(i)\n",
    "    i=i+1"
   ]
  },
  {
   "cell_type": "markdown",
   "id": "093f2928",
   "metadata": {},
   "source": [
    "##### Write a program that calculates and prints the sum of even numbers from 1 to 50 using a while loop."
   ]
  },
  {
   "cell_type": "code",
   "execution_count": 6,
   "id": "fe47d2a4",
   "metadata": {},
   "outputs": [
    {
     "name": "stdout",
     "output_type": "stream",
     "text": [
      "650\n"
     ]
    }
   ],
   "source": [
    "summ=0\n",
    "i=1\n",
    "while i<=50:\n",
    "    if i%2==0:\n",
    "       \n",
    "        summ=summ+i\n",
    "    i=i+1\n",
    "print(summ)"
   ]
  },
  {
   "cell_type": "markdown",
   "id": "c4d8ecd5",
   "metadata": {},
   "source": [
    "##### Create a simple password guessing game. Set a password (e.g., \"python123\") and ask the user to guess the password. Use a while loop to repeatedly prompt the user for input until they enter the correct password. Provide feedback on whether each guess is correct or incorrect."
   ]
  },
  {
   "cell_type": "code",
   "execution_count": 14,
   "id": "885fbe31",
   "metadata": {},
   "outputs": [
    {
     "name": "stdout",
     "output_type": "stream",
     "text": [
      "Enter your password:aihfa\n",
      "Incorrect\n",
      "Enter your password:aoihva'\n",
      "Incorrect\n",
      "Enter your password:fvhq;f\n",
      "Incorrect\n",
      "Enter your password:efh\n",
      "Incorrect\n",
      "Enter your password:python123\n",
      "Correct\n"
     ]
    }
   ],
   "source": [
    "pas='python123'\n",
    "i=0\n",
    "while True:\n",
    "    guess_pas=input('Enter your password:')\n",
    "    if pas==guess_pas:\n",
    "        print('Correct')\n",
    "        break\n",
    "    else:\n",
    "        print('Incorrect')"
   ]
  },
  {
   "cell_type": "code",
   "execution_count": null,
   "id": "11902a2e",
   "metadata": {},
   "outputs": [],
   "source": []
  }
 ],
 "metadata": {
  "kernelspec": {
   "display_name": "Python 3 (ipykernel)",
   "language": "python",
   "name": "python3"
  },
  "language_info": {
   "codemirror_mode": {
    "name": "ipython",
    "version": 3
   },
   "file_extension": ".py",
   "mimetype": "text/x-python",
   "name": "python",
   "nbconvert_exporter": "python",
   "pygments_lexer": "ipython3",
   "version": "3.11.5"
  }
 },
 "nbformat": 4,
 "nbformat_minor": 5
}
