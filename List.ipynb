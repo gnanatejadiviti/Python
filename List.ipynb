{
 "cells": [
  {
   "cell_type": "markdown",
   "id": "3ee9178e",
   "metadata": {},
   "source": [
    "- How to read\n",
    "\n",
    "- How many ways we can represent\n",
    "\n",
    "- type\n",
    "\n",
    "- len\n",
    "\n",
    "- max\n",
    "\n",
    "- min\n",
    "\n",
    "- sorted\n",
    "\n",
    "- reversed\n",
    "\n",
    "- concatenation\n",
    "\n",
    "- in \n",
    "\n",
    "- index\n",
    "\n",
    "- for loop iteration\n",
    "\n",
    "- mutable-immutable\n",
    "\n",
    "- slice\n",
    "\n",
    "- Methods"
   ]
  },
  {
   "cell_type": "code",
   "execution_count": null,
   "id": "d7abbe30",
   "metadata": {},
   "outputs": [],
   "source": [
    "l1 = [1,2,3,4]\n",
    "print(l1)\n",
    "type(l1)"
   ]
  },
  {
   "cell_type": "code",
   "execution_count": null,
   "id": "d6ceeddd",
   "metadata": {},
   "outputs": [],
   "source": [
    "l2 = ['A','B','C']\n",
    "l2"
   ]
  },
  {
   "cell_type": "code",
   "execution_count": null,
   "id": "a39d0e4c",
   "metadata": {},
   "outputs": [],
   "source": [
    "dir(list)"
   ]
  },
  {
   "cell_type": "code",
   "execution_count": null,
   "id": "a8be8e4c",
   "metadata": {},
   "outputs": [],
   "source": [
    "l3 = [1,2,3,'a','b','c']\n",
    "l3"
   ]
  },
  {
   "cell_type": "code",
   "execution_count": null,
   "id": "3f0c4f9f",
   "metadata": {},
   "outputs": [],
   "source": [
    "l4 = [10.25,True,20+30j]\n",
    "l4"
   ]
  },
  {
   "cell_type": "code",
   "execution_count": null,
   "id": "06558175",
   "metadata": {},
   "outputs": [],
   "source": [
    "l5 = [100,100,100]\n",
    "l5             # list suppoorts duplicate values"
   ]
  },
  {
   "cell_type": "code",
   "execution_count": null,
   "id": "75777f17",
   "metadata": {},
   "outputs": [],
   "source": [
    "l6 = [1,2,3,['A','B','C']]\n",
    "l6            # list in list will also works"
   ]
  },
  {
   "cell_type": "code",
   "execution_count": null,
   "id": "52c7ee3b",
   "metadata": {},
   "outputs": [],
   "source": [
    "l7 = [_]\n",
    "l7"
   ]
  },
  {
   "cell_type": "markdown",
   "id": "55ea20ce",
   "metadata": {},
   "source": [
    "- List is array of elements \n",
    "- That elements can be any datatype\n",
    "- Heterogeneous\n",
    "- List allows duplicates \n",
    "- List in list is possible\n",
    "- List of underscore[_], is nothing but list in list"
   ]
  },
  {
   "cell_type": "code",
   "execution_count": null,
   "id": "e7389992",
   "metadata": {},
   "outputs": [],
   "source": [
    "print(len(l1))\n",
    "print(max(l1))\n",
    "print(min(l1))\n",
    "print(sum(l1))"
   ]
  },
  {
   "cell_type": "code",
   "execution_count": null,
   "id": "b69a0454",
   "metadata": {},
   "outputs": [],
   "source": [
    "len(l2),max(l2),min(l2) #sum is not possible"
   ]
  },
  {
   "cell_type": "code",
   "execution_count": null,
   "id": "6f688899",
   "metadata": {},
   "outputs": [],
   "source": [
    "len(l3) #max , min , sum not possible"
   ]
  },
  {
   "cell_type": "code",
   "execution_count": null,
   "id": "ca34ebec",
   "metadata": {},
   "outputs": [],
   "source": [
    "len(l4),sum(l4) #max , min are not possible"
   ]
  },
  {
   "cell_type": "code",
   "execution_count": null,
   "id": "a2afa432",
   "metadata": {},
   "outputs": [],
   "source": [
    "len(l5),max(l5),min(l5),sum(l5)"
   ]
  },
  {
   "cell_type": "code",
   "execution_count": null,
   "id": "b45979f0",
   "metadata": {},
   "outputs": [],
   "source": [
    "len(l6) # max,min,sum not possible"
   ]
  },
  {
   "cell_type": "code",
   "execution_count": null,
   "id": "f5c84b3f",
   "metadata": {},
   "outputs": [],
   "source": [
    "len(l7),max(l7),min(l7)"
   ]
  },
  {
   "cell_type": "code",
   "execution_count": null,
   "id": "ca80cb40",
   "metadata": {},
   "outputs": [],
   "source": [
    "sorted(l1),  sorted(l1,reverse=True)"
   ]
  },
  {
   "cell_type": "code",
   "execution_count": null,
   "id": "77d969a4",
   "metadata": {},
   "outputs": [],
   "source": [
    "sorted(l2),  sorted(l2,reverse=True)"
   ]
  },
  {
   "cell_type": "code",
   "execution_count": null,
   "id": "124f8cb9",
   "metadata": {},
   "outputs": [],
   "source": [
    "sorted(l3),  sorted(l3,reverse=True) # fails"
   ]
  },
  {
   "cell_type": "code",
   "execution_count": null,
   "id": "303c6ab7",
   "metadata": {},
   "outputs": [],
   "source": [
    "sorted(l4),  sorted(l4,reverse=True) # fails"
   ]
  },
  {
   "cell_type": "code",
   "execution_count": null,
   "id": "86ca2082",
   "metadata": {},
   "outputs": [],
   "source": [
    "sorted(l5),  sorted(l5,reverse=True)"
   ]
  },
  {
   "cell_type": "code",
   "execution_count": null,
   "id": "f81672d0",
   "metadata": {},
   "outputs": [],
   "source": [
    "sorted(l6),  sorted(l6,reverse=True) # fails"
   ]
  },
  {
   "cell_type": "markdown",
   "id": "69ff9933",
   "metadata": {},
   "source": [
    "##### Reversed"
   ]
  },
  {
   "cell_type": "code",
   "execution_count": null,
   "id": "9e5cd75f",
   "metadata": {},
   "outputs": [],
   "source": [
    "val = reversed(l1)\n",
    "for i in val:\n",
    "    print(i, end=' ')"
   ]
  },
  {
   "cell_type": "code",
   "execution_count": null,
   "id": "9a03780d",
   "metadata": {},
   "outputs": [],
   "source": [
    "val1 = reversed(l2)\n",
    "for i in val1:\n",
    "    print(i,end=' ')"
   ]
  },
  {
   "cell_type": "code",
   "execution_count": null,
   "id": "381e6ee0",
   "metadata": {},
   "outputs": [],
   "source": [
    "val1 = reversed(l3)\n",
    "for i in val1:\n",
    "    print(i,end=' ')"
   ]
  },
  {
   "cell_type": "code",
   "execution_count": null,
   "id": "7b1908da",
   "metadata": {},
   "outputs": [],
   "source": [
    "val1 = reversed(l4)\n",
    "for i in val1:\n",
    "    print(i,end=' ')"
   ]
  },
  {
   "cell_type": "code",
   "execution_count": null,
   "id": "3fc59e58",
   "metadata": {},
   "outputs": [],
   "source": [
    "val1 = reversed(l5)\n",
    "for i in val1:\n",
    "    print(i,end=' ')"
   ]
  },
  {
   "cell_type": "code",
   "execution_count": null,
   "id": "6b08f15b",
   "metadata": {},
   "outputs": [],
   "source": [
    "val1 = reversed(l6)\n",
    "for i in val1:\n",
    "    print(i,end=' ')"
   ]
  },
  {
   "cell_type": "markdown",
   "id": "77748700",
   "metadata": {},
   "source": [
    "##### Concatenation"
   ]
  },
  {
   "cell_type": "code",
   "execution_count": null,
   "id": "10813c67",
   "metadata": {},
   "outputs": [],
   "source": [
    "l1+l2\n",
    "l2+l1"
   ]
  },
  {
   "cell_type": "code",
   "execution_count": null,
   "id": "bd2ac22c",
   "metadata": {},
   "outputs": [],
   "source": [
    "l1*3"
   ]
  },
  {
   "cell_type": "code",
   "execution_count": null,
   "id": "33cff826",
   "metadata": {},
   "outputs": [],
   "source": [
    "l1+l4"
   ]
  },
  {
   "cell_type": "code",
   "execution_count": null,
   "id": "5d5cea4d",
   "metadata": {},
   "outputs": [],
   "source": [
    "l4+l6"
   ]
  },
  {
   "cell_type": "code",
   "execution_count": null,
   "id": "03da1b96",
   "metadata": {},
   "outputs": [],
   "source": [
    "l3+l4"
   ]
  },
  {
   "cell_type": "markdown",
   "id": "76e9214f",
   "metadata": {},
   "source": [
    "##### In operator"
   ]
  },
  {
   "cell_type": "code",
   "execution_count": null,
   "id": "227030e2",
   "metadata": {},
   "outputs": [],
   "source": [
    "l1 = [1,2,3,4]\n",
    "for i in l1:\n",
    "    print(i)"
   ]
  },
  {
   "cell_type": "code",
   "execution_count": null,
   "id": "f15772ff",
   "metadata": {},
   "outputs": [],
   "source": [
    "for i in l6:\n",
    "    print(i)"
   ]
  },
  {
   "cell_type": "markdown",
   "id": "9edf460d",
   "metadata": {},
   "source": [
    "##### Indexing"
   ]
  },
  {
   "cell_type": "code",
   "execution_count": null,
   "id": "f2277f11",
   "metadata": {},
   "outputs": [],
   "source": [
    "l2[0],l2[1],l2[2]"
   ]
  },
  {
   "cell_type": "code",
   "execution_count": null,
   "id": "e9f04ab5",
   "metadata": {},
   "outputs": [],
   "source": [
    "l2[-3],l2[-2],l2[-1]"
   ]
  },
  {
   "cell_type": "code",
   "execution_count": null,
   "id": "f6803f41",
   "metadata": {},
   "outputs": [],
   "source": [
    "for i in range(len(l2)):\n",
    "    print(i,l2[i])"
   ]
  },
  {
   "cell_type": "code",
   "execution_count": null,
   "id": "ac294e30",
   "metadata": {},
   "outputs": [],
   "source": [
    "for i in range(len(l2)):\n",
    "    print(i-len(l2))"
   ]
  },
  {
   "cell_type": "code",
   "execution_count": null,
   "id": "90373707",
   "metadata": {},
   "outputs": [],
   "source": [
    "for i in range(len(l4)):\n",
    "    print(i,l4[i])"
   ]
  },
  {
   "cell_type": "code",
   "execution_count": null,
   "id": "e4c9d9c6",
   "metadata": {},
   "outputs": [],
   "source": [
    "l1 = ['Apple','Banana','Cherry']\n",
    "n = len(l1)\n",
    "for i in range(n):\n",
    "    print(f'The positive index of {l1[i]} is {i}')"
   ]
  },
  {
   "cell_type": "code",
   "execution_count": null,
   "id": "282179f1",
   "metadata": {},
   "outputs": [],
   "source": [
    "l1 = ['Apple','Banana','Cherry']\n",
    "n = len(l1)\n",
    "for i in range(n):\n",
    "    print(f'The negative index of {l1[i]} is {i-n}')"
   ]
  },
  {
   "cell_type": "code",
   "execution_count": null,
   "id": "8afcac7e",
   "metadata": {},
   "outputs": [],
   "source": [
    "l1 = ['Apple','Banana','Cherry']\n",
    "n = len(l1)\n",
    "for i in range(n):\n",
    "    print(f'The positive index is {i} and negative index is {i-n} for {l1[i]}')"
   ]
  },
  {
   "cell_type": "markdown",
   "id": "6df093cb",
   "metadata": {},
   "source": [
    "##### Mutable-Immutable"
   ]
  },
  {
   "cell_type": "code",
   "execution_count": null,
   "id": "5c24089e",
   "metadata": {},
   "outputs": [],
   "source": [
    "l7 = [1,2,3]\n",
    "l7[0] = 100\n",
    "l7"
   ]
  },
  {
   "cell_type": "markdown",
   "id": "b6c45e20",
   "metadata": {},
   "source": [
    "- **Lists are mutable**\n",
    "- **Strings are immutable**"
   ]
  },
  {
   "cell_type": "markdown",
   "id": "abdff251",
   "metadata": {},
   "source": [
    "##### Slice"
   ]
  },
  {
   "cell_type": "code",
   "execution_count": null,
   "id": "9fe6f2be",
   "metadata": {},
   "outputs": [],
   "source": [
    "list1 = [1,2,3,4,5,'A','B','C','D','E',100,200,300,400,'Apple','Banana']\n",
    "n = len(list1)\n",
    "for i in range(n):\n",
    "    print(f'The positive index is {i} for {list1[i]} and negative index is {i-n} for {list1[i]}')"
   ]
  },
  {
   "cell_type": "code",
   "execution_count": null,
   "id": "763c155a",
   "metadata": {},
   "outputs": [],
   "source": [
    "list1[3:14:2]"
   ]
  },
  {
   "cell_type": "code",
   "execution_count": null,
   "id": "0a4c97b9",
   "metadata": {},
   "outputs": [],
   "source": [
    "list1[3:14:-2]"
   ]
  },
  {
   "cell_type": "code",
   "execution_count": null,
   "id": "3fb05100",
   "metadata": {},
   "outputs": [],
   "source": [
    "list1[3:-14:2]"
   ]
  },
  {
   "cell_type": "code",
   "execution_count": null,
   "id": "79f453ac",
   "metadata": {},
   "outputs": [],
   "source": [
    "list1[3:-14:-2]"
   ]
  },
  {
   "cell_type": "code",
   "execution_count": null,
   "id": "074d1ab6",
   "metadata": {},
   "outputs": [],
   "source": [
    "list1[-3:-14:-2]"
   ]
  },
  {
   "cell_type": "code",
   "execution_count": null,
   "id": "e350e2e3",
   "metadata": {},
   "outputs": [],
   "source": [
    "list1[-3:14:2]"
   ]
  },
  {
   "cell_type": "code",
   "execution_count": null,
   "id": "48d3481b",
   "metadata": {},
   "outputs": [],
   "source": [
    "list1[::]"
   ]
  },
  {
   "cell_type": "code",
   "execution_count": null,
   "id": "f8b7f77b",
   "metadata": {},
   "outputs": [],
   "source": [
    "list1[::-1]"
   ]
  },
  {
   "cell_type": "code",
   "execution_count": null,
   "id": "942cc10b",
   "metadata": {},
   "outputs": [],
   "source": [
    "list1.index(2)"
   ]
  },
  {
   "cell_type": "code",
   "execution_count": null,
   "id": "8f199a62",
   "metadata": {},
   "outputs": [],
   "source": [
    "l1 = []\n",
    "l1.insert(0,5)\n",
    "l1\n",
    "l1.insert(1,10)\n",
    "l1\n",
    "l1.insert(0,6)\n",
    "l1"
   ]
  },
  {
   "cell_type": "code",
   "execution_count": null,
   "id": "9dddfae7",
   "metadata": {},
   "outputs": [],
   "source": [
    "list1 = [1,2,3,['A','B']]\n",
    "len(list1)"
   ]
  },
  {
   "cell_type": "code",
   "execution_count": null,
   "id": "d2ea93ce",
   "metadata": {},
   "outputs": [],
   "source": [
    "val = list1[3]\n",
    "val[1]       # Indirect way"
   ]
  },
  {
   "cell_type": "code",
   "execution_count": null,
   "id": "ded25e60",
   "metadata": {},
   "outputs": [],
   "source": [
    "list1[3][1]  # Direct way"
   ]
  },
  {
   "cell_type": "code",
   "execution_count": null,
   "id": "a46dd758",
   "metadata": {},
   "outputs": [],
   "source": [
    "list2 = [['Apple','Banana']]\n",
    "print(list2[0][0])\n",
    "print(list2[0][1])"
   ]
  },
  {
   "cell_type": "code",
   "execution_count": null,
   "id": "bef59209",
   "metadata": {},
   "outputs": [],
   "source": [
    "list3 = [['A','B',[1,20]]]\n",
    "len(list3)\n",
    "list3[0]\n",
    "list3[0][2]\n",
    "list3[0][2][1]"
   ]
  },
  {
   "cell_type": "code",
   "execution_count": null,
   "id": "0dfc6b1a",
   "metadata": {},
   "outputs": [],
   "source": [
    "list3 = ['hyd',['A','B',[1,20]]]\n",
    "len(list3)\n",
    "list3[1][2][1]"
   ]
  },
  {
   "cell_type": "code",
   "execution_count": null,
   "id": "f3d9f11d",
   "metadata": {},
   "outputs": [],
   "source": [
    "list4 = [[[[[[['cherry',['apple']]]]]]]]\n",
    "list4[0][0][0][0][0][0][1][0]"
   ]
  },
  {
   "cell_type": "code",
   "execution_count": null,
   "id": "eb7e954a",
   "metadata": {},
   "outputs": [],
   "source": [
    "l1 = ['Hyd','Mumbai','Bhopal','Chennai']\n",
    "for i in l1:\n",
    "    if len(i) > 5:\n",
    "        print(i)"
   ]
  },
  {
   "cell_type": "code",
   "execution_count": null,
   "id": "7ea23e5b",
   "metadata": {},
   "outputs": [],
   "source": [
    "l1 = ['hyd','mumbai','bhopal','chennai']\n",
    "for i in l1:\n",
    "    print(i.upper())"
   ]
  },
  {
   "cell_type": "code",
   "execution_count": null,
   "id": "ca688c0a",
   "metadata": {},
   "outputs": [],
   "source": [
    "l1 = ['hyd','mu#mbai','bh#opal','chennai']\n",
    "for i in l1:\n",
    "    if '#' not in i:\n",
    "        print(i)"
   ]
  },
  {
   "cell_type": "code",
   "execution_count": null,
   "id": "1b1f6310",
   "metadata": {},
   "outputs": [],
   "source": [
    "str1 = 'hello my name is python'\n",
    "new_str1 = str1.split()\n",
    "max(new_str1,key=len),min(new_str1,key=len)"
   ]
  },
  {
   "cell_type": "markdown",
   "id": "3b9a9a8a",
   "metadata": {},
   "source": [
    "**Iterable**\n",
    "- if you able to print char or elemnts using for loop\n",
    "- list,string,tuple,dic are itearble"
   ]
  },
  {
   "cell_type": "code",
   "execution_count": null,
   "id": "3e3433db",
   "metadata": {},
   "outputs": [],
   "source": [
    "qns = ['Who is PM of india?',\n",
    "       'what is the capital of india?',\n",
    "       'No.of states in india?',\n",
    "       'Who is the captain of ICT?']\n",
    "\n",
    "ans = ['Modi','Delhi',29,'Rohith sharma']\n",
    "count = 0\n",
    "for i in range(len(qns)):\n",
    "    print('Question:',qns[i])\n",
    "    user_ans = input('Enter the answer:')\n",
    "    if ans[i] == user_ans.casefold():\n",
    "        count = count+1\n",
    "print(count)"
   ]
  },
  {
   "cell_type": "code",
   "execution_count": null,
   "id": "f2aa2aae",
   "metadata": {},
   "outputs": [],
   "source": [
    "qns = ['Who is PM of india?',\n",
    "       'what is the capital of india?',\n",
    "       'No.of states in india?',\n",
    "       'Who is the captain of ICT?']\n",
    "\n",
    "ans = ['Modi','Delhi',29,'Rohith sharma']\n",
    "\n",
    "marks = 0\n",
    "for i in range(len(qns)):\n",
    "    print(qns[i])\n",
    "    answer = input('Enter the answer:')\n",
    "    if str(answer.casefold())==str(ans[i].casefold()):\n",
    "        marks = marks+1\n",
    "marks"
   ]
  },
  {
   "cell_type": "markdown",
   "id": "cb434ab6",
   "metadata": {},
   "source": [
    "$List-Methods$"
   ]
  },
  {
   "cell_type": "code",
   "execution_count": null,
   "id": "31f9d4b0",
   "metadata": {},
   "outputs": [],
   "source": [
    "dir(list)"
   ]
  },
  {
   "cell_type": "code",
   "execution_count": null,
   "id": "550e1886",
   "metadata": {},
   "outputs": [],
   "source": [
    "list1=[1,2,3,4]\n",
    "list1.clear()\n",
    "list1"
   ]
  },
  {
   "cell_type": "code",
   "execution_count": null,
   "id": "3fa27890",
   "metadata": {},
   "outputs": [],
   "source": [
    "list2 = [1,2,3,'A']\n",
    "list3=list2.copy()\n",
    "list2.clear()\n",
    "list2,list3"
   ]
  },
  {
   "cell_type": "markdown",
   "id": "f2eda206",
   "metadata": {},
   "source": [
    "- POP"
   ]
  },
  {
   "cell_type": "code",
   "execution_count": null,
   "id": "38ea612d",
   "metadata": {},
   "outputs": [],
   "source": [
    "list3.pop(-2) # pop will delete the last element by default\n",
    "list3 "
   ]
  },
  {
   "cell_type": "code",
   "execution_count": null,
   "id": "6aff48cc",
   "metadata": {},
   "outputs": [],
   "source": [
    "l1.pop() # Remove the last value index= -1\n",
    "l1.pop(0) # Remove first element\n",
    "l1.pop(index=0) # Index=0 is error (arguments are not allowed)\n",
    "l1.pop(100) # index error\n",
    "l1.pop('A') # Type error\n",
    "l1.pop([1,2]) # 'list' object cannot be interpreted as an integer"
   ]
  },
  {
   "cell_type": "code",
   "execution_count": null,
   "id": "2f00cacc",
   "metadata": {},
   "outputs": [],
   "source": [
    "l1 = [1,2,3,[\"a\",'b']]\n",
    "l1.pop()\n",
    "\n",
    "# Drawbacks: we are manually counting\n",
    "# This drawback can overcome by using index"
   ]
  },
  {
   "cell_type": "markdown",
   "id": "ecf6bd75",
   "metadata": {},
   "source": [
    "- Remove"
   ]
  },
  {
   "cell_type": "code",
   "execution_count": null,
   "id": "dbb075a3",
   "metadata": {},
   "outputs": [],
   "source": [
    "l1 = [1,2,3,3]\n",
    "l1.remove(3)\n",
    "l1          # Takes exactly one argument\n",
    "            # No need to provide the index\n",
    "            # Takes the direct value"
   ]
  },
  {
   "cell_type": "code",
   "execution_count": null,
   "id": "7e6d9592",
   "metadata": {},
   "outputs": [],
   "source": [
    "l2 = ['A','B','C']\n",
    "l2.remove('A')\n",
    "l2\n",
    "\n",
    "# Drawback: Second occurence will not consider\n"
   ]
  },
  {
   "cell_type": "markdown",
   "id": "cf8baf85",
   "metadata": {},
   "source": [
    "- Index"
   ]
  },
  {
   "cell_type": "code",
   "execution_count": null,
   "id": "cbe31f43",
   "metadata": {},
   "outputs": [],
   "source": [
    "l1 = ['A','B','C','C',1,2,3,100]\n",
    "i = l1.index('C',3)\n",
    "l1.pop(i),l1\n",
    "print(i)"
   ]
  },
  {
   "cell_type": "code",
   "execution_count": null,
   "id": "104a2f7b",
   "metadata": {},
   "outputs": [],
   "source": [
    "l1 = ['A','B','C','A',1,2,3,'A',100]\n",
    "i1 = l1.index('A')\n",
    "i2 = l1.index('A',i1+1)\n",
    "i3 = l1.index('A',i2+1)\n",
    "l1.pop(i3)\n",
    "l1"
   ]
  },
  {
   "cell_type": "code",
   "execution_count": null,
   "id": "78311f6c",
   "metadata": {},
   "outputs": [],
   "source": [
    "l1 = ['A','B','C','A',1,2,3,'A',100]\n",
    "i = l1.index('A',i2,i3)\n",
    "i"
   ]
  },
  {
   "cell_type": "markdown",
   "id": "033794f9",
   "metadata": {},
   "source": [
    "- Del"
   ]
  },
  {
   "cell_type": "code",
   "execution_count": null,
   "id": "20347745",
   "metadata": {},
   "outputs": [],
   "source": [
    "l1 = [1,2,3]\n",
    "del(l1[1])\n",
    "l1"
   ]
  },
  {
   "cell_type": "markdown",
   "id": "224fb876",
   "metadata": {},
   "source": [
    "- Append\n",
    "- Extend\n",
    "- Insert"
   ]
  },
  {
   "cell_type": "code",
   "execution_count": null,
   "id": "7dd8ccca",
   "metadata": {},
   "outputs": [],
   "source": [
    "l1 = ['A','B','C',1,2,3,100]\n",
    "l1.append('A')\n",
    "l1"
   ]
  },
  {
   "cell_type": "code",
   "execution_count": null,
   "id": "b3ac568e",
   "metadata": {},
   "outputs": [],
   "source": [
    "l1.extend('')\n",
    "l1"
   ]
  },
  {
   "cell_type": "code",
   "execution_count": 22,
   "id": "a333fa17",
   "metadata": {},
   "outputs": [
    {
     "data": {
      "text/plain": [
       "['can', 'can', 100, 'you', 'canner', 'can', 'not', 'can', 'you', 'buy', 'can']"
      ]
     },
     "execution_count": 22,
     "metadata": {},
     "output_type": "execute_result"
    }
   ],
   "source": [
    "l1.insert(2,100)\n",
    "l1"
   ]
  },
  {
   "cell_type": "code",
   "execution_count": null,
   "id": "542848da",
   "metadata": {},
   "outputs": [],
   "source": [
    "l1 = ['Hyd','Mumbai','Chennai']\n",
    "l2 = []\n",
    "for i in l1:\n",
    "    if len(i)>3:\n",
    "        l2.append(i)\n",
    "l2"
   ]
  },
  {
   "cell_type": "code",
   "execution_count": null,
   "id": "c68d2d43",
   "metadata": {},
   "outputs": [],
   "source": [
    "l1 = ['hyd','mumbai','chennai']\n",
    "l2 = []\n",
    "for i in l1:\n",
    "    l2.append(i.capitalize())\n",
    "l2"
   ]
  },
  {
   "cell_type": "code",
   "execution_count": null,
   "id": "b0a8dd3d",
   "metadata": {},
   "outputs": [],
   "source": [
    "l1 = ['hyd','mu#mbai','che#nnai']\n",
    "l2 = []\n",
    "for i in l1:\n",
    "    if '#' in i:\n",
    "        l2.append((i))\n",
    "l2"
   ]
  },
  {
   "cell_type": "code",
   "execution_count": null,
   "id": "feff5128",
   "metadata": {},
   "outputs": [],
   "source": [
    "s = 'hello hai how are you'\n",
    "\n",
    "s1 = []\n",
    "for i in range(len(s)):\n",
    "    if s[i]=='a':\n",
    "        s1.append(i)\n",
    "sum(s1)"
   ]
  },
  {
   "cell_type": "code",
   "execution_count": null,
   "id": "c3976a0e",
   "metadata": {},
   "outputs": [],
   "source": [
    "import random\n",
    "l1 = []\n",
    "l2 = []\n",
    "for i in range(11):\n",
    "    num=random.randint(1,100)\n",
    "    print(num)\n",
    "    if num%2==0:\n",
    "        l1.append(num)\n",
    "    else:\n",
    "        l2.append(num)\n",
    "l1,l2\n",
    "    "
   ]
  },
  {
   "cell_type": "code",
   "execution_count": null,
   "id": "fe96ef9f",
   "metadata": {},
   "outputs": [],
   "source": [
    "l1 = [1,2,3]\n",
    "l2 = ['a','b','c']\n",
    "l3 = []\n",
    "l1.extend(l2)\n",
    "print(l1)\n",
    "print(l2)"
   ]
  },
  {
   "cell_type": "code",
   "execution_count": null,
   "id": "0a9e2e91",
   "metadata": {},
   "outputs": [],
   "source": [
    "l1 = [1,2,3]\n",
    "l2 = ['a','b','c']\n",
    "l2.extend(l1)\n",
    "print(l1)\n",
    "print(l2)"
   ]
  },
  {
   "cell_type": "code",
   "execution_count": null,
   "id": "7a605983",
   "metadata": {},
   "outputs": [],
   "source": [
    "l1 = [1,2,3]\n",
    "l2 = ['a','b','c']\n",
    "print(l1+l2)\n",
    "print(l1)\n",
    "print(l2)"
   ]
  },
  {
   "cell_type": "code",
   "execution_count": null,
   "id": "93cdb2b9",
   "metadata": {},
   "outputs": [],
   "source": [
    "l1.append(l2)\n",
    "l1"
   ]
  },
  {
   "cell_type": "markdown",
   "id": "a85c830d",
   "metadata": {},
   "source": [
    "- Reversed\n",
    "- Sorted\n",
    "- Reverse vs reversed\n",
    "- sort vs sorted"
   ]
  },
  {
   "cell_type": "code",
   "execution_count": null,
   "id": "4b820028",
   "metadata": {},
   "outputs": [],
   "source": [
    "l1 = [1,2,3,'A','B','C']\n",
    "l1.reverse()\n",
    "l1"
   ]
  },
  {
   "cell_type": "code",
   "execution_count": null,
   "id": "b2eb9860",
   "metadata": {},
   "outputs": [],
   "source": [
    "l1 = [1,2,3,'A','B','C']\n",
    "reverse_l1 = reversed(l1)"
   ]
  },
  {
   "cell_type": "code",
   "execution_count": null,
   "id": "a498b057",
   "metadata": {},
   "outputs": [],
   "source": [
    "for i in reverse_l1:\n",
    "    print(i,end=' ')"
   ]
  },
  {
   "cell_type": "code",
   "execution_count": null,
   "id": "0567b465",
   "metadata": {},
   "outputs": [],
   "source": [
    "l1 = ['B','C','A','D']\n",
    "l2 = [1,4,6,2,0]\n",
    "l1.sort(),l2.sort()\n",
    "l1,l2"
   ]
  },
  {
   "cell_type": "code",
   "execution_count": null,
   "id": "3855359a",
   "metadata": {},
   "outputs": [],
   "source": [
    "l1 = ['B','C','A','D']\n",
    "l2 = [1,4,6,2,0]\n",
    "l1.sort(reverse=True),l2.sort(reverse=True)\n",
    "l1,l2"
   ]
  },
  {
   "cell_type": "code",
   "execution_count": null,
   "id": "b38b5ac0",
   "metadata": {},
   "outputs": [],
   "source": [
    "l1 = [2,3,5,1,0.2]\n",
    "sorted(l1)"
   ]
  },
  {
   "cell_type": "code",
   "execution_count": null,
   "id": "0fd5a90f",
   "metadata": {},
   "outputs": [],
   "source": [
    "l2 = ['Z','W','H','K']\n",
    "sorted(l2)"
   ]
  },
  {
   "cell_type": "code",
   "execution_count": null,
   "id": "35cec02f",
   "metadata": {},
   "outputs": [],
   "source": [
    "l2 = ['Z','W','H','K']\n",
    "sorted(l2,key=len)"
   ]
  },
  {
   "cell_type": "code",
   "execution_count": null,
   "id": "c5e765a1",
   "metadata": {},
   "outputs": [],
   "source": [
    "list1 = [1,4,5,3,2,7,6,4,8,6,3,8,9]\n",
    "sorted_list = sorted(list1)\n",
    "sorted_list"
   ]
  },
  {
   "cell_type": "code",
   "execution_count": 10,
   "id": "03de68d6",
   "metadata": {},
   "outputs": [
    {
     "data": {
      "text/plain": [
       "['E', 'D', 'C', 'B', 'A']"
      ]
     },
     "execution_count": 10,
     "metadata": {},
     "output_type": "execute_result"
    }
   ],
   "source": [
    "list2 = ['B','C','D','E','A']\n",
    "s1 = sorted(list2,reverse=True)\n",
    "s1"
   ]
  },
  {
   "cell_type": "markdown",
   "id": "be447ca6",
   "metadata": {},
   "source": [
    "- Count"
   ]
  },
  {
   "cell_type": "code",
   "execution_count": 1,
   "id": "33ef27fa",
   "metadata": {},
   "outputs": [
    {
     "data": {
      "text/plain": [
       "3"
      ]
     },
     "execution_count": 1,
     "metadata": {},
     "output_type": "execute_result"
    }
   ],
   "source": [
    "l1 = ['A','A','A']\n",
    "l1.count('A')"
   ]
  },
  {
   "cell_type": "markdown",
   "id": "5c85d4b1",
   "metadata": {},
   "source": [
    "#### Word Frequency method"
   ]
  },
  {
   "cell_type": "code",
   "execution_count": 12,
   "id": "665c892e",
   "metadata": {},
   "outputs": [
    {
     "name": "stdout",
     "output_type": "stream",
     "text": [
      "5\n",
      "5\n",
      "2\n",
      "1\n",
      "5\n",
      "1\n",
      "5\n",
      "2\n",
      "1\n",
      "5\n"
     ]
    }
   ],
   "source": [
    "s1 = 'can can you canner can not can you buy can'\n",
    "l1 = s1.split()\n",
    "for i in l1:\n",
    "    print(l1.count(i))"
   ]
  },
  {
   "cell_type": "code",
   "execution_count": 21,
   "id": "2f3e06d0",
   "metadata": {},
   "outputs": [
    {
     "name": "stdout",
     "output_type": "stream",
     "text": [
      "can : 5\n",
      "you : 2\n",
      "canner : 1\n",
      "not : 1\n",
      "buy : 1\n"
     ]
    }
   ],
   "source": [
    "s1 = 'can can you canner can not can you buy can'\n",
    "l1 = s1.split()\n",
    "l2 = []\n",
    "for i in l1:\n",
    "    if i not in l2:\n",
    "        print(i,':',l1.count(i))\n",
    "        l2.append(i)"
   ]
  },
  {
   "cell_type": "markdown",
   "id": "2c852d6c",
   "metadata": {},
   "source": [
    "- Append"
   ]
  },
  {
   "cell_type": "code",
   "execution_count": 24,
   "id": "693cf0a9",
   "metadata": {},
   "outputs": [
    {
     "data": {
      "text/plain": [
       "['Mumbai', 'Chennai', 'Bengaluru']"
      ]
     },
     "execution_count": 24,
     "metadata": {},
     "output_type": "execute_result"
    }
   ],
   "source": [
    "l1 = ['hyd','Mumbai','Chennai','Bengaluru']\n",
    "l2 = []\n",
    "for i in l1:\n",
    "    if len(i)>5:\n",
    "        l2.append(i)\n",
    "l2"
   ]
  },
  {
   "cell_type": "code",
   "execution_count": 32,
   "id": "a2507a28",
   "metadata": {},
   "outputs": [
    {
     "data": {
      "text/plain": [
       "[1, 4, 9, 16, 25, 36, 49, 64, 81, 100]"
      ]
     },
     "execution_count": 32,
     "metadata": {},
     "output_type": "execute_result"
    }
   ],
   "source": [
    "l3 = []\n",
    "for i in range(1,11):\n",
    "    l3.append(i*i)\n",
    "l3"
   ]
  },
  {
   "cell_type": "markdown",
   "id": "3a87fded",
   "metadata": {},
   "source": [
    "### List Comprehension"
   ]
  },
  {
   "cell_type": "markdown",
   "id": "fde064d4",
   "metadata": {},
   "source": [
    "$Pattern-1$"
   ]
  },
  {
   "cell_type": "code",
   "execution_count": null,
   "id": "7fe4c581",
   "metadata": {},
   "outputs": [],
   "source": [
    "l3 = []\n",
    "for i in range(1,11):\n",
    "    l3.append(i*i)\n",
    "l3"
   ]
  },
  {
   "cell_type": "code",
   "execution_count": null,
   "id": "c2c42b85",
   "metadata": {},
   "outputs": [],
   "source": [
    "#variable = [<output> <for loop>] "
   ]
  },
  {
   "cell_type": "code",
   "execution_count": 35,
   "id": "c368d4fa",
   "metadata": {},
   "outputs": [
    {
     "data": {
      "text/plain": [
       "[1, 4, 9, 16, 25, 36, 49, 64, 81, 100]"
      ]
     },
     "execution_count": 35,
     "metadata": {},
     "output_type": "execute_result"
    }
   ],
   "source": [
    "num = [i*i for i in range(1,11)]\n",
    "num"
   ]
  },
  {
   "cell_type": "code",
   "execution_count": 37,
   "id": "9820a2ec",
   "metadata": {},
   "outputs": [
    {
     "data": {
      "text/plain": [
       "['Hyd', 'Mumbai']"
      ]
     },
     "execution_count": 37,
     "metadata": {},
     "output_type": "execute_result"
    }
   ],
   "source": [
    "l2 = [i.capitalize() for i in ['hyd','mumbai']]\n",
    "l2"
   ]
  },
  {
   "cell_type": "markdown",
   "id": "229b6119",
   "metadata": {},
   "source": [
    "$Pattern-2$\n",
    "- For and if condition"
   ]
  },
  {
   "cell_type": "code",
   "execution_count": null,
   "id": "643f405e",
   "metadata": {},
   "outputs": [],
   "source": [
    "#variable = [<output> <for loop> <if condition>]"
   ]
  },
  {
   "cell_type": "code",
   "execution_count": 38,
   "id": "712273f1",
   "metadata": {},
   "outputs": [
    {
     "data": {
      "text/plain": [
       "['Mumbai', 'Chennai', 'Bengaluru']"
      ]
     },
     "execution_count": 38,
     "metadata": {},
     "output_type": "execute_result"
    }
   ],
   "source": [
    "l1 = ['hyd','Mumbai','Chennai','Bengaluru']\n",
    "l2 = []\n",
    "for i in l1:\n",
    "    if len(i)>5:\n",
    "        l2.append(i)\n",
    "l2"
   ]
  },
  {
   "cell_type": "code",
   "execution_count": 39,
   "id": "1ca6d431",
   "metadata": {},
   "outputs": [
    {
     "data": {
      "text/plain": [
       "['Mumbai', 'Chennai', 'Bengaluru']"
      ]
     },
     "execution_count": 39,
     "metadata": {},
     "output_type": "execute_result"
    }
   ],
   "source": [
    "l2 = [i for i in l1 if len(i)>5]\n",
    "l2"
   ]
  },
  {
   "cell_type": "code",
   "execution_count": 42,
   "id": "c4f34252",
   "metadata": {},
   "outputs": [
    {
     "name": "stdout",
     "output_type": "stream",
     "text": [
      "can : 5\n",
      "you : 2\n",
      "canner : 1\n",
      "not : 1\n",
      "buy : 1\n"
     ]
    }
   ],
   "source": [
    "s1 = 'can can you canner can not can you buy can'\n",
    "l1 = s1.split()\n",
    "l2 = []\n",
    "for i in l1:\n",
    "    if i not in l2:\n",
    "        print(i,':',l1.count(i))\n",
    "        l2.append(i)"
   ]
  },
  {
   "cell_type": "code",
   "execution_count": 56,
   "id": "fed9b695",
   "metadata": {},
   "outputs": [
    {
     "data": {
      "text/plain": [
       "[5, 5, 2, 1, 5, 1, 5, 2, 1, 5]"
      ]
     },
     "execution_count": 56,
     "metadata": {},
     "output_type": "execute_result"
    }
   ],
   "source": [
    "l2 = [l1.count(i) for i in l1 if i not in l2]\n",
    "l2"
   ]
  },
  {
   "cell_type": "markdown",
   "id": "3c7616f5",
   "metadata": {},
   "source": [
    "$Pattern-3$"
   ]
  },
  {
   "cell_type": "code",
   "execution_count": 46,
   "id": "1d841cbf",
   "metadata": {},
   "outputs": [
    {
     "data": {
      "text/plain": [
       "['Odd 1',\n",
       " 'Even 2',\n",
       " 'Odd 3',\n",
       " 'Even 4',\n",
       " 'Odd 5',\n",
       " 'Even 6',\n",
       " 'Odd 7',\n",
       " 'Even 8',\n",
       " 'Odd 9']"
      ]
     },
     "execution_count": 46,
     "metadata": {},
     "output_type": "execute_result"
    }
   ],
   "source": [
    "list1 = []\n",
    "for i in range(1,10):\n",
    "    if i%2==0:\n",
    "        list1.append(f'Even {i}')\n",
    "    else:\n",
    "        list1.append(f'Odd {i}')\n",
    "list1"
   ]
  },
  {
   "cell_type": "code",
   "execution_count": null,
   "id": "f877485f",
   "metadata": {},
   "outputs": [],
   "source": [
    "#variable = [<if_output> <if_condition> <else> <else_output> <for_loop>]"
   ]
  },
  {
   "cell_type": "code",
   "execution_count": 48,
   "id": "5803052f",
   "metadata": {},
   "outputs": [
    {
     "data": {
      "text/plain": [
       "['Odd 1',\n",
       " 'Even 2',\n",
       " 'Odd 3',\n",
       " 'Even 4',\n",
       " 'Odd 5',\n",
       " 'Even 6',\n",
       " 'Odd 7',\n",
       " 'Even 8',\n",
       " 'Odd 9']"
      ]
     },
     "execution_count": 48,
     "metadata": {},
     "output_type": "execute_result"
    }
   ],
   "source": [
    "list1 = [f'Even {i}' if i%2==0 else f'Odd {i}' for i in range(1,10)]\n",
    "list1"
   ]
  },
  {
   "cell_type": "code",
   "execution_count": null,
   "id": "359338b8",
   "metadata": {},
   "outputs": [],
   "source": []
  }
 ],
 "metadata": {
  "kernelspec": {
   "display_name": "Python 3 (ipykernel)",
   "language": "python",
   "name": "python3"
  },
  "language_info": {
   "codemirror_mode": {
    "name": "ipython",
    "version": 3
   },
   "file_extension": ".py",
   "mimetype": "text/x-python",
   "name": "python",
   "nbconvert_exporter": "python",
   "pygments_lexer": "ipython3",
   "version": "3.11.5"
  }
 },
 "nbformat": 4,
 "nbformat_minor": 5
}
