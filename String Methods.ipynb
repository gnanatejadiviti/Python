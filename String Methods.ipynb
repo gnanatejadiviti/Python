{
 "cells": [
  {
   "cell_type": "markdown",
   "id": "dd765830",
   "metadata": {},
   "source": [
    "##### String Methods"
   ]
  },
  {
   "cell_type": "markdown",
   "id": "f9e36371",
   "metadata": {},
   "source": [
    "- Indexing method\n",
    "    - Raises ValueError when the substring is not found."
   ]
  },
  {
   "cell_type": "code",
   "execution_count": 9,
   "id": "7e623098",
   "metadata": {},
   "outputs": [
    {
     "name": "stdout",
     "output_type": "stream",
     "text": [
      "Help on method_descriptor:\n",
      "\n",
      "index(...)\n",
      "    S.index(sub[, start[, end]]) -> int\n",
      "    \n",
      "    Return the lowest index in S where substring sub is found,\n",
      "    such that sub is contained within S[start:end].  Optional\n",
      "    arguments start and end are interpreted as in slice notation.\n",
      "    \n",
      "    Raises ValueError when the substring is not found.\n",
      "\n"
     ]
    }
   ],
   "source": [
    "help(str.index)"
   ]
  },
  {
   "cell_type": "code",
   "execution_count": 10,
   "id": "ad12a587",
   "metadata": {},
   "outputs": [
    {
     "data": {
      "text/plain": [
       "2"
      ]
     },
     "execution_count": 10,
     "metadata": {},
     "output_type": "execute_result"
    }
   ],
   "source": [
    "str1 = 'python'\n",
    "str1.index('t') # Index of t is 2"
   ]
  },
  {
   "cell_type": "code",
   "execution_count": 14,
   "id": "afc09e4d",
   "metadata": {},
   "outputs": [
    {
     "name": "stdout",
     "output_type": "stream",
     "text": [
      "1\n",
      "5\n",
      "9\n"
     ]
    }
   ],
   "source": [
    "str2 = 'hai hai hai'\n",
    "print(str2.index('a'))   #1st 'a' index is 1\n",
    "print(str2.index('a',2)) #2nd 'a' index is 5 i.e., after index 1 we get 2nd 'a' hence, 1+1=2\n",
    "print(str2.index('a',6)) #3rd 'a' index is 9 i.e., after index 5 we get 3rd 'a' hence, 5+1=6"
   ]
  },
  {
   "cell_type": "code",
   "execution_count": 15,
   "id": "346eacbe",
   "metadata": {},
   "outputs": [
    {
     "data": {
      "text/plain": [
       "(1, 5, 9)"
      ]
     },
     "execution_count": 15,
     "metadata": {},
     "output_type": "execute_result"
    }
   ],
   "source": [
    "str2 = 'hai hai hai'\n",
    "i1 = str2.index('a')\n",
    "i2 = str2.index('a',i1+1)\n",
    "i3 = str2.index('a',i2+1)\n",
    "\n",
    "i1,i2,i3"
   ]
  },
  {
   "cell_type": "markdown",
   "id": "fbc2681c",
   "metadata": {},
   "source": [
    "**If substring not found**\n",
    "- Replace : same string\n",
    "- Count : 0\n",
    "- Index : error\n",
    "- Find : Return -1 on failure"
   ]
  },
  {
   "cell_type": "code",
   "execution_count": null,
   "id": "e7d148dd",
   "metadata": {},
   "outputs": [],
   "source": [
    "str.find()"
   ]
  },
  {
   "cell_type": "code",
   "execution_count": 21,
   "id": "59bc7d60",
   "metadata": {},
   "outputs": [
    {
     "data": {
      "text/plain": [
       "2"
      ]
     },
     "execution_count": 21,
     "metadata": {},
     "output_type": "execute_result"
    }
   ],
   "source": [
    "str1 = 'python'\n",
    "str1.find('t')"
   ]
  },
  {
   "cell_type": "code",
   "execution_count": 22,
   "id": "672f026b",
   "metadata": {},
   "outputs": [
    {
     "data": {
      "text/plain": [
       "-1"
      ]
     },
     "execution_count": 22,
     "metadata": {},
     "output_type": "execute_result"
    }
   ],
   "source": [
    "str1.find('s')"
   ]
  },
  {
   "cell_type": "code",
   "execution_count": 23,
   "id": "97b9c7d6",
   "metadata": {},
   "outputs": [
    {
     "data": {
      "text/plain": [
       "-1"
      ]
     },
     "execution_count": 23,
     "metadata": {},
     "output_type": "execute_result"
    }
   ],
   "source": [
    "str1.find('p',3)"
   ]
  },
  {
   "cell_type": "code",
   "execution_count": 24,
   "id": "c65a28f7",
   "metadata": {},
   "outputs": [
    {
     "data": {
      "text/plain": [
       "(1, 5, 9, -1)"
      ]
     },
     "execution_count": 24,
     "metadata": {},
     "output_type": "execute_result"
    }
   ],
   "source": [
    "str2 = 'hai hai hai'\n",
    "i1 = str2.find('a')\n",
    "i2 = str2.find('a',i1+1)\n",
    "i3 = str2.find('a',i2+1)\n",
    "i4 = str2.find('a',i3+1)\n",
    "\n",
    "i1,i2,i3,i4"
   ]
  },
  {
   "cell_type": "code",
   "execution_count": 63,
   "id": "f55d6c68",
   "metadata": {},
   "outputs": [
    {
     "name": "stdout",
     "output_type": "stream",
     "text": [
      "Name: omkar\n",
      "Surname: nallagoni\n",
      "Company: cognizant\n"
     ]
    }
   ],
   "source": [
    "s1 = 'omkar.nallagoni@cognizant.com'\n",
    "i1 = s1.find('.')\n",
    "i2 = s1.find('@')\n",
    "i3 = s1.find('.',i1+1)\n",
    "name = s1[:i1]\n",
    "sur_name = s1[i1+1:i2]\n",
    "company = s1[i2+1:i3]\n",
    "print('Name:',name)\n",
    "print('Surname:',sur_name)\n",
    "print('Company:',company)"
   ]
  },
  {
   "cell_type": "code",
   "execution_count": 67,
   "id": "06174a7e",
   "metadata": {},
   "outputs": [
    {
     "data": {
      "text/plain": [
       "('virat', 'kohli', 'rcb')"
      ]
     },
     "execution_count": 67,
     "metadata": {},
     "output_type": "execute_result"
    }
   ],
   "source": [
    "s2 = 'virat.kohli@rcb.com'\n",
    "i1 = s2.index('.')\n",
    "i2 = s2.index('@')\n",
    "i3 = s2.index('.',i1+1)\n",
    "\n",
    "name = s2[:i1]\n",
    "sur_name = s2[i1+1:i2]\n",
    "com = s2[i2+1:i3]\n",
    "\n",
    "name,sur_name,com\n"
   ]
  },
  {
   "cell_type": "markdown",
   "id": "3018a413",
   "metadata": {},
   "source": [
    "$lstrip$-$rstrip$-$strip$"
   ]
  },
  {
   "cell_type": "code",
   "execution_count": 76,
   "id": "2856623f",
   "metadata": {},
   "outputs": [
    {
     "name": "stdout",
     "output_type": "stream",
     "text": [
      "python\n",
      "python \n",
      " python\n"
     ]
    }
   ],
   "source": [
    "s1 = ' python '\n",
    "s2 = ' python '\n",
    "s3 = ' python '\n",
    "print(s1.strip()) #strips both right and left side whitespaces\n",
    "print(s2.lstrip())#strips only left side whitespaces\n",
    "print(s3.rstrip())#strips only right side whitespaces"
   ]
  },
  {
   "cell_type": "code",
   "execution_count": 77,
   "id": "ca943909",
   "metadata": {},
   "outputs": [
    {
     "data": {
      "text/plain": [
       "'python'"
      ]
     },
     "execution_count": 77,
     "metadata": {},
     "output_type": "execute_result"
    }
   ],
   "source": [
    "s1 = '@@@python@@@@@'\n",
    "s1.strip('@')"
   ]
  },
  {
   "cell_type": "code",
   "execution_count": 81,
   "id": "f101a14a",
   "metadata": {},
   "outputs": [
    {
     "data": {
      "text/plain": [
       "'python'"
      ]
     },
     "execution_count": 81,
     "metadata": {},
     "output_type": "execute_result"
    }
   ],
   "source": [
    "s2 = '@@@@@python$$$$'\n",
    "s3 = s2.lstrip('@')\n",
    "s3.rstrip('$')"
   ]
  },
  {
   "cell_type": "code",
   "execution_count": 82,
   "id": "965956cc",
   "metadata": {},
   "outputs": [
    {
     "data": {
      "text/plain": [
       "'python'"
      ]
     },
     "execution_count": 82,
     "metadata": {},
     "output_type": "execute_result"
    }
   ],
   "source": [
    "s2 = '@@@@@python$$$$'\n",
    "s2.lstrip('@').rstrip('$')"
   ]
  },
  {
   "cell_type": "code",
   "execution_count": 88,
   "id": "5b4955c3",
   "metadata": {},
   "outputs": [
    {
     "data": {
      "text/plain": [
       "'ython'"
      ]
     },
     "execution_count": 88,
     "metadata": {},
     "output_type": "execute_result"
    }
   ],
   "source": [
    "s4 = s2.strip('@$')\n",
    "s4.strip('p')  # only strips 1st and last chr "
   ]
  },
  {
   "cell_type": "code",
   "execution_count": 105,
   "id": "5a7c2fa3",
   "metadata": {},
   "outputs": [
    {
     "data": {
      "text/plain": [
       "'hello how are you'"
      ]
     },
     "execution_count": 105,
     "metadata": {},
     "output_type": "execute_result"
    }
   ],
   "source": [
    "str1 = 'hello /r/r/r/n/ how are you'\n",
    "i1 = str1.find(' ')\n",
    "str2 = str1[:i1]\n",
    "str3 = str1[i1:]\n",
    "str4 = str3.strip(' ')\n",
    "str5 = str4.strip('/r')\n",
    "str6 = str5.strip('n/')\n",
    "str7 = str6.strip()\n",
    "str2+' '+str7"
   ]
  },
  {
   "cell_type": "markdown",
   "id": "922226b6",
   "metadata": {},
   "source": [
    "$Startswith$-$Endswith$"
   ]
  },
  {
   "cell_type": "code",
   "execution_count": 108,
   "id": "8a8149cc",
   "metadata": {},
   "outputs": [
    {
     "data": {
      "text/plain": [
       "True"
      ]
     },
     "execution_count": 108,
     "metadata": {},
     "output_type": "execute_result"
    }
   ],
   "source": [
    "s1 = 'hai how are you'\n",
    "s1.startswith('h')\n",
    "s1.startswith(s1)"
   ]
  },
  {
   "cell_type": "code",
   "execution_count": 109,
   "id": "ce632962",
   "metadata": {},
   "outputs": [
    {
     "data": {
      "text/plain": [
       "True"
      ]
     },
     "execution_count": 109,
     "metadata": {},
     "output_type": "execute_result"
    }
   ],
   "source": [
    "s1 = 'hai how are you'\n",
    "s1.endswith(s1)"
   ]
  },
  {
   "cell_type": "markdown",
   "id": "4d2f36bf",
   "metadata": {},
   "source": [
    "$Split$"
   ]
  },
  {
   "cell_type": "code",
   "execution_count": null,
   "id": "0f4dfb16",
   "metadata": {},
   "outputs": [],
   "source": [
    "str.split()"
   ]
  },
  {
   "cell_type": "code",
   "execution_count": 113,
   "id": "b4a3d3df",
   "metadata": {},
   "outputs": [
    {
     "data": {
      "text/plain": [
       "['hai', 'how', 'are', 'you']"
      ]
     },
     "execution_count": 113,
     "metadata": {},
     "output_type": "execute_result"
    }
   ],
   "source": [
    "s1 = 'hai how are you'\n",
    "s1.split(' ')"
   ]
  },
  {
   "cell_type": "code",
   "execution_count": 114,
   "id": "f59de34e",
   "metadata": {},
   "outputs": [
    {
     "data": {
      "text/plain": [
       "['h', 'i how ', 're you']"
      ]
     },
     "execution_count": 114,
     "metadata": {},
     "output_type": "execute_result"
    }
   ],
   "source": [
    "s1 = 'hai how are you'\n",
    "s1.split('a')"
   ]
  },
  {
   "cell_type": "code",
   "execution_count": 115,
   "id": "7dd2850d",
   "metadata": {},
   "outputs": [
    {
     "data": {
      "text/plain": [
       "['__add__',\n",
       " '__class__',\n",
       " '__contains__',\n",
       " '__delattr__',\n",
       " '__dir__',\n",
       " '__doc__',\n",
       " '__eq__',\n",
       " '__format__',\n",
       " '__ge__',\n",
       " '__getattribute__',\n",
       " '__getitem__',\n",
       " '__getnewargs__',\n",
       " '__getstate__',\n",
       " '__gt__',\n",
       " '__hash__',\n",
       " '__init__',\n",
       " '__init_subclass__',\n",
       " '__iter__',\n",
       " '__le__',\n",
       " '__len__',\n",
       " '__lt__',\n",
       " '__mod__',\n",
       " '__mul__',\n",
       " '__ne__',\n",
       " '__new__',\n",
       " '__reduce__',\n",
       " '__reduce_ex__',\n",
       " '__repr__',\n",
       " '__rmod__',\n",
       " '__rmul__',\n",
       " '__setattr__',\n",
       " '__sizeof__',\n",
       " '__str__',\n",
       " '__subclasshook__',\n",
       " 'capitalize',\n",
       " 'casefold',\n",
       " 'center',\n",
       " 'count',\n",
       " 'encode',\n",
       " 'endswith',\n",
       " 'expandtabs',\n",
       " 'find',\n",
       " 'format',\n",
       " 'format_map',\n",
       " 'index',\n",
       " 'isalnum',\n",
       " 'isalpha',\n",
       " 'isascii',\n",
       " 'isdecimal',\n",
       " 'isdigit',\n",
       " 'isidentifier',\n",
       " 'islower',\n",
       " 'isnumeric',\n",
       " 'isprintable',\n",
       " 'isspace',\n",
       " 'istitle',\n",
       " 'isupper',\n",
       " 'join',\n",
       " 'ljust',\n",
       " 'lower',\n",
       " 'lstrip',\n",
       " 'maketrans',\n",
       " 'partition',\n",
       " 'removeprefix',\n",
       " 'removesuffix',\n",
       " 'replace',\n",
       " 'rfind',\n",
       " 'rindex',\n",
       " 'rjust',\n",
       " 'rpartition',\n",
       " 'rsplit',\n",
       " 'rstrip',\n",
       " 'split',\n",
       " 'splitlines',\n",
       " 'startswith',\n",
       " 'strip',\n",
       " 'swapcase',\n",
       " 'title',\n",
       " 'translate',\n",
       " 'upper',\n",
       " 'zfill']"
      ]
     },
     "execution_count": 115,
     "metadata": {},
     "output_type": "execute_result"
    }
   ],
   "source": [
    "dir(str)"
   ]
  },
  {
   "cell_type": "markdown",
   "id": "588aa3d8",
   "metadata": {},
   "source": [
    "- 'isalnum',\n",
    "- 'isalpha',\n",
    "- 'isascii',\n",
    "- 'isdecimal',\n",
    "- 'isdigit',\n",
    "- 'isidentifier',\n",
    "- 'islower',\n",
    "- 'isnumeric',\n",
    "- 'isprintable',\n",
    "- 'isspace',\n",
    "- 'istitle',\n",
    "- 'isupper',"
   ]
  },
  {
   "cell_type": "code",
   "execution_count": 117,
   "id": "5b538f5b",
   "metadata": {},
   "outputs": [
    {
     "data": {
      "text/plain": [
       "True"
      ]
     },
     "execution_count": 117,
     "metadata": {},
     "output_type": "execute_result"
    }
   ],
   "source": [
    "s1 = 'python'\n",
    "s1.isalnum()"
   ]
  },
  {
   "cell_type": "code",
   "execution_count": 118,
   "id": "82b97236",
   "metadata": {},
   "outputs": [
    {
     "data": {
      "text/plain": [
       "False"
      ]
     },
     "execution_count": 118,
     "metadata": {},
     "output_type": "execute_result"
    }
   ],
   "source": [
    "s1 = ''\n",
    "s1.isalnum()"
   ]
  },
  {
   "cell_type": "code",
   "execution_count": 122,
   "id": "124e65e9",
   "metadata": {},
   "outputs": [
    {
     "data": {
      "text/plain": [
       "True"
      ]
     },
     "execution_count": 122,
     "metadata": {},
     "output_type": "execute_result"
    }
   ],
   "source": [
    "s1 = 'hello'\n",
    "s1.isalpha()"
   ]
  },
  {
   "cell_type": "code",
   "execution_count": 123,
   "id": "27882092",
   "metadata": {},
   "outputs": [
    {
     "data": {
      "text/plain": [
       "False"
      ]
     },
     "execution_count": 123,
     "metadata": {},
     "output_type": "execute_result"
    }
   ],
   "source": [
    "s1 = '123'\n",
    "s1.isalpha()"
   ]
  },
  {
   "cell_type": "code",
   "execution_count": 128,
   "id": "6de5bfa8",
   "metadata": {},
   "outputs": [
    {
     "data": {
      "text/plain": [
       "True"
      ]
     },
     "execution_count": 128,
     "metadata": {},
     "output_type": "execute_result"
    }
   ],
   "source": [
    "s1 = ''\n",
    "s1.isascii()"
   ]
  },
  {
   "cell_type": "code",
   "execution_count": 132,
   "id": "946981c4",
   "metadata": {},
   "outputs": [
    {
     "data": {
      "text/plain": [
       "True"
      ]
     },
     "execution_count": 132,
     "metadata": {},
     "output_type": "execute_result"
    }
   ],
   "source": [
    "s1 = '123'\n",
    "s1.isdecimal()"
   ]
  },
  {
   "cell_type": "code",
   "execution_count": 133,
   "id": "2fe7f437",
   "metadata": {},
   "outputs": [
    {
     "data": {
      "text/plain": [
       "False"
      ]
     },
     "execution_count": 133,
     "metadata": {},
     "output_type": "execute_result"
    }
   ],
   "source": [
    "s1 = '123.345'\n",
    "s1.isdecimal()"
   ]
  },
  {
   "cell_type": "code",
   "execution_count": 134,
   "id": "90cd7ade",
   "metadata": {},
   "outputs": [
    {
     "data": {
      "text/plain": [
       "False"
      ]
     },
     "execution_count": 134,
     "metadata": {},
     "output_type": "execute_result"
    }
   ],
   "source": [
    "s1 = 'python'\n",
    "s1.isdecimal()"
   ]
  },
  {
   "cell_type": "code",
   "execution_count": 139,
   "id": "590feb3b",
   "metadata": {},
   "outputs": [
    {
     "data": {
      "text/plain": [
       "True"
      ]
     },
     "execution_count": 139,
     "metadata": {},
     "output_type": "execute_result"
    }
   ],
   "source": [
    "s1 = '123'\n",
    "s1.isdigit()"
   ]
  },
  {
   "cell_type": "code",
   "execution_count": 140,
   "id": "8992fb4a",
   "metadata": {},
   "outputs": [
    {
     "data": {
      "text/plain": [
       "False"
      ]
     },
     "execution_count": 140,
     "metadata": {},
     "output_type": "execute_result"
    }
   ],
   "source": [
    "s1 = '123.345'\n",
    "s1.isdigit()"
   ]
  },
  {
   "cell_type": "code",
   "execution_count": 141,
   "id": "e337e7bf",
   "metadata": {},
   "outputs": [
    {
     "data": {
      "text/plain": [
       "False"
      ]
     },
     "execution_count": 141,
     "metadata": {},
     "output_type": "execute_result"
    }
   ],
   "source": [
    "s1 = 'python'\n",
    "s1.isdigit()"
   ]
  },
  {
   "cell_type": "markdown",
   "id": "7f299248",
   "metadata": {},
   "source": [
    "- isidentifier"
   ]
  },
  {
   "cell_type": "code",
   "execution_count": 148,
   "id": "2f0816f5",
   "metadata": {},
   "outputs": [
    {
     "data": {
      "text/plain": [
       "False"
      ]
     },
     "execution_count": 148,
     "metadata": {},
     "output_type": "execute_result"
    }
   ],
   "source": [
    "s1 = '123hello'    #starting with num give false\n",
    "s1.isidentifier()"
   ]
  },
  {
   "cell_type": "code",
   "execution_count": 149,
   "id": "e48d6ccb",
   "metadata": {},
   "outputs": [
    {
     "data": {
      "text/plain": [
       "True"
      ]
     },
     "execution_count": 149,
     "metadata": {},
     "output_type": "execute_result"
    }
   ],
   "source": [
    "s1 = 'python'\n",
    "s1.isidentifier()"
   ]
  },
  {
   "cell_type": "markdown",
   "id": "6bb40f55",
   "metadata": {},
   "source": [
    "- islower"
   ]
  },
  {
   "cell_type": "code",
   "execution_count": 154,
   "id": "d5162e45",
   "metadata": {},
   "outputs": [
    {
     "data": {
      "text/plain": [
       "True"
      ]
     },
     "execution_count": 154,
     "metadata": {},
     "output_type": "execute_result"
    }
   ],
   "source": [
    "s1 = 'python'\n",
    "s1.islower()"
   ]
  },
  {
   "cell_type": "code",
   "execution_count": 155,
   "id": "88f611c5",
   "metadata": {},
   "outputs": [
    {
     "data": {
      "text/plain": [
       "False"
      ]
     },
     "execution_count": 155,
     "metadata": {},
     "output_type": "execute_result"
    }
   ],
   "source": [
    "s1 = 'Python'\n",
    "s1.islower()"
   ]
  },
  {
   "cell_type": "markdown",
   "id": "f66306fc",
   "metadata": {},
   "source": [
    "- isnumeric"
   ]
  },
  {
   "cell_type": "code",
   "execution_count": 156,
   "id": "2b34b310",
   "metadata": {},
   "outputs": [
    {
     "data": {
      "text/plain": [
       "False"
      ]
     },
     "execution_count": 156,
     "metadata": {},
     "output_type": "execute_result"
    }
   ],
   "source": [
    "s1 = 'python'\n",
    "s1.isnumeric()"
   ]
  },
  {
   "cell_type": "code",
   "execution_count": 157,
   "id": "1d18847b",
   "metadata": {},
   "outputs": [
    {
     "data": {
      "text/plain": [
       "False"
      ]
     },
     "execution_count": 157,
     "metadata": {},
     "output_type": "execute_result"
    }
   ],
   "source": [
    "s1 = '123.334'\n",
    "s1.isnumeric()"
   ]
  },
  {
   "cell_type": "code",
   "execution_count": 161,
   "id": "e8885ed9",
   "metadata": {},
   "outputs": [
    {
     "data": {
      "text/plain": [
       "True"
      ]
     },
     "execution_count": 161,
     "metadata": {},
     "output_type": "execute_result"
    }
   ],
   "source": [
    "s1 = '123'\n",
    "s1.isnumeric()"
   ]
  },
  {
   "cell_type": "markdown",
   "id": "5fc6ce8f",
   "metadata": {},
   "source": [
    "- isprintable"
   ]
  },
  {
   "cell_type": "code",
   "execution_count": 162,
   "id": "281c1351",
   "metadata": {},
   "outputs": [
    {
     "data": {
      "text/plain": [
       "True"
      ]
     },
     "execution_count": 162,
     "metadata": {},
     "output_type": "execute_result"
    }
   ],
   "source": [
    "s1 = 'hello'\n",
    "s1.isprintable()"
   ]
  },
  {
   "cell_type": "code",
   "execution_count": 163,
   "id": "eeb55600",
   "metadata": {},
   "outputs": [
    {
     "data": {
      "text/plain": [
       "True"
      ]
     },
     "execution_count": 163,
     "metadata": {},
     "output_type": "execute_result"
    }
   ],
   "source": [
    "s1 = '123'\n",
    "s1.isprintable()"
   ]
  },
  {
   "cell_type": "code",
   "execution_count": 164,
   "id": "b449ac9f",
   "metadata": {},
   "outputs": [
    {
     "data": {
      "text/plain": [
       "True"
      ]
     },
     "execution_count": 164,
     "metadata": {},
     "output_type": "execute_result"
    }
   ],
   "source": [
    "s1 = ''\n",
    "s1.isprintable()"
   ]
  },
  {
   "cell_type": "markdown",
   "id": "2fa5381e",
   "metadata": {},
   "source": [
    "- isspace"
   ]
  },
  {
   "cell_type": "code",
   "execution_count": 165,
   "id": "af88903f",
   "metadata": {},
   "outputs": [
    {
     "data": {
      "text/plain": [
       "False"
      ]
     },
     "execution_count": 165,
     "metadata": {},
     "output_type": "execute_result"
    }
   ],
   "source": [
    "s1 = 'python'\n",
    "s1.isspace()"
   ]
  },
  {
   "cell_type": "code",
   "execution_count": 169,
   "id": "2c219671",
   "metadata": {},
   "outputs": [
    {
     "data": {
      "text/plain": [
       "False"
      ]
     },
     "execution_count": 169,
     "metadata": {},
     "output_type": "execute_result"
    }
   ],
   "source": [
    "s1 = 'py thon'\n",
    "s1.isspace()"
   ]
  },
  {
   "cell_type": "code",
   "execution_count": 173,
   "id": "6c78b097",
   "metadata": {},
   "outputs": [
    {
     "data": {
      "text/plain": [
       "False"
      ]
     },
     "execution_count": 173,
     "metadata": {},
     "output_type": "execute_result"
    }
   ],
   "source": [
    "s1 = '\"Python\" hello'\n",
    "s1.istitle()"
   ]
  },
  {
   "cell_type": "code",
   "execution_count": 9,
   "id": "0dcf6021",
   "metadata": {},
   "outputs": [
    {
     "data": {
      "text/plain": [
       "'hello-how-are-you'"
      ]
     },
     "execution_count": 9,
     "metadata": {},
     "output_type": "execute_result"
    }
   ],
   "source": [
    "a = 'hello how are you'\n",
    "a1 = a.split(' ')\n",
    "a1\n",
    "a2 = \"-\".join(a1)\n",
    "a2"
   ]
  },
  {
   "cell_type": "code",
   "execution_count": 14,
   "id": "ada27d04",
   "metadata": {},
   "outputs": [
    {
     "data": {
      "text/plain": [
       "'abrackabraca'"
      ]
     },
     "execution_count": 14,
     "metadata": {},
     "output_type": "execute_result"
    }
   ],
   "source": [
    "str1 = 'abracadabra'\n",
    "str2 = str1[:5] + 'k' + str1[:6]\n",
    "str2"
   ]
  },
  {
   "cell_type": "code",
   "execution_count": null,
   "id": "17d1eff0",
   "metadata": {},
   "outputs": [],
   "source": [
    "string = \"abracadabra\"\n",
    "l = list(string)\n",
    "l[5] = 'k'\n",
    "string = ''.join(l)\n",
    "\n"
   ]
  },
  {
   "cell_type": "code",
   "execution_count": null,
   "id": "5968bb6f",
   "metadata": {},
   "outputs": [],
   "source": [
    "Sample Input\n",
    "ABCDCDC\n",
    "CDC\n",
    "\n",
    "Sample Output\n",
    "2"
   ]
  },
  {
   "cell_type": "code",
   "execution_count": 30,
   "id": "c8520afc",
   "metadata": {},
   "outputs": [
    {
     "ename": "TypeError",
     "evalue": "'builtin_function_or_method' object is not subscriptable",
     "output_type": "error",
     "traceback": [
      "\u001b[1;31m---------------------------------------------------------------------------\u001b[0m",
      "\u001b[1;31mTypeError\u001b[0m                                 Traceback (most recent call last)",
      "Cell \u001b[1;32mIn[30], line 5\u001b[0m\n\u001b[0;32m      3\u001b[0m count \u001b[38;5;241m=\u001b[39m \u001b[38;5;241m0\u001b[39m\n\u001b[0;32m      4\u001b[0m \u001b[38;5;28;01mfor\u001b[39;00m i \u001b[38;5;129;01min\u001b[39;00m \u001b[38;5;28mrange\u001b[39m(\u001b[38;5;28mlen\u001b[39m(s1)):\n\u001b[1;32m----> 5\u001b[0m     \u001b[38;5;28;01mif\u001b[39;00m s1[i:\u001b[38;5;28mlen\u001b[39m(s1)]\u001b[38;5;241m.\u001b[39mstartswith[s2]:\n\u001b[0;32m      6\u001b[0m         count \u001b[38;5;241m=\u001b[39m count\u001b[38;5;241m+\u001b[39m\u001b[38;5;241m1\u001b[39m\n\u001b[0;32m      7\u001b[0m \u001b[38;5;28mprint\u001b[39m(count)\n",
      "\u001b[1;31mTypeError\u001b[0m: 'builtin_function_or_method' object is not subscriptable"
     ]
    }
   ],
   "source": [
    "s1 = 'ABCDCDC'\n",
    "s2 = 'CDC'\n",
    "count = 0\n",
    "for i in range(len(s1)):\n",
    "    if s1[i:len(s1)].startswith[s2]:\n",
    "        count = count+1\n",
    "print(count)\n",
    "    "
   ]
  },
  {
   "cell_type": "code",
   "execution_count": 29,
   "id": "a503e7cf",
   "metadata": {},
   "outputs": [
    {
     "ename": "TypeError",
     "evalue": "'builtin_function_or_method' object is not subscriptable",
     "output_type": "error",
     "traceback": [
      "\u001b[1;31m---------------------------------------------------------------------------\u001b[0m",
      "\u001b[1;31mTypeError\u001b[0m                                 Traceback (most recent call last)",
      "Cell \u001b[1;32mIn[29], line 6\u001b[0m\n\u001b[0;32m      4\u001b[0m count \u001b[38;5;241m=\u001b[39m \u001b[38;5;241m0\u001b[39m\n\u001b[0;32m      5\u001b[0m \u001b[38;5;28;01mfor\u001b[39;00m i \u001b[38;5;129;01min\u001b[39;00m \u001b[38;5;28mrange\u001b[39m(\u001b[38;5;28mlen\u001b[39m(s1)):\n\u001b[1;32m----> 6\u001b[0m     \u001b[38;5;28;01mif\u001b[39;00m s1[i:\u001b[38;5;28mlen\u001b[39m(s1)]\u001b[38;5;241m.\u001b[39mstartswith[s2]:\n\u001b[0;32m      7\u001b[0m         count \u001b[38;5;241m=\u001b[39m count\u001b[38;5;241m+\u001b[39m\u001b[38;5;241m1\u001b[39m\n\u001b[0;32m      9\u001b[0m count\n",
      "\u001b[1;31mTypeError\u001b[0m: 'builtin_function_or_method' object is not subscriptable"
     ]
    }
   ],
   "source": [
    "s1 = \"ABCDCDC\"\n",
    "s2 = \"CDC\"\n",
    "\n",
    "count = 0\n",
    "for i in range(len(s1)):\n",
    "    if s1[i:len(s1)].startswith[s2]:\n",
    "        count = count+1\n",
    "        \n",
    "count"
   ]
  },
  {
   "cell_type": "code",
   "execution_count": 32,
   "id": "0703c7f7",
   "metadata": {},
   "outputs": [
    {
     "data": {
      "text/plain": [
       "2"
      ]
     },
     "execution_count": 32,
     "metadata": {},
     "output_type": "execute_result"
    }
   ],
   "source": [
    "def count_substring(string, sub_string):\n",
    "    total = 0\n",
    "    for i in range(len(string)):\n",
    "        if string[i:len(string)].startswith(sub_string):\n",
    "            total += 1\n",
    "    return total\n",
    "count_substring('ABCDCDC','CDC')"
   ]
  },
  {
   "cell_type": "code",
   "execution_count": 33,
   "id": "7d7f5c63",
   "metadata": {},
   "outputs": [
    {
     "data": {
      "text/plain": [
       "2"
      ]
     },
     "execution_count": 33,
     "metadata": {},
     "output_type": "execute_result"
    }
   ],
   "source": [
    "s1 = \"ABCDCDC\"\n",
    "s2 = \"CDC\"\n",
    "\n",
    "count = 0\n",
    "for i in range(len(s1)):\n",
    "    if s1[i:len(s1)].startswith(s2):\n",
    "        count = count+1\n",
    "        \n",
    "count"
   ]
  },
  {
   "cell_type": "code",
   "execution_count": 7,
   "id": "609507cf",
   "metadata": {},
   "outputs": [
    {
     "name": "stdout",
     "output_type": "stream",
     "text": [
      "Name:  omkar surname:  nallagoni Company:  cognizant\n",
      "['nallagoni', 'cognizant']\n"
     ]
    }
   ],
   "source": [
    "s1 = 'omkar.nallagoni@cognizant.com'\n",
    "s2 = s1.split('.')\n",
    "s3 = s2[1].split('@')\n",
    "print('Name: ',s2[0],'surname: ', s3[0], 'Company: ', s3[1])"
   ]
  },
  {
   "cell_type": "code",
   "execution_count": null,
   "id": "7adf1dc0",
   "metadata": {},
   "outputs": [],
   "source": []
  }
 ],
 "metadata": {
  "kernelspec": {
   "display_name": "Python 3 (ipykernel)",
   "language": "python",
   "name": "python3"
  },
  "language_info": {
   "codemirror_mode": {
    "name": "ipython",
    "version": 3
   },
   "file_extension": ".py",
   "mimetype": "text/x-python",
   "name": "python",
   "nbconvert_exporter": "python",
   "pygments_lexer": "ipython3",
   "version": "3.11.5"
  }
 },
 "nbformat": 4,
 "nbformat_minor": 5
}
