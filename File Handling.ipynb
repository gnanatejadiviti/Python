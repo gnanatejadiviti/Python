{
 "cells": [
  {
   "cell_type": "code",
   "execution_count": null,
   "id": "62931a2b",
   "metadata": {},
   "outputs": [],
   "source": [
    "# In order to read any file\n",
    "# Where is file located : Folder name\n",
    "# What is the name of the file\n",
    "# What is file extension"
   ]
  },
  {
   "cell_type": "markdown",
   "id": "ba447288",
   "metadata": {},
   "source": [
    "##### What is file\n",
    "- Files are named locations on disk to store info.\n",
    "- They are used to store data permanently\n",
    "- Data is stored in non-volatile memory(stored even computer is shutdown)\n",
    "- We can retrieve data whwnever required."
   ]
  },
  {
   "cell_type": "code",
   "execution_count": null,
   "id": "7be640ea",
   "metadata": {},
   "outputs": [],
   "source": [
    "File name                type of the file\n",
    "\n",
    "Text file                   .txt\n",
    "\n",
    "Word doc                    .doc or .docx\n",
    "\n",
    "Excel sheet                 .csv(Comma seperated value)\n",
    "\n",
    "Excel sheet                 .xlsx\n",
    "\n",
    "pdf                         .pdf\n",
    "\n",
    "json                        .json\n",
    "\n",
    "xml                         .xml\n",
    "\n",
    "delta                       .delta(DE)\n",
    "\n",
    "parquet                     .delta (DE)\n",
    "\n",
    "tf record                   'x\\b\\29'\n",
    "\n",
    "image                       .jpg, .png"
   ]
  },
  {
   "cell_type": "markdown",
   "id": "319d060a",
   "metadata": {},
   "source": [
    "##### Types of files\n",
    "- Text files:\n",
    "    - Stores data in the form of chr. It is used to store data and strings.Ex: .txt & .json\n",
    "        \n",
    "- Binary files:\n",
    "    - Stores data in the form of bytes(group of 8 bits).Ex: audio file, video file, image file and pdf file"
   ]
  },
  {
   "cell_type": "markdown",
   "id": "2b7fdc22",
   "metadata": {},
   "source": [
    "##### What is file handling\n",
    "- File handling means:\n",
    "    - **Opening** a file\n",
    "    - **Performing some operations** on it (Read or Write)\n",
    "    - **Closing** a file"
   ]
  },
  {
   "cell_type": "markdown",
   "id": "8476c17d",
   "metadata": {},
   "source": [
    "##### Various modes of file\n",
    "- 'r' : **Read**-Default value.Opens a file for reading, error if the file does not exist\n",
    "- 'a' : **Append**-Opens a file for appending, creates the file if it does not exist\n",
    "- 'w' : **Write**-Opens a file for writing,creates the file if it does not exist\n",
    "- 'x' : **Create**-Creates the specifed file,returns an error if the file exists\n",
    "- 't' : **Text**-Default value. Text mode\n",
    "- 'b' : **Binary**-Binary mode(e.g:images,videos)   "
   ]
  },
  {
   "cell_type": "markdown",
   "id": "feb5b11e",
   "metadata": {},
   "source": [
    "#### Opening file"
   ]
  },
  {
   "cell_type": "code",
   "execution_count": null,
   "id": "26621f4e",
   "metadata": {},
   "outputs": [],
   "source": [
    "#syntax:\n",
    "f = open('filename',mode='r')\n",
    "f : file handler, file pointer\n",
    "mode : access mode(purpose of opening file)\n",
    "filename : file to be access"
   ]
  },
  {
   "cell_type": "code",
   "execution_count": null,
   "id": "f46be201",
   "metadata": {},
   "outputs": [],
   "source": [
    "# _ (underscore means we are not using that)"
   ]
  },
  {
   "cell_type": "code",
   "execution_count": 19,
   "id": "4db617bb",
   "metadata": {},
   "outputs": [
    {
     "name": "stdout",
     "output_type": "stream",
     "text": [
      "7\n"
     ]
    }
   ],
   "source": [
    "i = 20\n",
    "for i in range(4,8):\n",
    "    pass\n",
    "print(i)"
   ]
  },
  {
   "cell_type": "code",
   "execution_count": 53,
   "id": "cb8dd785",
   "metadata": {},
   "outputs": [
    {
     "name": "stdout",
     "output_type": "stream",
     "text": [
      "Line count: 94626\n",
      "94626\n",
      "From stephen.marquar\n"
     ]
    }
   ],
   "source": [
    "f = open(r'C:\\Users\\DELL\\OneDrive\\Documents\\mbox-short.txt')\n",
    "content = f.read()\n",
    "count = 0\n",
    "for line in content:\n",
    "    count +=1\n",
    "print('Line count:',count)\n",
    "print(len(content))\n",
    "print(content[:20])\n",
    "    "
   ]
  },
  {
   "cell_type": "code",
   "execution_count": 57,
   "id": "57de8b83",
   "metadata": {},
   "outputs": [
    {
     "name": "stdout",
     "output_type": "stream",
     "text": [
      "From: stephen.marquard@uct.ac.za\n",
      "\n",
      "From: louis@media.berkeley.edu\n",
      "\n",
      "From: zqian@umich.edu\n",
      "\n",
      "From: rjlowe@iupui.edu\n",
      "\n",
      "From: zqian@umich.edu\n",
      "\n",
      "From: rjlowe@iupui.edu\n",
      "\n",
      "From: cwen@iupui.edu\n",
      "\n",
      "From: cwen@iupui.edu\n",
      "\n",
      "From: gsilver@umich.edu\n",
      "\n",
      "From: gsilver@umich.edu\n",
      "\n",
      "From: zqian@umich.edu\n",
      "\n",
      "From: gsilver@umich.edu\n",
      "\n",
      "From: wagnermr@iupui.edu\n",
      "\n",
      "From: zqian@umich.edu\n",
      "\n",
      "From: antranig@caret.cam.ac.uk\n",
      "\n",
      "From: gopal.ramasammycook@gmail.com\n",
      "\n",
      "From: david.horwitz@uct.ac.za\n",
      "\n",
      "From: david.horwitz@uct.ac.za\n",
      "\n",
      "From: david.horwitz@uct.ac.za\n",
      "\n",
      "From: david.horwitz@uct.ac.za\n",
      "\n",
      "From: stephen.marquard@uct.ac.za\n",
      "\n",
      "From: louis@media.berkeley.edu\n",
      "\n",
      "From: louis@media.berkeley.edu\n",
      "\n",
      "From: ray@media.berkeley.edu\n",
      "\n",
      "From: cwen@iupui.edu\n",
      "\n",
      "From: cwen@iupui.edu\n",
      "\n",
      "From: cwen@iupui.edu\n",
      "\n"
     ]
    }
   ],
   "source": [
    "f = open(r'C:\\Users\\DELL\\OneDrive\\Documents\\mbox-short.txt')\n",
    "for line in f:\n",
    "    if line.startswith('From:'):\n",
    "        print(line)"
   ]
  },
  {
   "cell_type": "code",
   "execution_count": 79,
   "id": "a29955ec",
   "metadata": {},
   "outputs": [
    {
     "data": {
      "text/plain": [
       "['stephen.marquard@uct.ac.za',\n",
       " 'louis@media.berkeley.edu',\n",
       " 'zqian@umich.edu',\n",
       " 'rjlowe@iupui.edu',\n",
       " 'cwen@iupui.edu',\n",
       " 'gsilver@umich.edu',\n",
       " 'wagnermr@iupui.edu',\n",
       " 'antranig@caret.cam.ac.uk',\n",
       " 'gopal.ramasammycook@gmail.com',\n",
       " 'david.horwitz@uct.ac.za',\n",
       " 'ray@media.berkeley.edu']"
      ]
     },
     "execution_count": 79,
     "metadata": {},
     "output_type": "execute_result"
    }
   ],
   "source": [
    "f = open(r'C:\\Users\\DELL\\OneDrive\\Documents\\mbox-short.txt')\n",
    "list1 = [line for line in f if line.startswith('From')]\n",
    "list2 = [line.rstrip() for line in list1]\n",
    "list3 = [line.split()[1] for line in list2]\n",
    "list4 =[]\n",
    "for line in list3:\n",
    "    if line not in list4:\n",
    "        list4.append(line)\n",
    "list4"
   ]
  },
  {
   "cell_type": "code",
   "execution_count": 1,
   "id": "a7c1d5e1",
   "metadata": {},
   "outputs": [
    {
     "data": {
      "text/plain": [
       "'C:\\\\Users\\\\DELL\\\\DS COURSE NARESH IT\\\\DS COURSE NARESH IT\\\\Python\\\\Python sessions'"
      ]
     },
     "execution_count": 1,
     "metadata": {},
     "output_type": "execute_result"
    }
   ],
   "source": [
    "import os\n",
    "os.getcwd()"
   ]
  },
  {
   "cell_type": "markdown",
   "id": "08e4ae5f",
   "metadata": {},
   "source": [
    "- If any doc present in the python path then no need to mention its full address, just its extension is required"
   ]
  },
  {
   "cell_type": "code",
   "execution_count": 166,
   "id": "2e5db168",
   "metadata": {},
   "outputs": [
    {
     "name": "stdout",
     "output_type": "stream",
     "text": [
      "First name------> ï»¿Santhanam , Second name------>  Jayendhran  , Email ID-------> jayendhran.ms@accenture.com , Company------>['accenture', '']\n",
      "First name------>  Bhattacharjee , Second name------>  Sankalan  , Email ID-------> s.t.bhattacharjee@accenture.com , Company------>['accenture', '']\n",
      "First name------>  Bansal , Second name------>  Vaishnavi  , Email ID-------> vaishnavi.a.bansal@accenture.com , Company------>['accenture', '']\n",
      "First name------>  Chandra Shekhar , Second name------>  Pavuluri  , Email ID-------> p.a.chandra.shekhar@accenture.com , Company------>['accenture', '']\n",
      "First name------>  J Doshi , Second name------>  Hiren  , Email ID-------> hiren.j.doshi@accenture.com , Company------>['accenture', '']\n",
      "First name------>  Shimoga Prakash , Second name------>  Jeevan  , Email ID-------> j.shimoga.prakash@accenture.com , Company------>['accenture', '']\n",
      "First name------>  Akhouri , Second name------>  Shreyash  , Email ID-------> shreyash.akhouri@accenture.com , Company------>['accenture', '']\n",
      "First name------>  Nath , Second name------>  Nupanga  , Email ID-------> nupanga.nath@accenture.com , Company------>['accenture', '']\n",
      "First name------>  Ponna , Second name------>  Ramesh  , Email ID-------> r.ponna@accenture.com , Company------>['accenture', '']\n",
      "First name------>  Singhal , Second name------>  Aditya  , Email ID-------> aditya.d.singhal@accenture.com , Company------>['accenture', '']\n",
      "First name------>  Gorai , Second name------>  Sumit  , Email ID-------> sumit.gorai@accenture.com , Company------>['accenture', '']\n",
      "First name------>  Valdez , Second name------>  Mariele Dyan Francely  , Email ID-------> mariele.dyan.valdez@accenture.com , Company------>['accenture', '']\n",
      "First name------>  Cancel , Second name------>  Abigail Kyle  , Email ID-------> abigail.kyle.cancel@accenture.com , Company------>['accenture', '']\n",
      "First name------>  BONDALAKUNTA , Second name------>  POOJITHA  , Email ID-------> p.bondalakunta@accenture.com , Company------>['accenture', '']\n",
      "First name------>  priyanka uppala , Second name------>  sai  , Email ID-------> sai.priyanka.uppala@accenture.com , Company------>['accenture', '']\n",
      "First name------>  Nitin SHINDE , Second name------>  NIKHIL  , Email ID-------> nikhil.nitin.shinde@accenture.com , Company------>['accenture', '']\n",
      "First name------>  Chidre , Second name------>  Swapna  , Email ID-------> swapna.chidre@accenture.com , Company------>['accenture', '']\n",
      "First name------>  Sahu , Second name------>  Swastik  , Email ID-------> s.satyapragyan.sahu@accenture.com , Company------>['accenture', '']\n",
      "First name------>  Sikka , Second name------>  Ankit  , Email ID-------> ankit.sikka@accenture.com , Company------>['accenture', '']\n",
      "First name------>  Dara , Second name------>  Sai Madhukar  , Email ID-------> sai.madhukar.dara@accenture.com , Company------>['accenture', '']\n",
      "First name------>  Pattanshetti , Second name------>  Sampreet  , Email ID-------> s.pattanshetti@accenture.com , Company------>['accenture', '']\n",
      "First name------>  Sharma , Second name------>  Ayush  , Email ID-------> ayush.ad.sharma@accenture.com , Company------>['accenture', '']\n",
      "First name------>  Latorena , Second name------>  Zairous Jay  , Email ID-------> zairous.jay.latorena@accenture.com , Company------>['accenture', '']\n",
      "First name------>  Abhimanyu Pradhan , Second name------>  Roshankumar  , Email ID-------> r.abhimanyu.pradhan@accenture.com , Company------>['accenture', '']\n",
      "First name------>  Jaiswal , Second name------>  Lehar  , Email ID-------> lehar.jaiswal@accenture.com , Company------>['accenture', '']\n",
      "First name------>  Gupta , Second name------>  Retik  , Email ID-------> retik.gupta@accenture.com , Company------>['accenture', '']\n",
      "First name------>  Satti , Second name------>  Phanindra Reddy  , Email ID-------> phanindra.r.satti@accenture.com , Company------>['accenture', '']\n",
      "First name------>  Kumar , Second name------>  Manish  , Email ID-------> manish.dw.kumar@accenture.com , Company------>['accenture', '']\n",
      "First name------>  Balakrishnan , Second name------>  Devi Priya  , Email ID-------> devi.p.balakrishnan@accenture.com , Company------>['accenture', '']\n",
      "First name------>  M S , Second name------>  Roshni Priya  , Email ID-------> roshni.priya.m.s@accenture.com , Company------>['accenture', '']\n",
      "First name------>  Cheerala , Second name------>  Vanaja  , Email ID-------> vanaja.cheerala@accenture.com , Company------>['accenture', '']\n",
      "First name------>  G D , Second name------>  Chandrashekhar  , Email ID-------> chandrashekhar.g.d@accenture.com , Company------>['accenture', '']\n",
      "First name------>  Nikhil Reddy , Second name------>  Madithati  , Email ID-------> m.nikhil.reddy@accenture.com , Company------>['accenture', '']\n",
      "First name------>  Santos , Second name------>  Jeroshelle V.  , Email ID-------> jeroshelle.v.santos@accenture.com , Company------>['accenture', '']\n",
      "First name------>  Milan , Second name------>  Gerald John  , Email ID-------> gerald.john.milan@accenture.com , Company------>['accenture', '']\n",
      "First name------>  Gupta , Second name------>  Vivek  , Email ID-------> vivek.u.gupta@accenture.com , Company------>['accenture', '']\n",
      "First name------>  Mandal , Second name------>  Sumit  , Email ID-------> s.sunilkumar.mandal@accenture.com , Company------>['accenture', '']\n",
      "First name------>  Prakash Shukla , Second name------>  Ashok  , Email ID-------> ashok.prakash.shukla@accenture.com , Company------>['accenture', '']\n",
      "First name------>  Naganathan , Second name------>  Siva  , Email ID-------> sivakumar.naganathan@accenture.com , Company------>['accenture', '']\n",
      "First name------>  GAHLOT , Second name------>  NIKHIL  , Email ID-------> nikhil.gahlot@accenture.com , Company------>['accenture', '']\n",
      "First name------>  Kanjilal , Second name------>  Sourav  , Email ID-------> s.a.kanti.kanjilal@accenture.com , Company------>['accenture', '']\n",
      "First name------>  Nallagoni , Second name------>  Omkar  , Email ID-------> omkar.nallagoni@accenture.com , Company------>['accenture', '']\n",
      "First name------>  Sahajan , Second name------>  Sandra  , Email ID-------> sandra.sahajan@accenture.com , Company------>['accenture', '']\n",
      "First name------>  Nelluri , Second name------>  Chaitanya  , Email ID-------> chaitanya.nelluri@accenture.com , Company------>['accenture', '']\n"
     ]
    }
   ],
   "source": [
    "email_path = r\"C:\\Users\\DELL\\DS COURSE NARESH IT\\python files\\emails.txt\"\n",
    "file = open(email_path)\n",
    "content = file.read()\n",
    "lines = content.split(';')\n",
    "for line in lines:\n",
    "    list1 = line.split('<')\n",
    "    first_name = (list1[0].split(',')[0])\n",
    "    second_name = (list1[0].split(',')[1])\n",
    "    index1 = list1[1]\n",
    "    email = (index1.rstrip('>'))\n",
    "    index2 = email.find('@')\n",
    "    company = email[index2+1:].rsplit('.com')\n",
    "    print(f'First name------> {first_name} , Second name------> {second_name} , Email ID-------> {email} , Company------>{company}')"
   ]
  },
  {
   "cell_type": "code",
   "execution_count": 1,
   "id": "ddffccb6",
   "metadata": {},
   "outputs": [
    {
     "name": "stdout",
     "output_type": "stream",
     "text": [
      "First name: Santhanam, Second name: Jayendhran Email ID: jayendhran.ms@accenture.com , Company name:accenture \n",
      "First name: Bhattacharjee, Second name: Sankalan Email ID: s.t.bhattacharjee@accenture.com , Company name:accenture \n",
      "First name: Bansal, Second name: Vaishnavi Email ID: vaishnavi.a.bansal@accenture.com , Company name:accenture \n",
      "First name: Chandra Second name: Shekhar, Email ID: p.a.chandra.shekhar@accenture.com , Company name:accenture \n",
      "First name: J Second name: Doshi, Email ID: hiren.j.doshi@accenture.com , Company name:accenture \n",
      "First name: Shimoga Second name: Prakash, Email ID: j.shimoga.prakash@accenture.com , Company name:accenture \n",
      "First name: Akhouri, Second name: Shreyash Email ID: shreyash.akhouri@accenture.com , Company name:accenture \n",
      "First name: Nath, Second name: Nupanga Email ID: nupanga.nath@accenture.com , Company name:accenture \n",
      "First name: Ponna, Second name: Ramesh Email ID: r.ponna@accenture.com , Company name:accenture \n",
      "First name: Singhal, Second name: Aditya Email ID: aditya.d.singhal@accenture.com , Company name:accenture \n",
      "First name: Gorai, Second name: Sumit Email ID: sumit.gorai@accenture.com , Company name:accenture \n",
      "First name: Valdez, Second name: Mariele Email ID: mariele.dyan.valdez@accenture.com , Company name:accenture \n",
      "First name: Cancel, Second name: Abigail Email ID: abigail.kyle.cancel@accenture.com , Company name:accenture \n",
      "First name: BONDALAKUNTA, Second name: POOJITHA Email ID: p.bondalakunta@accenture.com , Company name:accenture \n",
      "First name: priyanka Second name: uppala, Email ID: sai.priyanka.uppala@accenture.com , Company name:accenture \n",
      "First name: Nitin Second name: SHINDE, Email ID: nikhil.nitin.shinde@accenture.com , Company name:accenture \n",
      "First name: Chidre, Second name: Swapna Email ID: swapna.chidre@accenture.com , Company name:accenture \n",
      "First name: Sahu, Second name: Swastik Email ID: s.satyapragyan.sahu@accenture.com , Company name:accenture \n",
      "First name: Sikka, Second name: Ankit Email ID: ankit.sikka@accenture.com , Company name:accenture \n",
      "First name: Dara, Second name: Sai Email ID: sai.madhukar.dara@accenture.com , Company name:accenture \n",
      "First name: Pattanshetti, Second name: Sampreet Email ID: s.pattanshetti@accenture.com , Company name:accenture \n",
      "First name: Sharma, Second name: Ayush Email ID: ayush.ad.sharma@accenture.com , Company name:accenture \n",
      "First name: Latorena, Second name: Zairous Email ID: zairous.jay.latorena@accenture.com , Company name:accenture \n",
      "First name: Abhimanyu Second name: Pradhan, Email ID: r.abhimanyu.pradhan@accenture.com , Company name:accenture \n",
      "First name: Jaiswal, Second name: Lehar Email ID: lehar.jaiswal@accenture.com , Company name:accenture \n",
      "First name: Gupta, Second name: Retik Email ID: retik.gupta@accenture.com , Company name:accenture \n",
      "First name: Satti, Second name: Phanindra Email ID: phanindra.r.satti@accenture.com , Company name:accenture \n",
      "First name: Kumar, Second name: Manish Email ID: manish.dw.kumar@accenture.com , Company name:accenture \n",
      "First name: Balakrishnan, Second name: Devi Email ID: devi.p.balakrishnan@accenture.com , Company name:accenture \n",
      "First name: M Second name: S, Email ID: roshni.priya.m.s@accenture.com , Company name:accenture \n",
      "First name: Cheerala, Second name: Vanaja Email ID: vanaja.cheerala@accenture.com , Company name:accenture \n",
      "First name: G Second name: D, Email ID: chandrashekhar.g.d@accenture.com , Company name:accenture \n",
      "First name: Nikhil Second name: Reddy, Email ID: m.nikhil.reddy@accenture.com , Company name:accenture \n",
      "First name: Santos, Second name: Jeroshelle Email ID: jeroshelle.v.santos@accenture.com , Company name:accenture \n",
      "First name: Milan, Second name: Gerald Email ID: gerald.john.milan@accenture.com , Company name:accenture \n",
      "First name: Gupta, Second name: Vivek Email ID: vivek.u.gupta@accenture.com , Company name:accenture \n",
      "First name: Mandal, Second name: Sumit Email ID: s.sunilkumar.mandal@accenture.com , Company name:accenture \n",
      "First name: Prakash Second name: Shukla, Email ID: ashok.prakash.shukla@accenture.com , Company name:accenture \n",
      "First name: Naganathan, Second name: Siva Email ID: sivakumar.naganathan@accenture.com , Company name:accenture \n",
      "First name: GAHLOT, Second name: NIKHIL Email ID: nikhil.gahlot@accenture.com , Company name:accenture \n",
      "First name: Kanjilal, Second name: Sourav Email ID: s.a.kanti.kanjilal@accenture.com , Company name:accenture \n",
      "First name: Nallagoni, Second name: Omkar Email ID: omkar.nallagoni@accenture.com , Company name:accenture \n",
      "First name: Sahajan, Second name: Sandra Email ID: sandra.sahajan@accenture.com , Company name:accenture \n",
      "First name: Nelluri, Second name: Chaitanya Email ID: chaitanya.nelluri@accenture.com , Company name:accenture \n"
     ]
    }
   ],
   "source": [
    "\n",
    "with open(r\"C:\\Users\\DELL\\DS COURSE NARESH IT\\python files\\emails.txt\", 'r',encoding=\"utf-8-sig\") as file:\n",
    "    \n",
    "    content = file.read()\n",
    "\n",
    "    \n",
    "    lines = content.split(';')\n",
    "\n",
    "    \n",
    "    for line in lines:\n",
    "        \n",
    "        parts = line.split('<')\n",
    "        fir_name = parts[0].split()[0]\n",
    "        sec_name = parts[0].split()[1]\n",
    "        \n",
    "        email = parts[1].replace('>', '').strip()\n",
    "        index = email.index('@')\n",
    "        company = email[index+1:].rstrip('.com')\n",
    "        \n",
    "        \n",
    "        print(f\"First name: {fir_name} Second name: {sec_name} Email ID: {email} , Company name:{company} \")\n",
    "        \n",
    "        "
   ]
  },
  {
   "cell_type": "code",
   "execution_count": 150,
   "id": "9aaa4be3",
   "metadata": {},
   "outputs": [
    {
     "data": {
      "text/plain": [
       "'Santhanam, Jayendhran <jayendhran.ms@accenture.com>; Bhattacharjee, Sankalan <s.t.bhattacharjee@accenture.com>; Bansal, Vaishnavi <vaishnavi.a.bansal@accenture.com>; Chandra Shekhar, Pavuluri <p.a.chandra.shekhar@accenture.com>; J Doshi, Hiren <hiren.j.doshi@accenture.com>; Shimoga Prakash, Jeevan <j.shimoga.prakash@accenture.com>; Akhouri, Shreyash <shreyash.akhouri@accenture.com>; Nath, Nupanga <nupanga.nath@accenture.com>; Ponna, Ramesh <r.ponna@accenture.com>; Singhal, Aditya <aditya.d.singhal@accenture.com>; Gorai, Sumit <sumit.gorai@accenture.com>; Valdez, Mariele Dyan Francely <mariele.dyan.valdez@accenture.com>; Cancel, Abigail Kyle <abigail.kyle.cancel@accenture.com>; BONDALAKUNTA, POOJITHA <p.bondalakunta@accenture.com>; priyanka uppala, sai <sai.priyanka.uppala@accenture.com>; Nitin SHINDE, NIKHIL <nikhil.nitin.shinde@accenture.com>; Chidre, Swapna <swapna.chidre@accenture.com>; Sahu, Swastik <s.satyapragyan.sahu@accenture.com>; Sikka, Ankit <ankit.sikka@accenture.com>; Dara, Sai Madhukar <sai.madhukar.dara@accenture.com>; Pattanshetti, Sampreet <s.pattanshetti@accenture.com>; Sharma, Ayush <ayush.ad.sharma@accenture.com>; Latorena, Zairous Jay <zairous.jay.latorena@accenture.com>; Abhimanyu Pradhan, Roshankumar <r.abhimanyu.pradhan@accenture.com>; Jaiswal, Lehar <lehar.jaiswal@accenture.com>; Gupta, Retik <retik.gupta@accenture.com>; Satti, Phanindra Reddy <phanindra.r.satti@accenture.com>; Kumar, Manish <manish.dw.kumar@accenture.com>; Balakrishnan, Devi Priya <devi.p.balakrishnan@accenture.com>; M S, Roshni Priya <roshni.priya.m.s@accenture.com>; Cheerala, Vanaja <vanaja.cheerala@accenture.com>; G D, Chandrashekhar <chandrashekhar.g.d@accenture.com>; Nikhil Reddy, Madithati <m.nikhil.reddy@accenture.com>; Santos, Jeroshelle V. <jeroshelle.v.santos@accenture.com>; Milan, Gerald John <gerald.john.milan@accenture.com>; Gupta, Vivek <vivek.u.gupta@accenture.com>; Mandal, Sumit <s.sunilkumar.mandal@accenture.com>; Prakash Shukla, Ashok <ashok.prakash.shukla@accenture.com>; Naganathan, Siva <sivakumar.naganathan@accenture.com>; GAHLOT, NIKHIL <nikhil.gahlot@accenture.com>; Kanjilal, Sourav <s.a.kanti.kanjilal@accenture.com>; Nallagoni, Omkar <omkar.nallagoni@accenture.com>; Sahajan, Sandra <sandra.sahajan@accenture.com>; Nelluri, Chaitanya <chaitanya.nelluri@accenture.com>'"
      ]
     },
     "execution_count": 150,
     "metadata": {},
     "output_type": "execute_result"
    }
   ],
   "source": [
    "path = 'C:\\\\Users\\\\DELL\\\\DS COURSE NARESH IT\\\\python files\\\\emails.txt'\n",
    "file = open(path,'r',encoding='utf-8-sig')\n",
    "data = file.read()\n",
    "data"
   ]
  },
  {
   "cell_type": "code",
   "execution_count": 141,
   "id": "de71cf47",
   "metadata": {},
   "outputs": [
    {
     "name": "stdout",
     "output_type": "stream",
     "text": [
      "Santhanam   , Jayendhran    ,jayendhran.ms@accenture.com\n",
      " Bhattacharjee   , Sankalan    ,s.t.bhattacharjee@accenture.com\n",
      " Bansal   , Vaishnavi    ,vaishnavi.a.bansal@accenture.com\n",
      " Chandra Shekhar   , Pavuluri    ,p.a.chandra.shekhar@accenture.com\n",
      " J Doshi   , Hiren    ,hiren.j.doshi@accenture.com\n",
      " Shimoga Prakash   , Jeevan    ,j.shimoga.prakash@accenture.com\n",
      " Akhouri   , Shreyash    ,shreyash.akhouri@accenture.com\n",
      " Nath   , Nupanga    ,nupanga.nath@accenture.com\n",
      " Ponna   , Ramesh    ,r.ponna@accenture.com\n",
      " Singhal   , Aditya    ,aditya.d.singhal@accenture.com\n",
      " Gorai   , Sumit    ,sumit.gorai@accenture.com\n",
      " Valdez   , Mariele Dyan Francely    ,mariele.dyan.valdez@accenture.com\n",
      " Cancel   , Abigail Kyle    ,abigail.kyle.cancel@accenture.com\n",
      " BONDALAKUNTA   , POOJITHA    ,p.bondalakunta@accenture.com\n",
      " priyanka uppala   , sai    ,sai.priyanka.uppala@accenture.com\n",
      " Nitin SHINDE   , NIKHIL    ,nikhil.nitin.shinde@accenture.com\n",
      " Chidre   , Swapna    ,swapna.chidre@accenture.com\n",
      " Sahu   , Swastik    ,s.satyapragyan.sahu@accenture.com\n",
      " Sikka   , Ankit    ,ankit.sikka@accenture.com\n",
      " Dara   , Sai Madhukar    ,sai.madhukar.dara@accenture.com\n",
      " Pattanshetti   , Sampreet    ,s.pattanshetti@accenture.com\n",
      " Sharma   , Ayush    ,ayush.ad.sharma@accenture.com\n",
      " Latorena   , Zairous Jay    ,zairous.jay.latorena@accenture.com\n",
      " Abhimanyu Pradhan   , Roshankumar    ,r.abhimanyu.pradhan@accenture.com\n",
      " Jaiswal   , Lehar    ,lehar.jaiswal@accenture.com\n",
      " Gupta   , Retik    ,retik.gupta@accenture.com\n",
      " Satti   , Phanindra Reddy    ,phanindra.r.satti@accenture.com\n",
      " Kumar   , Manish    ,manish.dw.kumar@accenture.com\n",
      " Balakrishnan   , Devi Priya    ,devi.p.balakrishnan@accenture.com\n",
      " M S   , Roshni Priya    ,roshni.priya.m.s@accenture.com\n",
      " Cheerala   , Vanaja    ,vanaja.cheerala@accenture.com\n",
      " G D   , Chandrashekhar    ,chandrashekhar.g.d@accenture.com\n",
      " Nikhil Reddy   , Madithati    ,m.nikhil.reddy@accenture.com\n",
      " Santos   , Jeroshelle V.    ,jeroshelle.v.santos@accenture.com\n",
      " Milan   , Gerald John    ,gerald.john.milan@accenture.com\n",
      " Gupta   , Vivek    ,vivek.u.gupta@accenture.com\n",
      " Mandal   , Sumit    ,s.sunilkumar.mandal@accenture.com\n",
      " Prakash Shukla   , Ashok    ,ashok.prakash.shukla@accenture.com\n",
      " Naganathan   , Siva    ,sivakumar.naganathan@accenture.com\n",
      " GAHLOT   , NIKHIL    ,nikhil.gahlot@accenture.com\n",
      " Kanjilal   , Sourav    ,s.a.kanti.kanjilal@accenture.com\n",
      " Nallagoni   , Omkar    ,omkar.nallagoni@accenture.com\n",
      " Sahajan   , Sandra    ,sandra.sahajan@accenture.com\n",
      " Nelluri   , Chaitanya    ,chaitanya.nelluri@accenture.com\n"
     ]
    }
   ],
   "source": [
    "l1 = data.split(';')\n",
    "for i in range(len(l1)):\n",
    "    list(l1[i])\n",
    "    l1[i].split(';')\n",
    "    i1 = l1[i].index(',')\n",
    "    name = l1[i][:i1]\n",
    "    i2 = l1[i].index('<')\n",
    "    sec_name = l1[i][i1+1:i2]\n",
    "    i3 = l1[i].index('@')\n",
    "    email= l1[i][i2+1:-1]\n",
    "    print(f\"{name}   ,{sec_name}   ,{email}\")"
   ]
  },
  {
   "cell_type": "code",
   "execution_count": 145,
   "id": "240d0e9e",
   "metadata": {},
   "outputs": [
    {
     "name": "stdout",
     "output_type": "stream",
     "text": [
      "First name : Santhanam\n",
      "Second name :  Jayendhran \n",
      "Email : jayendhran.ms@accenture.com\n",
      "=======================================\n",
      "First name :  Bhattacharjee\n",
      "Second name :  Sankalan \n",
      "Email : s.t.bhattacharjee@accenture.com\n",
      "=======================================\n",
      "First name :  Bansal\n",
      "Second name :  Vaishnavi \n",
      "Email : vaishnavi.a.bansal@accenture.com\n",
      "=======================================\n",
      "First name :  Chandra Shekhar\n",
      "Second name :  Pavuluri \n",
      "Email : p.a.chandra.shekhar@accenture.com\n",
      "=======================================\n",
      "First name :  J Doshi\n",
      "Second name :  Hiren \n",
      "Email : hiren.j.doshi@accenture.com\n",
      "=======================================\n",
      "First name :  Shimoga Prakash\n",
      "Second name :  Jeevan \n",
      "Email : j.shimoga.prakash@accenture.com\n",
      "=======================================\n",
      "First name :  Akhouri\n",
      "Second name :  Shreyash \n",
      "Email : shreyash.akhouri@accenture.com\n",
      "=======================================\n",
      "First name :  Nath\n",
      "Second name :  Nupanga \n",
      "Email : nupanga.nath@accenture.com\n",
      "=======================================\n",
      "First name :  Ponna\n",
      "Second name :  Ramesh \n",
      "Email : r.ponna@accenture.com\n",
      "=======================================\n",
      "First name :  Singhal\n",
      "Second name :  Aditya \n",
      "Email : aditya.d.singhal@accenture.com\n",
      "=======================================\n",
      "First name :  Gorai\n",
      "Second name :  Sumit \n",
      "Email : sumit.gorai@accenture.com\n",
      "=======================================\n",
      "First name :  Valdez\n",
      "Second name :  Mariele Dyan Francely \n",
      "Email : mariele.dyan.valdez@accenture.com\n",
      "=======================================\n",
      "First name :  Cancel\n",
      "Second name :  Abigail Kyle \n",
      "Email : abigail.kyle.cancel@accenture.com\n",
      "=======================================\n",
      "First name :  BONDALAKUNTA\n",
      "Second name :  POOJITHA \n",
      "Email : p.bondalakunta@accenture.com\n",
      "=======================================\n",
      "First name :  priyanka uppala\n",
      "Second name :  sai \n",
      "Email : sai.priyanka.uppala@accenture.com\n",
      "=======================================\n",
      "First name :  Nitin SHINDE\n",
      "Second name :  NIKHIL \n",
      "Email : nikhil.nitin.shinde@accenture.com\n",
      "=======================================\n",
      "First name :  Chidre\n",
      "Second name :  Swapna \n",
      "Email : swapna.chidre@accenture.com\n",
      "=======================================\n",
      "First name :  Sahu\n",
      "Second name :  Swastik \n",
      "Email : s.satyapragyan.sahu@accenture.com\n",
      "=======================================\n",
      "First name :  Sikka\n",
      "Second name :  Ankit \n",
      "Email : ankit.sikka@accenture.com\n",
      "=======================================\n",
      "First name :  Dara\n",
      "Second name :  Sai Madhukar \n",
      "Email : sai.madhukar.dara@accenture.com\n",
      "=======================================\n",
      "First name :  Pattanshetti\n",
      "Second name :  Sampreet \n",
      "Email : s.pattanshetti@accenture.com\n",
      "=======================================\n",
      "First name :  Sharma\n",
      "Second name :  Ayush \n",
      "Email : ayush.ad.sharma@accenture.com\n",
      "=======================================\n",
      "First name :  Latorena\n",
      "Second name :  Zairous Jay \n",
      "Email : zairous.jay.latorena@accenture.com\n",
      "=======================================\n",
      "First name :  Abhimanyu Pradhan\n",
      "Second name :  Roshankumar \n",
      "Email : r.abhimanyu.pradhan@accenture.com\n",
      "=======================================\n",
      "First name :  Jaiswal\n",
      "Second name :  Lehar \n",
      "Email : lehar.jaiswal@accenture.com\n",
      "=======================================\n",
      "First name :  Gupta\n",
      "Second name :  Retik \n",
      "Email : retik.gupta@accenture.com\n",
      "=======================================\n",
      "First name :  Satti\n",
      "Second name :  Phanindra Reddy \n",
      "Email : phanindra.r.satti@accenture.com\n",
      "=======================================\n",
      "First name :  Kumar\n",
      "Second name :  Manish \n",
      "Email : manish.dw.kumar@accenture.com\n",
      "=======================================\n",
      "First name :  Balakrishnan\n",
      "Second name :  Devi Priya \n",
      "Email : devi.p.balakrishnan@accenture.com\n",
      "=======================================\n",
      "First name :  M S\n",
      "Second name :  Roshni Priya \n",
      "Email : roshni.priya.m.s@accenture.com\n",
      "=======================================\n",
      "First name :  Cheerala\n",
      "Second name :  Vanaja \n",
      "Email : vanaja.cheerala@accenture.com\n",
      "=======================================\n",
      "First name :  G D\n",
      "Second name :  Chandrashekhar \n",
      "Email : chandrashekhar.g.d@accenture.com\n",
      "=======================================\n",
      "First name :  Nikhil Reddy\n",
      "Second name :  Madithati \n",
      "Email : m.nikhil.reddy@accenture.com\n",
      "=======================================\n",
      "First name :  Santos\n",
      "Second name :  Jeroshelle V. \n",
      "Email : jeroshelle.v.santos@accenture.com\n",
      "=======================================\n",
      "First name :  Milan\n",
      "Second name :  Gerald John \n",
      "Email : gerald.john.milan@accenture.com\n",
      "=======================================\n",
      "First name :  Gupta\n",
      "Second name :  Vivek \n",
      "Email : vivek.u.gupta@accenture.com\n",
      "=======================================\n",
      "First name :  Mandal\n",
      "Second name :  Sumit \n",
      "Email : s.sunilkumar.mandal@accenture.com\n",
      "=======================================\n",
      "First name :  Prakash Shukla\n",
      "Second name :  Ashok \n",
      "Email : ashok.prakash.shukla@accenture.com\n",
      "=======================================\n",
      "First name :  Naganathan\n",
      "Second name :  Siva \n",
      "Email : sivakumar.naganathan@accenture.com\n",
      "=======================================\n",
      "First name :  GAHLOT\n",
      "Second name :  NIKHIL \n",
      "Email : nikhil.gahlot@accenture.com\n",
      "=======================================\n",
      "First name :  Kanjilal\n",
      "Second name :  Sourav \n",
      "Email : s.a.kanti.kanjilal@accenture.com\n",
      "=======================================\n",
      "First name :  Nallagoni\n",
      "Second name :  Omkar \n",
      "Email : omkar.nallagoni@accenture.com\n",
      "=======================================\n",
      "First name :  Sahajan\n",
      "Second name :  Sandra \n",
      "Email : sandra.sahajan@accenture.com\n",
      "=======================================\n",
      "First name :  Nelluri\n",
      "Second name :  Chaitanya \n",
      "Email : chaitanya.nelluri@accenture.com\n",
      "=======================================\n"
     ]
    }
   ],
   "source": [
    "l1 = data.split(';')\n",
    "for i in range(len(l1)):\n",
    "    list(l1[i])\n",
    "    l1[i].split(';')\n",
    "    i1 = l1[i].index(',')\n",
    "    name = l1[i][:i1]\n",
    "    i2 = l1[i].index('<')\n",
    "    sec_name = l1[i][i1+1:i2]\n",
    "    i3 = l1[i].index('@')\n",
    "    email= l1[i][i2+1:-1]\n",
    "    print(f'First name : {name}'),print(f'Second name : {sec_name}'),print(f'Email : {email}'),print('=======================================')"
   ]
  },
  {
   "cell_type": "code",
   "execution_count": 23,
   "id": "53ee0dcf",
   "metadata": {},
   "outputs": [
    {
     "data": {
      "text/plain": [
       "'Santhanam'"
      ]
     },
     "execution_count": 23,
     "metadata": {},
     "output_type": "execute_result"
    }
   ],
   "source": [
    "first_name = l1[0].split(',')[0]\n",
    "first_name"
   ]
  },
  {
   "cell_type": "code",
   "execution_count": 69,
   "id": "149b3b3d",
   "metadata": {},
   "outputs": [
    {
     "data": {
      "text/plain": [
       "' Pavuluri '"
      ]
     },
     "execution_count": 69,
     "metadata": {},
     "output_type": "execute_result"
    }
   ],
   "source": [
    "l1[3].split(',')[1].split('<')[0]"
   ]
  },
  {
   "cell_type": "code",
   "execution_count": 83,
   "id": "12e8545d",
   "metadata": {},
   "outputs": [
    {
     "name": "stdout",
     "output_type": "stream",
     "text": [
      "The First name : Santhanam , Second name :  Jayendhran  , email : jayendhran.ms@accenture.com , company : accenture.com\n"
     ]
    }
   ],
   "source": [
    "s1 = 'Santhanam, Jayendhran <jayendhran.ms@accenture.com>'\n",
    "i1 = s1.index(',')\n",
    "first_name = s1[:i1]\n",
    "i2 = s1.index('<')\n",
    "second_name = s1[i1+1:i2]\n",
    "i3 = s1.index('@')\n",
    "email = s1[i2+1:-1]\n",
    "i4 = s1.index('.')\n",
    "company = s1[i3+1:-1]\n",
    "\n",
    "print(f'The First name : {first_name} , Second name : {second_name} , email : {email} , company : {company}')"
   ]
  },
  {
   "cell_type": "code",
   "execution_count": 80,
   "id": "9c040ab8",
   "metadata": {},
   "outputs": [
    {
     "data": {
      "text/plain": [
       "(' Chandra Shekhar', ' Pavuluri ', 'p.a.chandra.shekhar', 'accenture.com')"
      ]
     },
     "execution_count": 80,
     "metadata": {},
     "output_type": "execute_result"
    }
   ],
   "source": [
    "s2 = ' Chandra Shekhar, Pavuluri <p.a.chandra.shekhar@accenture.com>'\n",
    "i1 = s2.index(',')\n",
    "first_name = s2[:i1]\n",
    "i2 = s2.index('<')\n",
    "second_name = s2[i1+1:i2]\n",
    "i3 = s2.index('@')\n",
    "email = s2[i2+1:i3]\n",
    "i4 = s2.index('.com')\n",
    "company = s2[i3+1:-1]\n",
    "first_name,second_name,email,company"
   ]
  },
  {
   "cell_type": "code",
   "execution_count": 148,
   "id": "1be7dfa5",
   "metadata": {},
   "outputs": [
    {
     "data": {
      "text/plain": [
       "'C:\\\\Users\\\\DELL\\\\DS COURSE NARESH IT\\\\DS COURSE NARESH IT\\\\Python\\\\Python sessions'"
      ]
     },
     "execution_count": 148,
     "metadata": {},
     "output_type": "execute_result"
    }
   ],
   "source": [
    "import os\n",
    "os.getcwd()"
   ]
  },
  {
   "cell_type": "code",
   "execution_count": null,
   "id": "8d5d2b14",
   "metadata": {},
   "outputs": [],
   "source": []
  }
 ],
 "metadata": {
  "kernelspec": {
   "display_name": "Python 3 (ipykernel)",
   "language": "python",
   "name": "python3"
  },
  "language_info": {
   "codemirror_mode": {
    "name": "ipython",
    "version": 3
   },
   "file_extension": ".py",
   "mimetype": "text/x-python",
   "name": "python",
   "nbconvert_exporter": "python",
   "pygments_lexer": "ipython3",
   "version": "3.11.5"
  }
 },
 "nbformat": 4,
 "nbformat_minor": 5
}
