{
 "cells": [
  {
   "cell_type": "code",
   "execution_count": null,
   "id": "e700fe7e",
   "metadata": {},
   "outputs": [],
   "source": [
    "# Check even or odd"
   ]
  },
  {
   "cell_type": "code",
   "execution_count": null,
   "id": "9cd0f48a",
   "metadata": {},
   "outputs": [],
   "source": [
    "num = eval(input('Enter a number:'))\n",
    "if num%2==0:\n",
    "    print(f'{num} is even')\n",
    "else:\n",
    "    print(f'{num} is odd')"
   ]
  },
  {
   "cell_type": "code",
   "execution_count": null,
   "id": "d35d03a2",
   "metadata": {},
   "outputs": [],
   "source": [
    "import random\n",
    "for i in range(1,10):\n",
    "    num = random.randint(1,100)\n",
    "    if num%2 == 0:\n",
    "        print(f'{num} is even')\n",
    "    else:\n",
    "        print(f'{num} is odd')"
   ]
  },
  {
   "cell_type": "code",
   "execution_count": null,
   "id": "68d7e339",
   "metadata": {},
   "outputs": [],
   "source": [
    "# Check positive negative or 0"
   ]
  },
  {
   "cell_type": "code",
   "execution_count": null,
   "id": "cded8013",
   "metadata": {},
   "outputs": [],
   "source": [
    "num = eval(input('Enter a number:'))\n",
    "if num > 0:\n",
    "    print(f'{num} is positive')\n",
    "elif num == 0:\n",
    "    print(f'{num} is zero')\n",
    "else:\n",
    "    print(f'{num} is negative')    "
   ]
  },
  {
   "cell_type": "code",
   "execution_count": null,
   "id": "066e025e",
   "metadata": {},
   "outputs": [],
   "source": [
    "# Factorial of a number"
   ]
  },
  {
   "cell_type": "code",
   "execution_count": null,
   "id": "cca97a78",
   "metadata": {},
   "outputs": [],
   "source": [
    "num = eval(input('Enter a number:'))\n",
    "factorial = 1\n",
    "if num < 0:\n",
    "    print('Factorial is not possible for negative numbers')\n",
    "elif num == 0:\n",
    "    print('Factorial of 0 is 1')\n",
    "else:\n",
    "    for i in range(1, num+1):    # i = 1        i = 2         i = 3            i = 4            i = 5\n",
    "        factorial = factorial*i  # fact = 1*1    fact = 1*2    fact = 2*3        fact = 6*4       fact = 24*5     \n",
    "    print('The factorial of',num,'is',factorial)"
   ]
  },
  {
   "cell_type": "code",
   "execution_count": null,
   "id": "52a3677c",
   "metadata": {},
   "outputs": [],
   "source": [
    "# Reversing a number"
   ]
  },
  {
   "cell_type": "code",
   "execution_count": null,
   "id": "5bc632ef",
   "metadata": {},
   "outputs": [],
   "source": [
    "num = eval(input('Enter a number: '))\n",
    "reverse = 0\n",
    "while (num>0):               # 123 > 0 : True\n",
    "    digit = num%10                           # digit = 123%10 = 123/10 : 12.3 , where 3 is remainder                                                             \n",
    "    reverse = reverse*10 + digit                   # reverse = 0*10 + 3\n",
    "    num = num//10                                      # num = num//10 = 12\n",
    "print('Reverse of the number :', reverse)"
   ]
  },
  {
   "cell_type": "code",
   "execution_count": null,
   "id": "9130251d",
   "metadata": {},
   "outputs": [],
   "source": [
    "# Check if it is a palindrome"
   ]
  },
  {
   "cell_type": "code",
   "execution_count": 16,
   "id": "b9ea13e7",
   "metadata": {},
   "outputs": [
    {
     "name": "stdout",
     "output_type": "stream",
     "text": [
      "Enter a number: 121\n",
      "The given num is palindrome\n"
     ]
    }
   ],
   "source": [
    "num = eval(input('Enter a number: '))\n",
    "temp = num\n",
    "rev = 0\n",
    "while num>0:\n",
    "    digit = num%10\n",
    "    rev = rev*10 + digit\n",
    "    num = num//10\n",
    "if temp == rev:\n",
    "    print('The given num is palindrome')\n",
    "else:\n",
    "    print('The num is not a palindrome')"
   ]
  },
  {
   "cell_type": "code",
   "execution_count": 17,
   "id": "bbe685da",
   "metadata": {},
   "outputs": [],
   "source": [
    "# Fibonacci series"
   ]
  },
  {
   "cell_type": "code",
   "execution_count": 19,
   "id": "40e7e54e",
   "metadata": {},
   "outputs": [
    {
     "name": "stdout",
     "output_type": "stream",
     "text": [
      "Enter a number: 12\n",
      "1\n",
      "2\n",
      "3\n",
      "5\n",
      "8\n",
      "13\n",
      "21\n",
      "34\n",
      "55\n",
      "89\n"
     ]
    }
   ],
   "source": [
    "num = int(input('Enter a number: '))\n",
    "a = 0\n",
    "b = 1\n",
    "if num < 0:\n",
    "    print('Incorrect number')\n",
    "elif num == 0:\n",
    "    print(a)\n",
    "elif num == 1:\n",
    "    print(a)\n",
    "else:\n",
    "    for i in range(2,num):\n",
    "        c = a + b\n",
    "        a = b\n",
    "        b = c\n",
    "        print(b)"
   ]
  },
  {
   "cell_type": "code",
   "execution_count": null,
   "id": "00e74589",
   "metadata": {},
   "outputs": [],
   "source": []
  }
 ],
 "metadata": {
  "kernelspec": {
   "display_name": "Python 3 (ipykernel)",
   "language": "python",
   "name": "python3"
  },
  "language_info": {
   "codemirror_mode": {
    "name": "ipython",
    "version": 3
   },
   "file_extension": ".py",
   "mimetype": "text/x-python",
   "name": "python",
   "nbconvert_exporter": "python",
   "pygments_lexer": "ipython3",
   "version": "3.11.5"
  }
 },
 "nbformat": 4,
 "nbformat_minor": 5
}
