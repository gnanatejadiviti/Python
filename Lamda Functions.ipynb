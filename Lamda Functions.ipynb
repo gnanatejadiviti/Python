{
 "cells": [
  {
   "cell_type": "markdown",
   "id": "eab40f26",
   "metadata": {},
   "source": [
    "- Lamda functions is also a kind of funtions representation\n",
    "- More efficient"
   ]
  },
  {
   "cell_type": "code",
   "execution_count": 9,
   "id": "2ada016c",
   "metadata": {},
   "outputs": [
    {
     "data": {
      "text/plain": [
       "(100, 20)"
      ]
     },
     "execution_count": 9,
     "metadata": {},
     "output_type": "execute_result"
    }
   ],
   "source": [
    "def mul(num):\n",
    "    return(num*10,num+10)\n",
    "mul(10)\n",
    "# Func name is ===== mul\n",
    "# Variable na,e ==== num\n",
    "# return output ==== num*10"
   ]
  },
  {
   "cell_type": "markdown",
   "id": "2b59d5e4",
   "metadata": {},
   "source": [
    "**One argument**"
   ]
  },
  {
   "cell_type": "code",
   "execution_count": null,
   "id": "bc49ea3f",
   "metadata": {},
   "outputs": [],
   "source": [
    "# Syntax:\n",
    "        <Func_name> = lambda <var_name> : <return_output>"
   ]
  },
  {
   "cell_type": "code",
   "execution_count": 4,
   "id": "d7e348b2",
   "metadata": {},
   "outputs": [
    {
     "data": {
      "text/plain": [
       "150"
      ]
     },
     "execution_count": 4,
     "metadata": {},
     "output_type": "execute_result"
    }
   ],
   "source": [
    "mul = lambda num : num*10\n",
    "mul(15)"
   ]
  },
  {
   "cell_type": "code",
   "execution_count": 6,
   "id": "569b5865",
   "metadata": {},
   "outputs": [
    {
     "data": {
      "text/plain": [
       "1000"
      ]
     },
     "execution_count": 6,
     "metadata": {},
     "output_type": "execute_result"
    }
   ],
   "source": [
    "cube = lambda num : num*num*num\n",
    "cube(10)"
   ]
  },
  {
   "cell_type": "markdown",
   "id": "059e45e6",
   "metadata": {},
   "source": [
    "**Two arguments**"
   ]
  },
  {
   "cell_type": "code",
   "execution_count": null,
   "id": "e6577719",
   "metadata": {},
   "outputs": [],
   "source": [
    "# Syntax:\n",
    "        <Func_name> = lambda <var_name1>,<var_name2> : <return_output>"
   ]
  },
  {
   "cell_type": "code",
   "execution_count": 8,
   "id": "b8a56183",
   "metadata": {},
   "outputs": [
    {
     "data": {
      "text/plain": [
       "30"
      ]
     },
     "execution_count": 8,
     "metadata": {},
     "output_type": "execute_result"
    }
   ],
   "source": [
    "add = lambda n1,n2 : n1+n2\n",
    "add(10,20)"
   ]
  },
  {
   "cell_type": "code",
   "execution_count": 10,
   "id": "f2735814",
   "metadata": {},
   "outputs": [
    {
     "data": {
      "text/plain": [
       "20.0"
      ]
     },
     "execution_count": 10,
     "metadata": {},
     "output_type": "execute_result"
    }
   ],
   "source": [
    "avg = lambda n1,n2,n3 : (n1+n2+n3)/3\n",
    "avg(10,20,30)"
   ]
  },
  {
   "cell_type": "code",
   "execution_count": 14,
   "id": "127935da",
   "metadata": {},
   "outputs": [
    {
     "data": {
      "text/plain": [
       "30"
      ]
     },
     "execution_count": 14,
     "metadata": {},
     "output_type": "execute_result"
    }
   ],
   "source": [
    "summ = lambda n1=10,n2=20 : n1+n2\n",
    "summ()"
   ]
  },
  {
   "cell_type": "code",
   "execution_count": 15,
   "id": "7ba6c105",
   "metadata": {},
   "outputs": [
    {
     "data": {
      "text/plain": [
       "200"
      ]
     },
     "execution_count": 15,
     "metadata": {},
     "output_type": "execute_result"
    }
   ],
   "source": [
    "sub = lambda n1,n2=200 : n1-n2\n",
    "sub(400)"
   ]
  },
  {
   "cell_type": "markdown",
   "id": "a759c0fe",
   "metadata": {},
   "source": [
    "**If-else**"
   ]
  },
  {
   "cell_type": "code",
   "execution_count": 16,
   "id": "9823223e",
   "metadata": {},
   "outputs": [
    {
     "data": {
      "text/plain": [
       "50"
      ]
     },
     "execution_count": 16,
     "metadata": {},
     "output_type": "execute_result"
    }
   ],
   "source": [
    "def Max(n1,n2):\n",
    "    if n1>n2:\n",
    "        return(n1)\n",
    "    else:\n",
    "        return(n2)\n",
    "Max(25,50)"
   ]
  },
  {
   "cell_type": "code",
   "execution_count": null,
   "id": "1fd3d33b",
   "metadata": {},
   "outputs": [],
   "source": [
    "# Syntax\n",
    "    <Func_name> = lambda <v1,v2,v3,...>:<if_out> <if_cond> <else> <else_out>"
   ]
  },
  {
   "cell_type": "code",
   "execution_count": 18,
   "id": "8198d399",
   "metadata": {},
   "outputs": [
    {
     "data": {
      "text/plain": [
       "20"
      ]
     },
     "execution_count": 18,
     "metadata": {},
     "output_type": "execute_result"
    }
   ],
   "source": [
    "Max = lambda n1,n2 : n1 if n1>n2 else n2\n",
    "Max(10,20)"
   ]
  },
  {
   "cell_type": "markdown",
   "id": "b6816978",
   "metadata": {},
   "source": [
    "**List**"
   ]
  },
  {
   "cell_type": "code",
   "execution_count": 20,
   "id": "efe52ac9",
   "metadata": {},
   "outputs": [
    {
     "data": {
      "text/plain": [
       "['Hyd', 'Mumbai', 'Chennai']"
      ]
     },
     "execution_count": 20,
     "metadata": {},
     "output_type": "execute_result"
    }
   ],
   "source": [
    "list1 = ['hyd','mumbai','chennai']\n",
    "list2 = []\n",
    "for i in list1:\n",
    "    list2.append(i.capitalize())\n",
    "list2"
   ]
  },
  {
   "cell_type": "code",
   "execution_count": 21,
   "id": "f543edda",
   "metadata": {},
   "outputs": [
    {
     "data": {
      "text/plain": [
       "['Hyd', 'Mumbai', 'Chennai']"
      ]
     },
     "execution_count": 21,
     "metadata": {},
     "output_type": "execute_result"
    }
   ],
   "source": [
    "list2 = [i.capitalize() for i in list1]\n",
    "list2"
   ]
  },
  {
   "cell_type": "code",
   "execution_count": null,
   "id": "95a909ec",
   "metadata": {},
   "outputs": [],
   "source": [
    "# Syntax\n",
    " <Func_name> = lambda <var> : <output> , <iterator>"
   ]
  },
  {
   "cell_type": "code",
   "execution_count": 22,
   "id": "5ab1d195",
   "metadata": {},
   "outputs": [
    {
     "data": {
      "text/plain": [
       "(<function __main__.<lambda>(i)>, ['hyd', 'mumbai', 'chennai'])"
      ]
     },
     "execution_count": 22,
     "metadata": {},
     "output_type": "execute_result"
    }
   ],
   "source": [
    "list1 = ['hyd','mumbai','chennai']\n",
    "lambda i : i.capitalize(),list1"
   ]
  },
  {
   "cell_type": "markdown",
   "id": "94803149",
   "metadata": {},
   "source": [
    "##### Map"
   ]
  },
  {
   "cell_type": "code",
   "execution_count": 23,
   "id": "f76bb9d4",
   "metadata": {},
   "outputs": [],
   "source": [
    "list1 = ['hyd','mumbai','chennai']\n",
    "# lambda i : i.capita"
   ]
  },
  {
   "cell_type": "code",
   "execution_count": 31,
   "id": "0e9f1cee",
   "metadata": {},
   "outputs": [
    {
     "data": {
      "text/plain": [
       "['Hyd', 'Mumbai', 'Chennai']"
      ]
     },
     "execution_count": 31,
     "metadata": {},
     "output_type": "execute_result"
    }
   ],
   "source": [
    "list2 = list(map(lambda i: i.capitalize(), list1))\n",
    "list2"
   ]
  },
  {
   "cell_type": "markdown",
   "id": "cdd8d3e4",
   "metadata": {},
   "source": [
    "list2"
   ]
  },
  {
   "cell_type": "code",
   "execution_count": 25,
   "id": "fa87b25e",
   "metadata": {},
   "outputs": [
    {
     "name": "stdout",
     "output_type": "stream",
     "text": [
      "['Hyd', 'Mumbai', 'Chennai']\n"
     ]
    }
   ],
   "source": [
    "print(list2)"
   ]
  },
  {
   "cell_type": "code",
   "execution_count": 30,
   "id": "33062091",
   "metadata": {},
   "outputs": [
    {
     "name": "stdout",
     "output_type": "stream",
     "text": [
      "[1, 4, 9, 16]\n"
     ]
    }
   ],
   "source": [
    "l1=[1,2,3,4]\n",
    "l2 = list(map(lambda i : i*i, l1))\n",
    "print(l2)"
   ]
  },
  {
   "cell_type": "code",
   "execution_count": 35,
   "id": "c2fc17be",
   "metadata": {},
   "outputs": [
    {
     "data": {
      "text/plain": [
       "[True, True, True, False, False]"
      ]
     },
     "execution_count": 35,
     "metadata": {},
     "output_type": "execute_result"
    }
   ],
   "source": [
    "l1 = ['hyder#abad','Mum#bai','Chenn#ai','Blr','pune']\n",
    "list(map(lambda i : '#' in i,l1))"
   ]
  },
  {
   "cell_type": "markdown",
   "id": "b25af63a",
   "metadata": {},
   "source": [
    "##### Filter"
   ]
  },
  {
   "cell_type": "code",
   "execution_count": 34,
   "id": "77d231fa",
   "metadata": {},
   "outputs": [
    {
     "data": {
      "text/plain": [
       "['hyder#abad', 'Mum#bai', 'Chenn#ai']"
      ]
     },
     "execution_count": 34,
     "metadata": {},
     "output_type": "execute_result"
    }
   ],
   "source": [
    "l1 = ['hyder#abad','Mum#bai','Chenn#ai','Blr','pune']\n",
    "list(filter(lambda i : '#' in i,l1))"
   ]
  },
  {
   "cell_type": "code",
   "execution_count": null,
   "id": "87a37ec4",
   "metadata": {},
   "outputs": [],
   "source": []
  },
  {
   "cell_type": "code",
   "execution_count": null,
   "id": "387b7785",
   "metadata": {},
   "outputs": [],
   "source": []
  },
  {
   "cell_type": "code",
   "execution_count": null,
   "id": "b641fca3",
   "metadata": {},
   "outputs": [],
   "source": []
  },
  {
   "cell_type": "code",
   "execution_count": null,
   "id": "16b7d1a6",
   "metadata": {},
   "outputs": [],
   "source": []
  }
 ],
 "metadata": {
  "kernelspec": {
   "display_name": "Python 3 (ipykernel)",
   "language": "python",
   "name": "python3"
  },
  "language_info": {
   "codemirror_mode": {
    "name": "ipython",
    "version": 3
   },
   "file_extension": ".py",
   "mimetype": "text/x-python",
   "name": "python",
   "nbconvert_exporter": "python",
   "pygments_lexer": "ipython3",
   "version": "3.11.5"
  }
 },
 "nbformat": 4,
 "nbformat_minor": 5
}
